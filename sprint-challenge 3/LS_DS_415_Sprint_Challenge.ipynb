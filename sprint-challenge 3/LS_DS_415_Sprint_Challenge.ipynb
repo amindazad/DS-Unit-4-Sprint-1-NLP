{
 "cells": [
  {
   "cell_type": "markdown",
   "metadata": {},
   "source": [
    "<img align=\"left\" src=\"https://lever-client-logos.s3.amazonaws.com/864372b1-534c-480e-acd5-9711f850815c-1524247202159.png\" width=200>\n",
    "<br></br>\n",
    "<br></br>\n",
    "\n",
    "# Sprint Challenge\n",
    "## *Data Science Unit 4 Sprint 1*\n",
    "\n",
    "After a week of Natural Language Processing, you've learned some cool new stuff: how to process text, how turn text into vectors, and how to model topics from documents. Apply your newly acquired skills to one of the most famous NLP datasets out there: [Yelp](https://www.yelp.com/dataset/challenge). As part of the job selection process, some of my friends have been asked to create analysis of this dataset, so I want to empower you to have a head start.  \n",
    "\n",
    "The real dataset is massive (almost 8 gigs uncompressed). I've sampled the data for you to something more managable for the Sprint Challenge. You can analyze the full dataset as a stretch goal or after the sprint challenge. As you work on the challenge, I suggest adding notes about your findings and things you want to analyze in the future.\n",
    "\n",
    "## Challenge Objectives\n",
    "*Successfully complete these all these objectives to earn a 2. There are more details on each objective further down in the notebook.*\n",
    "* <a href=\"#p1\">Part 1</a>: Write a function to tokenize the yelp reviews\n",
    "* <a href=\"#p2\">Part 2</a>: Create a vector representation of those tokens\n",
    "* <a href=\"#p3\">Part 3</a>: Use your tokens in a classification model on yelp rating\n",
    "* <a href=\"#p4\">Part 4</a>: Estimate & Interpret a topic model of the Yelp reviews"
   ]
  },
  {
   "cell_type": "code",
   "execution_count": 4,
   "metadata": {},
   "outputs": [],
   "source": [
    "import pandas as pd\n",
    "\n",
    "yelp = pd.read_json('./data/review_sample.json', lines=True)"
   ]
  },
  {
   "cell_type": "code",
   "execution_count": 5,
   "metadata": {},
   "outputs": [
    {
     "data": {
      "text/html": [
       "<div>\n",
       "<style scoped>\n",
       "    .dataframe tbody tr th:only-of-type {\n",
       "        vertical-align: middle;\n",
       "    }\n",
       "\n",
       "    .dataframe tbody tr th {\n",
       "        vertical-align: top;\n",
       "    }\n",
       "\n",
       "    .dataframe thead th {\n",
       "        text-align: right;\n",
       "    }\n",
       "</style>\n",
       "<table border=\"1\" class=\"dataframe\">\n",
       "  <thead>\n",
       "    <tr style=\"text-align: right;\">\n",
       "      <th></th>\n",
       "      <th>business_id</th>\n",
       "      <th>cool</th>\n",
       "      <th>date</th>\n",
       "      <th>funny</th>\n",
       "      <th>review_id</th>\n",
       "      <th>stars</th>\n",
       "      <th>text</th>\n",
       "      <th>useful</th>\n",
       "      <th>user_id</th>\n",
       "    </tr>\n",
       "  </thead>\n",
       "  <tbody>\n",
       "    <tr>\n",
       "      <th>0</th>\n",
       "      <td>nDuEqIyRc8YKS1q1fX0CZg</td>\n",
       "      <td>1</td>\n",
       "      <td>2015-03-31 16:50:30</td>\n",
       "      <td>0</td>\n",
       "      <td>eZs2tpEJtXPwawvHnHZIgQ</td>\n",
       "      <td>1</td>\n",
       "      <td>BEWARE!!! FAKE, FAKE, FAKE....We also own a sm...</td>\n",
       "      <td>10</td>\n",
       "      <td>n1LM36qNg4rqGXIcvVXv8w</td>\n",
       "    </tr>\n",
       "    <tr>\n",
       "      <th>1</th>\n",
       "      <td>eMYeEapscbKNqUDCx705hg</td>\n",
       "      <td>0</td>\n",
       "      <td>2015-12-16 05:31:03</td>\n",
       "      <td>0</td>\n",
       "      <td>DoQDWJsNbU0KL1O29l_Xug</td>\n",
       "      <td>4</td>\n",
       "      <td>Came here for lunch Togo. Service was quick. S...</td>\n",
       "      <td>0</td>\n",
       "      <td>5CgjjDAic2-FAvCtiHpytA</td>\n",
       "    </tr>\n",
       "    <tr>\n",
       "      <th>2</th>\n",
       "      <td>6Q7-wkCPc1KF75jZLOTcMw</td>\n",
       "      <td>1</td>\n",
       "      <td>2010-06-20 19:14:48</td>\n",
       "      <td>1</td>\n",
       "      <td>DDOdGU7zh56yQHmUnL1idQ</td>\n",
       "      <td>3</td>\n",
       "      <td>I've been to Vegas dozens of times and had nev...</td>\n",
       "      <td>2</td>\n",
       "      <td>BdV-cf3LScmb8kZ7iiBcMA</td>\n",
       "    </tr>\n",
       "    <tr>\n",
       "      <th>3</th>\n",
       "      <td>k3zrItO4l9hwfLRwHBDc9w</td>\n",
       "      <td>3</td>\n",
       "      <td>2010-07-13 00:33:45</td>\n",
       "      <td>4</td>\n",
       "      <td>LfTMUWnfGFMOfOIyJcwLVA</td>\n",
       "      <td>1</td>\n",
       "      <td>We went here on a night where they closed off ...</td>\n",
       "      <td>5</td>\n",
       "      <td>cZZnBqh4gAEy4CdNvJailQ</td>\n",
       "    </tr>\n",
       "    <tr>\n",
       "      <th>4</th>\n",
       "      <td>6hpfRwGlOzbNv7k5eP9rsQ</td>\n",
       "      <td>1</td>\n",
       "      <td>2018-06-30 02:30:01</td>\n",
       "      <td>0</td>\n",
       "      <td>zJSUdI7bJ8PNJAg4lnl_Gg</td>\n",
       "      <td>4</td>\n",
       "      <td>3.5 to 4 stars\\n\\nNot bad for the price, $12.9...</td>\n",
       "      <td>5</td>\n",
       "      <td>n9QO4ClYAS7h9fpQwa5bhA</td>\n",
       "    </tr>\n",
       "  </tbody>\n",
       "</table>\n",
       "</div>"
      ],
      "text/plain": [
       "              business_id  cool                date  funny  \\\n",
       "0  nDuEqIyRc8YKS1q1fX0CZg     1 2015-03-31 16:50:30      0   \n",
       "1  eMYeEapscbKNqUDCx705hg     0 2015-12-16 05:31:03      0   \n",
       "2  6Q7-wkCPc1KF75jZLOTcMw     1 2010-06-20 19:14:48      1   \n",
       "3  k3zrItO4l9hwfLRwHBDc9w     3 2010-07-13 00:33:45      4   \n",
       "4  6hpfRwGlOzbNv7k5eP9rsQ     1 2018-06-30 02:30:01      0   \n",
       "\n",
       "                review_id  stars  \\\n",
       "0  eZs2tpEJtXPwawvHnHZIgQ      1   \n",
       "1  DoQDWJsNbU0KL1O29l_Xug      4   \n",
       "2  DDOdGU7zh56yQHmUnL1idQ      3   \n",
       "3  LfTMUWnfGFMOfOIyJcwLVA      1   \n",
       "4  zJSUdI7bJ8PNJAg4lnl_Gg      4   \n",
       "\n",
       "                                                text  useful  \\\n",
       "0  BEWARE!!! FAKE, FAKE, FAKE....We also own a sm...      10   \n",
       "1  Came here for lunch Togo. Service was quick. S...       0   \n",
       "2  I've been to Vegas dozens of times and had nev...       2   \n",
       "3  We went here on a night where they closed off ...       5   \n",
       "4  3.5 to 4 stars\\n\\nNot bad for the price, $12.9...       5   \n",
       "\n",
       "                  user_id  \n",
       "0  n1LM36qNg4rqGXIcvVXv8w  \n",
       "1  5CgjjDAic2-FAvCtiHpytA  \n",
       "2  BdV-cf3LScmb8kZ7iiBcMA  \n",
       "3  cZZnBqh4gAEy4CdNvJailQ  \n",
       "4  n9QO4ClYAS7h9fpQwa5bhA  "
      ]
     },
     "execution_count": 5,
     "metadata": {},
     "output_type": "execute_result"
    }
   ],
   "source": [
    "yelp.head()"
   ]
  },
  {
   "cell_type": "markdown",
   "metadata": {},
   "source": [
    "## Part 1: Tokenize Function\n",
    "<a id=\"#p1\"></a>\n",
    "\n",
    "Complete the function `tokenize`. Your function should\n",
    "- accept one document at a time\n",
    "- return a list of tokens\n",
    "\n",
    "You are free to use any method you have learned this week."
   ]
  },
  {
   "cell_type": "code",
   "execution_count": 6,
   "metadata": {},
   "outputs": [],
   "source": [
    "import pandas as pd\n",
    "import numpy as np\n",
    "import spacy\n",
    "\n",
    "df = yelp \n",
    "\n",
    "nlp = spacy.load(\"en_core_web_lg\")\n",
    "\n",
    "lemmas = []\n",
    "\n",
    "for doc in nlp.pipe(df['text']):\n",
    "    \n",
    "    d_lems = []\n",
    "    \n",
    "    for token in doc:\n",
    "        if ((token.is_stop == False) and (token.is_punct == False)) :\n",
    "            d_lems.append(token.lemma_)\n",
    "    lemmas.append(d_lems)\n",
    "    \n",
    "df['tokens'] = lemmas"
   ]
  },
  {
   "cell_type": "code",
   "execution_count": 7,
   "metadata": {},
   "outputs": [
    {
     "data": {
      "text/html": [
       "<div>\n",
       "<style scoped>\n",
       "    .dataframe tbody tr th:only-of-type {\n",
       "        vertical-align: middle;\n",
       "    }\n",
       "\n",
       "    .dataframe tbody tr th {\n",
       "        vertical-align: top;\n",
       "    }\n",
       "\n",
       "    .dataframe thead th {\n",
       "        text-align: right;\n",
       "    }\n",
       "</style>\n",
       "<table border=\"1\" class=\"dataframe\">\n",
       "  <thead>\n",
       "    <tr style=\"text-align: right;\">\n",
       "      <th></th>\n",
       "      <th>business_id</th>\n",
       "      <th>cool</th>\n",
       "      <th>date</th>\n",
       "      <th>funny</th>\n",
       "      <th>review_id</th>\n",
       "      <th>stars</th>\n",
       "      <th>text</th>\n",
       "      <th>useful</th>\n",
       "      <th>user_id</th>\n",
       "      <th>tokens</th>\n",
       "    </tr>\n",
       "  </thead>\n",
       "  <tbody>\n",
       "    <tr>\n",
       "      <th>0</th>\n",
       "      <td>nDuEqIyRc8YKS1q1fX0CZg</td>\n",
       "      <td>1</td>\n",
       "      <td>2015-03-31 16:50:30</td>\n",
       "      <td>0</td>\n",
       "      <td>eZs2tpEJtXPwawvHnHZIgQ</td>\n",
       "      <td>1</td>\n",
       "      <td>BEWARE!!! FAKE, FAKE, FAKE....We also own a sm...</td>\n",
       "      <td>10</td>\n",
       "      <td>n1LM36qNg4rqGXIcvVXv8w</td>\n",
       "      <td>[beware, fake, fake, fake, small, business, Lo...</td>\n",
       "    </tr>\n",
       "    <tr>\n",
       "      <th>1</th>\n",
       "      <td>eMYeEapscbKNqUDCx705hg</td>\n",
       "      <td>0</td>\n",
       "      <td>2015-12-16 05:31:03</td>\n",
       "      <td>0</td>\n",
       "      <td>DoQDWJsNbU0KL1O29l_Xug</td>\n",
       "      <td>4</td>\n",
       "      <td>Came here for lunch Togo. Service was quick. S...</td>\n",
       "      <td>0</td>\n",
       "      <td>5CgjjDAic2-FAvCtiHpytA</td>\n",
       "      <td>[come, lunch, Togo, service, quick, staff, fri...</td>\n",
       "    </tr>\n",
       "    <tr>\n",
       "      <th>2</th>\n",
       "      <td>6Q7-wkCPc1KF75jZLOTcMw</td>\n",
       "      <td>1</td>\n",
       "      <td>2010-06-20 19:14:48</td>\n",
       "      <td>1</td>\n",
       "      <td>DDOdGU7zh56yQHmUnL1idQ</td>\n",
       "      <td>3</td>\n",
       "      <td>I've been to Vegas dozens of times and had nev...</td>\n",
       "      <td>2</td>\n",
       "      <td>BdV-cf3LScmb8kZ7iiBcMA</td>\n",
       "      <td>[Vegas, dozen, time, step, foot, Circus, Circu...</td>\n",
       "    </tr>\n",
       "    <tr>\n",
       "      <th>3</th>\n",
       "      <td>k3zrItO4l9hwfLRwHBDc9w</td>\n",
       "      <td>3</td>\n",
       "      <td>2010-07-13 00:33:45</td>\n",
       "      <td>4</td>\n",
       "      <td>LfTMUWnfGFMOfOIyJcwLVA</td>\n",
       "      <td>1</td>\n",
       "      <td>We went here on a night where they closed off ...</td>\n",
       "      <td>5</td>\n",
       "      <td>cZZnBqh4gAEy4CdNvJailQ</td>\n",
       "      <td>[go, night, close, street, party, good, actual...</td>\n",
       "    </tr>\n",
       "    <tr>\n",
       "      <th>4</th>\n",
       "      <td>6hpfRwGlOzbNv7k5eP9rsQ</td>\n",
       "      <td>1</td>\n",
       "      <td>2018-06-30 02:30:01</td>\n",
       "      <td>0</td>\n",
       "      <td>zJSUdI7bJ8PNJAg4lnl_Gg</td>\n",
       "      <td>4</td>\n",
       "      <td>3.5 to 4 stars\\n\\nNot bad for the price, $12.9...</td>\n",
       "      <td>5</td>\n",
       "      <td>n9QO4ClYAS7h9fpQwa5bhA</td>\n",
       "      <td>[3.5, 4, star, \\n\\n, bad, price, $, 12.99, lun...</td>\n",
       "    </tr>\n",
       "  </tbody>\n",
       "</table>\n",
       "</div>"
      ],
      "text/plain": [
       "              business_id  cool                date  funny  \\\n",
       "0  nDuEqIyRc8YKS1q1fX0CZg     1 2015-03-31 16:50:30      0   \n",
       "1  eMYeEapscbKNqUDCx705hg     0 2015-12-16 05:31:03      0   \n",
       "2  6Q7-wkCPc1KF75jZLOTcMw     1 2010-06-20 19:14:48      1   \n",
       "3  k3zrItO4l9hwfLRwHBDc9w     3 2010-07-13 00:33:45      4   \n",
       "4  6hpfRwGlOzbNv7k5eP9rsQ     1 2018-06-30 02:30:01      0   \n",
       "\n",
       "                review_id  stars  \\\n",
       "0  eZs2tpEJtXPwawvHnHZIgQ      1   \n",
       "1  DoQDWJsNbU0KL1O29l_Xug      4   \n",
       "2  DDOdGU7zh56yQHmUnL1idQ      3   \n",
       "3  LfTMUWnfGFMOfOIyJcwLVA      1   \n",
       "4  zJSUdI7bJ8PNJAg4lnl_Gg      4   \n",
       "\n",
       "                                                text  useful  \\\n",
       "0  BEWARE!!! FAKE, FAKE, FAKE....We also own a sm...      10   \n",
       "1  Came here for lunch Togo. Service was quick. S...       0   \n",
       "2  I've been to Vegas dozens of times and had nev...       2   \n",
       "3  We went here on a night where they closed off ...       5   \n",
       "4  3.5 to 4 stars\\n\\nNot bad for the price, $12.9...       5   \n",
       "\n",
       "                  user_id                                             tokens  \n",
       "0  n1LM36qNg4rqGXIcvVXv8w  [beware, fake, fake, fake, small, business, Lo...  \n",
       "1  5CgjjDAic2-FAvCtiHpytA  [come, lunch, Togo, service, quick, staff, fri...  \n",
       "2  BdV-cf3LScmb8kZ7iiBcMA  [Vegas, dozen, time, step, foot, Circus, Circu...  \n",
       "3  cZZnBqh4gAEy4CdNvJailQ  [go, night, close, street, party, good, actual...  \n",
       "4  n9QO4ClYAS7h9fpQwa5bhA  [3.5, 4, star, \\n\\n, bad, price, $, 12.99, lun...  "
      ]
     },
     "execution_count": 7,
     "metadata": {},
     "output_type": "execute_result"
    }
   ],
   "source": [
    "df.head()"
   ]
  },
  {
   "cell_type": "code",
   "execution_count": 8,
   "metadata": {},
   "outputs": [],
   "source": [
    "# Vizualize the most common words\n",
    "from collections import Counter\n",
    "\n",
    "def count(docs):\n",
    "    word_counts = Counter()\n",
    "    appears_in = Counter()\n",
    "    \n",
    "    total_docs = len(docs)\n",
    "    \n",
    "    for doc in docs:\n",
    "        word_counts.update(doc)\n",
    "        appears_in.update(set(doc))\n",
    "    \n",
    "    temp = zip(word_counts.keys(), word_counts.values())\n",
    "    wc = pd.DataFrame(temp, columns=['word', 'count'])\n",
    "    \n",
    "    wc['rank'] = wc['count'].rank(method='first', ascending=False)\n",
    "    \n",
    "    total = wc['count'].sum()\n",
    "    \n",
    "    wc['total_pct'] =  wc['count'].apply(lambda x: x / total)\n",
    "    \n",
    "    wc = wc.sort_values(by='rank')\n",
    "    wc['cum_pct_total'] = wc['total_pct'].cumsum()\n",
    "    \n",
    "    t2 = zip(appears_in.keys(), appears_in.values())\n",
    "    ac = pd.DataFrame(t2, columns=['word', 'appears_in'])\n",
    "    wc = ac.merge(wc , on='word')\n",
    "    \n",
    "    wc['appears_in_pct'] = wc['appears_in'].apply(lambda x: x / total_docs)\n",
    "    \n",
    "    return wc.sort_values(by='rank')"
   ]
  },
  {
   "cell_type": "code",
   "execution_count": 9,
   "metadata": {},
   "outputs": [
    {
     "data": {
      "image/png": "[encoded data removed]",
      "text/plain": [
       "<Figure size 432x288 with 1 Axes>"
      ]
     },
     "metadata": {
      "needs_background": "light"
     },
     "output_type": "display_data"
    }
   ],
   "source": [
    "import squarify\n",
    "import matplotlib.pyplot as plt\n",
    "\n",
    "wc = count(df['tokens'])\n",
    "\n",
    "wc_top20 = wc[wc['rank'] <= 20]\n",
    "\n",
    "squarify.plot(sizes=wc_top20['total_pct'], label=wc_top20['word'], alpha=.8 )\n",
    "plt.axis('off')\n",
    "plt.show()"
   ]
  },
  {
   "cell_type": "code",
   "execution_count": 10,
   "metadata": {},
   "outputs": [],
   "source": [
    "# Initiating stop words\n",
    "STOP_WORDS = nlp.Defaults.stop_words.union([\" \", \"  \", \"   \", \"$\"])"
   ]
  },
  {
   "cell_type": "code",
   "execution_count": 11,
   "metadata": {},
   "outputs": [],
   "source": [
    "lemmas = []\n",
    "\n",
    "for doc in nlp.pipe(df['text']):\n",
    "    \n",
    "    d_lems = []\n",
    "    \n",
    "    for token in doc:\n",
    "        if ((token.is_stop == False) and (token.is_punct == False) and (token.text.lower() not in STOP_WORDS)) :\n",
    "            d_lems.append(token.lemma_)\n",
    "    lemmas.append(d_lems)\n",
    "    \n",
    "df['tokens'] = lemmas"
   ]
  },
  {
   "cell_type": "code",
   "execution_count": 12,
   "metadata": {},
   "outputs": [
    {
     "data": {
      "image/png": "[encoded data removed]",
      "text/plain": [
       "<Figure size 432x288 with 1 Axes>"
      ]
     },
     "metadata": {
      "needs_background": "light"
     },
     "output_type": "display_data"
    }
   ],
   "source": [
    "wc = count(df['tokens'])\n",
    "\n",
    "wc_top20 = wc[wc['rank'] <= 20]\n",
    "\n",
    "squarify.plot(sizes=wc_top20['total_pct'], label=wc_top20['word'], alpha=.8 )\n",
    "plt.axis('off')\n",
    "plt.show()"
   ]
  },
  {
   "cell_type": "code",
   "execution_count": 13,
   "metadata": {},
   "outputs": [],
   "source": [
    "def tokenize(doc):\n",
    "    \n",
    "    doc = nlp(doc)\n",
    "    \n",
    "    return [token.lemma_.strip() for token in doc if (token.is_stop == False) and (token.is_punct == False) and (token.text.lower() not in STOP_WORDS)]"
   ]
  },
  {
   "cell_type": "markdown",
   "metadata": {},
   "source": [
    "## Part 2: Vector Representation\n",
    "<a id=\"#p2\"></a>\n",
    "1. Create a vector representation of the reviews\n",
    "2. Write a fake review and query for the 10 most similiar reviews, print the text of the reviews. Do you notice any patterns?\n",
    "    - Given the size of the dataset, it will probably be best to use a `NearestNeighbors` model for this. "
   ]
  },
  {
   "cell_type": "code",
   "execution_count": 14,
   "metadata": {},
   "outputs": [
    {
     "data": {
      "text/html": [
       "<div>\n",
       "<style scoped>\n",
       "    .dataframe tbody tr th:only-of-type {\n",
       "        vertical-align: middle;\n",
       "    }\n",
       "\n",
       "    .dataframe tbody tr th {\n",
       "        vertical-align: top;\n",
       "    }\n",
       "\n",
       "    .dataframe thead th {\n",
       "        text-align: right;\n",
       "    }\n",
       "</style>\n",
       "<table border=\"1\" class=\"dataframe\">\n",
       "  <thead>\n",
       "    <tr style=\"text-align: right;\">\n",
       "      <th></th>\n",
       "      <th></th>\n",
       "      <th></th>\n",
       "      <th>+</th>\n",
       "      <th>1</th>\n",
       "      <th>2</th>\n",
       "      <th>3</th>\n",
       "      <th>4</th>\n",
       "      <th>5</th>\n",
       "      <th>ambiance</th>\n",
       "      <th>arrive</th>\n",
       "      <th>...</th>\n",
       "      <th>yummy</th>\n",
       "      <th>yummy</th>\n",
       "      <th>zero</th>\n",
       "      <th>zero star</th>\n",
       "      <th>zone</th>\n",
       "      <th>zoo</th>\n",
       "      <th>zucchini</th>\n",
       "      <th>~</th>\n",
       "      <th>à</th>\n",
       "      <th>était</th>\n",
       "    </tr>\n",
       "  </thead>\n",
       "  <tbody>\n",
       "    <tr>\n",
       "      <th>0</th>\n",
       "      <td>0.000000</td>\n",
       "      <td>0.0</td>\n",
       "      <td>0.0</td>\n",
       "      <td>0.0</td>\n",
       "      <td>0.0</td>\n",
       "      <td>0.0</td>\n",
       "      <td>0.0</td>\n",
       "      <td>0.0</td>\n",
       "      <td>0.0</td>\n",
       "      <td>0.0</td>\n",
       "      <td>...</td>\n",
       "      <td>0.0</td>\n",
       "      <td>0.0</td>\n",
       "      <td>0.0</td>\n",
       "      <td>0.0</td>\n",
       "      <td>0.0</td>\n",
       "      <td>0.0</td>\n",
       "      <td>0.0</td>\n",
       "      <td>0.0</td>\n",
       "      <td>0.0</td>\n",
       "      <td>0.0</td>\n",
       "    </tr>\n",
       "    <tr>\n",
       "      <th>1</th>\n",
       "      <td>0.000000</td>\n",
       "      <td>0.0</td>\n",
       "      <td>0.0</td>\n",
       "      <td>0.0</td>\n",
       "      <td>0.0</td>\n",
       "      <td>0.0</td>\n",
       "      <td>0.0</td>\n",
       "      <td>0.0</td>\n",
       "      <td>0.0</td>\n",
       "      <td>0.0</td>\n",
       "      <td>...</td>\n",
       "      <td>0.0</td>\n",
       "      <td>0.0</td>\n",
       "      <td>0.0</td>\n",
       "      <td>0.0</td>\n",
       "      <td>0.0</td>\n",
       "      <td>0.0</td>\n",
       "      <td>0.0</td>\n",
       "      <td>0.0</td>\n",
       "      <td>0.0</td>\n",
       "      <td>0.0</td>\n",
       "    </tr>\n",
       "    <tr>\n",
       "      <th>2</th>\n",
       "      <td>0.029599</td>\n",
       "      <td>0.0</td>\n",
       "      <td>0.0</td>\n",
       "      <td>0.0</td>\n",
       "      <td>0.0</td>\n",
       "      <td>0.0</td>\n",
       "      <td>0.0</td>\n",
       "      <td>0.0</td>\n",
       "      <td>0.0</td>\n",
       "      <td>0.0</td>\n",
       "      <td>...</td>\n",
       "      <td>0.0</td>\n",
       "      <td>0.0</td>\n",
       "      <td>0.0</td>\n",
       "      <td>0.0</td>\n",
       "      <td>0.0</td>\n",
       "      <td>0.0</td>\n",
       "      <td>0.0</td>\n",
       "      <td>0.0</td>\n",
       "      <td>0.0</td>\n",
       "      <td>0.0</td>\n",
       "    </tr>\n",
       "    <tr>\n",
       "      <th>3</th>\n",
       "      <td>0.000000</td>\n",
       "      <td>0.0</td>\n",
       "      <td>0.0</td>\n",
       "      <td>0.0</td>\n",
       "      <td>0.0</td>\n",
       "      <td>0.0</td>\n",
       "      <td>0.0</td>\n",
       "      <td>0.0</td>\n",
       "      <td>0.0</td>\n",
       "      <td>0.0</td>\n",
       "      <td>...</td>\n",
       "      <td>0.0</td>\n",
       "      <td>0.0</td>\n",
       "      <td>0.0</td>\n",
       "      <td>0.0</td>\n",
       "      <td>0.0</td>\n",
       "      <td>0.0</td>\n",
       "      <td>0.0</td>\n",
       "      <td>0.0</td>\n",
       "      <td>0.0</td>\n",
       "      <td>0.0</td>\n",
       "    </tr>\n",
       "    <tr>\n",
       "      <th>4</th>\n",
       "      <td>0.199880</td>\n",
       "      <td>0.0</td>\n",
       "      <td>0.0</td>\n",
       "      <td>0.0</td>\n",
       "      <td>0.0</td>\n",
       "      <td>0.0</td>\n",
       "      <td>0.0</td>\n",
       "      <td>0.0</td>\n",
       "      <td>0.0</td>\n",
       "      <td>0.0</td>\n",
       "      <td>...</td>\n",
       "      <td>0.0</td>\n",
       "      <td>0.0</td>\n",
       "      <td>0.0</td>\n",
       "      <td>0.0</td>\n",
       "      <td>0.0</td>\n",
       "      <td>0.0</td>\n",
       "      <td>0.0</td>\n",
       "      <td>0.0</td>\n",
       "      <td>0.0</td>\n",
       "      <td>0.0</td>\n",
       "    </tr>\n",
       "    <tr>\n",
       "      <th>...</th>\n",
       "      <td>...</td>\n",
       "      <td>...</td>\n",
       "      <td>...</td>\n",
       "      <td>...</td>\n",
       "      <td>...</td>\n",
       "      <td>...</td>\n",
       "      <td>...</td>\n",
       "      <td>...</td>\n",
       "      <td>...</td>\n",
       "      <td>...</td>\n",
       "      <td>...</td>\n",
       "      <td>...</td>\n",
       "      <td>...</td>\n",
       "      <td>...</td>\n",
       "      <td>...</td>\n",
       "      <td>...</td>\n",
       "      <td>...</td>\n",
       "      <td>...</td>\n",
       "      <td>...</td>\n",
       "      <td>...</td>\n",
       "      <td>...</td>\n",
       "    </tr>\n",
       "    <tr>\n",
       "      <th>9995</th>\n",
       "      <td>0.047993</td>\n",
       "      <td>0.0</td>\n",
       "      <td>0.0</td>\n",
       "      <td>0.0</td>\n",
       "      <td>0.0</td>\n",
       "      <td>0.0</td>\n",
       "      <td>0.0</td>\n",
       "      <td>0.0</td>\n",
       "      <td>0.0</td>\n",
       "      <td>0.0</td>\n",
       "      <td>...</td>\n",
       "      <td>0.0</td>\n",
       "      <td>0.0</td>\n",
       "      <td>0.0</td>\n",
       "      <td>0.0</td>\n",
       "      <td>0.0</td>\n",
       "      <td>0.0</td>\n",
       "      <td>0.0</td>\n",
       "      <td>0.0</td>\n",
       "      <td>0.0</td>\n",
       "      <td>0.0</td>\n",
       "    </tr>\n",
       "    <tr>\n",
       "      <th>9996</th>\n",
       "      <td>0.000000</td>\n",
       "      <td>0.0</td>\n",
       "      <td>0.0</td>\n",
       "      <td>0.0</td>\n",
       "      <td>0.0</td>\n",
       "      <td>0.0</td>\n",
       "      <td>0.0</td>\n",
       "      <td>0.0</td>\n",
       "      <td>0.0</td>\n",
       "      <td>0.0</td>\n",
       "      <td>...</td>\n",
       "      <td>0.0</td>\n",
       "      <td>0.0</td>\n",
       "      <td>0.0</td>\n",
       "      <td>0.0</td>\n",
       "      <td>0.0</td>\n",
       "      <td>0.0</td>\n",
       "      <td>0.0</td>\n",
       "      <td>0.0</td>\n",
       "      <td>0.0</td>\n",
       "      <td>0.0</td>\n",
       "    </tr>\n",
       "    <tr>\n",
       "      <th>9997</th>\n",
       "      <td>0.000000</td>\n",
       "      <td>0.0</td>\n",
       "      <td>0.0</td>\n",
       "      <td>0.0</td>\n",
       "      <td>0.0</td>\n",
       "      <td>0.0</td>\n",
       "      <td>0.0</td>\n",
       "      <td>0.0</td>\n",
       "      <td>0.0</td>\n",
       "      <td>0.0</td>\n",
       "      <td>...</td>\n",
       "      <td>0.0</td>\n",
       "      <td>0.0</td>\n",
       "      <td>0.0</td>\n",
       "      <td>0.0</td>\n",
       "      <td>0.0</td>\n",
       "      <td>0.0</td>\n",
       "      <td>0.0</td>\n",
       "      <td>0.0</td>\n",
       "      <td>0.0</td>\n",
       "      <td>0.0</td>\n",
       "    </tr>\n",
       "    <tr>\n",
       "      <th>9998</th>\n",
       "      <td>0.000000</td>\n",
       "      <td>0.0</td>\n",
       "      <td>0.0</td>\n",
       "      <td>0.0</td>\n",
       "      <td>0.0</td>\n",
       "      <td>0.0</td>\n",
       "      <td>0.0</td>\n",
       "      <td>0.0</td>\n",
       "      <td>0.0</td>\n",
       "      <td>0.0</td>\n",
       "      <td>...</td>\n",
       "      <td>0.0</td>\n",
       "      <td>0.0</td>\n",
       "      <td>0.0</td>\n",
       "      <td>0.0</td>\n",
       "      <td>0.0</td>\n",
       "      <td>0.0</td>\n",
       "      <td>0.0</td>\n",
       "      <td>0.0</td>\n",
       "      <td>0.0</td>\n",
       "      <td>0.0</td>\n",
       "    </tr>\n",
       "    <tr>\n",
       "      <th>9999</th>\n",
       "      <td>0.050237</td>\n",
       "      <td>0.0</td>\n",
       "      <td>0.0</td>\n",
       "      <td>0.0</td>\n",
       "      <td>0.0</td>\n",
       "      <td>0.0</td>\n",
       "      <td>0.0</td>\n",
       "      <td>0.0</td>\n",
       "      <td>0.0</td>\n",
       "      <td>0.0</td>\n",
       "      <td>...</td>\n",
       "      <td>0.0</td>\n",
       "      <td>0.0</td>\n",
       "      <td>0.0</td>\n",
       "      <td>0.0</td>\n",
       "      <td>0.0</td>\n",
       "      <td>0.0</td>\n",
       "      <td>0.0</td>\n",
       "      <td>0.0</td>\n",
       "      <td>0.0</td>\n",
       "      <td>0.0</td>\n",
       "    </tr>\n",
       "  </tbody>\n",
       "</table>\n",
       "<p>10000 rows × 5000 columns</p>\n",
       "</div>"
      ],
      "text/plain": [
       "                       +    1    2    3    4    5   ambiance   arrive  ...  \\\n",
       "0     0.000000  0.0  0.0  0.0  0.0  0.0  0.0  0.0        0.0      0.0  ...   \n",
       "1     0.000000  0.0  0.0  0.0  0.0  0.0  0.0  0.0        0.0      0.0  ...   \n",
       "2     0.029599  0.0  0.0  0.0  0.0  0.0  0.0  0.0        0.0      0.0  ...   \n",
       "3     0.000000  0.0  0.0  0.0  0.0  0.0  0.0  0.0        0.0      0.0  ...   \n",
       "4     0.199880  0.0  0.0  0.0  0.0  0.0  0.0  0.0        0.0      0.0  ...   \n",
       "...        ...  ...  ...  ...  ...  ...  ...  ...        ...      ...  ...   \n",
       "9995  0.047993  0.0  0.0  0.0  0.0  0.0  0.0  0.0        0.0      0.0  ...   \n",
       "9996  0.000000  0.0  0.0  0.0  0.0  0.0  0.0  0.0        0.0      0.0  ...   \n",
       "9997  0.000000  0.0  0.0  0.0  0.0  0.0  0.0  0.0        0.0      0.0  ...   \n",
       "9998  0.000000  0.0  0.0  0.0  0.0  0.0  0.0  0.0        0.0      0.0  ...   \n",
       "9999  0.050237  0.0  0.0  0.0  0.0  0.0  0.0  0.0        0.0      0.0  ...   \n",
       "\n",
       "      yummy  yummy   zero  zero star  zone  zoo  zucchini    ~    à  était  \n",
       "0       0.0     0.0   0.0        0.0   0.0  0.0       0.0  0.0  0.0    0.0  \n",
       "1       0.0     0.0   0.0        0.0   0.0  0.0       0.0  0.0  0.0    0.0  \n",
       "2       0.0     0.0   0.0        0.0   0.0  0.0       0.0  0.0  0.0    0.0  \n",
       "3       0.0     0.0   0.0        0.0   0.0  0.0       0.0  0.0  0.0    0.0  \n",
       "4       0.0     0.0   0.0        0.0   0.0  0.0       0.0  0.0  0.0    0.0  \n",
       "...     ...     ...   ...        ...   ...  ...       ...  ...  ...    ...  \n",
       "9995    0.0     0.0   0.0        0.0   0.0  0.0       0.0  0.0  0.0    0.0  \n",
       "9996    0.0     0.0   0.0        0.0   0.0  0.0       0.0  0.0  0.0    0.0  \n",
       "9997    0.0     0.0   0.0        0.0   0.0  0.0       0.0  0.0  0.0    0.0  \n",
       "9998    0.0     0.0   0.0        0.0   0.0  0.0       0.0  0.0  0.0    0.0  \n",
       "9999    0.0     0.0   0.0        0.0   0.0  0.0       0.0  0.0  0.0    0.0  \n",
       "\n",
       "[10000 rows x 5000 columns]"
      ]
     },
     "execution_count": 14,
     "metadata": {},
     "output_type": "execute_result"
    }
   ],
   "source": [
    "from sklearn.feature_extraction.text import CountVectorizer, TfidfVectorizer\n",
    "\n",
    "tfidf = TfidfVectorizer(stop_words='english', ngram_range=(1,2), max_df=.95, min_df=2, max_features=5000, tokenizer=tokenize)\n",
    "\n",
    "dtm = tfidf.fit_transform(df['text'])\n",
    "\n",
    "dtm = pd.DataFrame(dtm.todense(), columns=tfidf.get_feature_names())\n",
    "\n",
    "dtm"
   ]
  },
  {
   "cell_type": "code",
   "execution_count": 15,
   "metadata": {},
   "outputs": [
    {
     "data": {
      "text/plain": [
       "NearestNeighbors(algorithm='kd_tree', leaf_size=30, metric='minkowski',\n",
       "                 metric_params=None, n_jobs=None, n_neighbors=10, p=2,\n",
       "                 radius=1.0)"
      ]
     },
     "execution_count": 15,
     "metadata": {},
     "output_type": "execute_result"
    }
   ],
   "source": [
    "from sklearn.neighbors import NearestNeighbors\n",
    "\n",
    "nn = NearestNeighbors(n_neighbors=10, algorithm='kd_tree')\n",
    "nn.fit(dtm)"
   ]
  },
  {
   "cell_type": "code",
   "execution_count": 16,
   "metadata": {},
   "outputs": [],
   "source": [
    "text_1 = ['it was the best pizzas I have had in a while, mashroom pizza and their tiramisu is a must have']"
   ]
  },
  {
   "cell_type": "code",
   "execution_count": 17,
   "metadata": {},
   "outputs": [],
   "source": [
    "new = tfidf.transform(text_1)"
   ]
  },
  {
   "cell_type": "code",
   "execution_count": 18,
   "metadata": {},
   "outputs": [
    {
     "data": {
      "text/plain": [
       "(array([[0.79290986, 0.91131787, 0.95014988, 0.96941477, 1.        ,\n",
       "         1.02123359, 1.03688422, 1.04400347, 1.04553187, 1.05604589]]),\n",
       " array([[8348, 6238, 2315, 5582, 6311, 3618, 8877, 9571, 5662, 8284]]))"
      ]
     },
     "execution_count": 18,
     "metadata": {},
     "output_type": "execute_result"
    }
   ],
   "source": [
    "nn.kneighbors(new.todense())"
   ]
  },
  {
   "cell_type": "code",
   "execution_count": 19,
   "metadata": {},
   "outputs": [
    {
     "data": {
      "text/plain": [
       "\"This is honestly the best pizza IN THE WORLD. I've traveled Europe this summer. Had pizza in Italy it honestly was not as good as this pizza. Even the pizza in NYC was not as good. This is the best pizza out there.\""
      ]
     },
     "execution_count": 19,
     "metadata": {},
     "output_type": "execute_result"
    }
   ],
   "source": [
    "df['text'][8348]"
   ]
  },
  {
   "cell_type": "code",
   "execution_count": 20,
   "metadata": {},
   "outputs": [
    {
     "data": {
      "text/plain": [
       "'Best pizza in Ahwatukee! Family owned. Great service.'"
      ]
     },
     "execution_count": 20,
     "metadata": {},
     "output_type": "execute_result"
    }
   ],
   "source": [
    "df['text'][6238]"
   ]
  },
  {
   "cell_type": "code",
   "execution_count": 21,
   "metadata": {},
   "outputs": [
    {
     "data": {
      "text/plain": [
       "\"Best pizza in town two slices and a soda for a dollar if you can't beat that right next to the AT&T store pay your bill get your grub on best pizza and they deliver\""
      ]
     },
     "execution_count": 21,
     "metadata": {},
     "output_type": "execute_result"
    }
   ],
   "source": [
    "df['text'][2315]"
   ]
  },
  {
   "cell_type": "code",
   "execution_count": 22,
   "metadata": {},
   "outputs": [
    {
     "data": {
      "text/plain": [
       "\"I seriously don't understand what is all the hype about this place. I love my thin crust pizza, but I actually love it with good flavourful toppings and UNBURN crust, which Libretto can't seems to be able to execute. First time I was there, I ordered the duck confit pizza, which was so dry, tasteless and the crust and dough was burned. I figure that maybe is was just that pizza, so I gave it another chance and came back on a different occasion. Ordered the simplest pizza possible, the margarita, which was equally as disappointing as my first visit. Pizza was lacking flavour and again, the dough and crust was burned. Also gave them another chance to redeem themselves that night and ordered a tiramisu. It came in a cute bottle jar, which was a little to deep to spoon out an equal amount of layer of the tiramisu, forcing myself to eat only the creamy part alone, and leave the inedible rum soaked whatever at the bottom. Sorry, I've really tried to like you, but Terroni is hands down the best pizza and tiramisu in town.\""
      ]
     },
     "execution_count": 22,
     "metadata": {},
     "output_type": "execute_result"
    }
   ],
   "source": [
    "df['text'][5582]"
   ]
  },
  {
   "cell_type": "code",
   "execution_count": 23,
   "metadata": {},
   "outputs": [
    {
     "data": {
      "text/plain": [
       "\"As a native of New Jersey, I found it extremely difficult to find a great pizza place when I moved to Vegas over 20 years ago.  I can say this no longer, Frankie's Pizza is by far the best pizza place in town.  Eggplant pizza and the Buffalo chicken pizza are fabulous....   Eating there brought back the memories of back East.  THANK YOU FRANKIE AND FAMILY.\""
      ]
     },
     "execution_count": 23,
     "metadata": {},
     "output_type": "execute_result"
    }
   ],
   "source": [
    "df['text'][5662]"
   ]
  },
  {
   "cell_type": "code",
   "execution_count": 24,
   "metadata": {},
   "outputs": [
    {
     "data": {
      "text/plain": [
       "\"Vinny's pizza is good.  I would definitely say it's better then most in the Champaign-Urbana area, especially if you are looking for a New York Style pizza.  They always seem to be offering great deals as well.  The staff is always super attentive to make sure you are getting the best deal possible as well.  I went in once to order a large pizza to go, and the staff said that on this particular day, we could get an extra large pizza for the same price.  Score.  Another day we were able to score two large pizzas for the price of one.  It seems Vinny's holds really awesome deals like this on every day of the week (A different deal each day) so it's definitely worth checking out just because of some of the awesome deals they have on food.\\n\\nI will definitely be eating here again.  It may not be extremely good pizza, but its good pizza and definitely makes my stomach happy.\""
      ]
     },
     "execution_count": 24,
     "metadata": {},
     "output_type": "execute_result"
    }
   ],
   "source": [
    "df['text'][8284]"
   ]
  },
  {
   "cell_type": "code",
   "execution_count": 25,
   "metadata": {},
   "outputs": [],
   "source": [
    "# They are all about pizza, some about tiramisu and most of them are positive reviews "
   ]
  },
  {
   "cell_type": "markdown",
   "metadata": {},
   "source": [
    "## Part 3: Classification\n",
    "<a id=\"#p3\"></a>\n",
    "Your goal in this section will be to predict `stars` from the review dataset. \n",
    "\n",
    "1. Create a piepline object with a sklearn `CountVectorizer` or `TfidfVector` and any sklearn classifier. Use that pipeline to estimate a model to predict `stars`. Use the Pipeline to predict a star rating for your fake review from Part 2. \n",
    "2. Tune the entire pipeline with a GridSearch"
   ]
  },
  {
   "cell_type": "code",
   "execution_count": 26,
   "metadata": {},
   "outputs": [],
   "source": [
    "# Define Pipeline Components\n",
    "\n",
    "from sklearn.ensemble import RandomForestClassifier\n",
    "from sklearn.pipeline import Pipeline\n",
    "from sklearn.model_selection import GridSearchCV\n",
    "\n",
    "#vect = tfidf- Started using tfidf from last part as but it was taking alot of time so switched to a simpler vectrorizer. \n",
    "vect = TfidfVectorizer(stop_words='english', ngram_range=(1,2))\n",
    "clf = RandomForestClassifier()\n",
    "\n",
    "pipe = Pipeline([('vect', vect), ('clf', clf)])"
   ]
  },
  {
   "cell_type": "code",
   "execution_count": 27,
   "metadata": {},
   "outputs": [
    {
     "name": "stdout",
     "output_type": "stream",
     "text": [
      "Fitting 2 folds for each of 32 candidates, totalling 64 fits\n"
     ]
    },
    {
     "name": "stderr",
     "output_type": "stream",
     "text": [
      "[Parallel(n_jobs=4)]: Using backend LokyBackend with 4 concurrent workers.\n",
      "[Parallel(n_jobs=4)]: Done  42 tasks      | elapsed:   22.8s\n",
      "[Parallel(n_jobs=4)]: Done  64 out of  64 | elapsed:   32.5s finished\n"
     ]
    },
    {
     "data": {
      "text/plain": [
       "GridSearchCV(cv=2, error_score=nan,\n",
       "             estimator=Pipeline(memory=None,\n",
       "                                steps=[('vect',\n",
       "                                        TfidfVectorizer(analyzer='word',\n",
       "                                                        binary=False,\n",
       "                                                        decode_error='strict',\n",
       "                                                        dtype=<class 'numpy.float64'>,\n",
       "                                                        encoding='utf-8',\n",
       "                                                        input='content',\n",
       "                                                        lowercase=True,\n",
       "                                                        max_df=1.0,\n",
       "                                                        max_features=None,\n",
       "                                                        min_df=1,\n",
       "                                                        ngram_range=(1, 2),\n",
       "                                                        norm='l2',\n",
       "                                                        preprocessor=None,\n",
       "                                                        smooth_idf=True,\n",
       "                                                        stop_words='english',\n",
       "                                                        strip...\n",
       "                                                               n_estimators=100,\n",
       "                                                               n_jobs=None,\n",
       "                                                               oob_score=False,\n",
       "                                                               random_state=None,\n",
       "                                                               verbose=0,\n",
       "                                                               warm_start=False))],\n",
       "                                verbose=False),\n",
       "             iid='deprecated', n_jobs=4,\n",
       "             param_grid={'clf__max_depth': (5, 10),\n",
       "                         'clf__n_estimators': (5, 10),\n",
       "                         'vect__max_df': (0.75, 1.0),\n",
       "                         'vect__max_features': (500, 1000),\n",
       "                         'vect__min_df': (0.02, 0.05)},\n",
       "             pre_dispatch='2*n_jobs', refit=True, return_train_score=False,\n",
       "             scoring=None, verbose=1)"
      ]
     },
     "execution_count": 27,
     "metadata": {},
     "output_type": "execute_result"
    }
   ],
   "source": [
    "# Define Search Space with hyperparameters of the vectorizer and the classification model.\n",
    "# We have to do a train test split in a normal situation but this time we train on df and test on our fake review in the interest of time. \n",
    "parameters = {\n",
    "    'vect__max_df': (0.75, 1.0),\n",
    "    'vect__min_df': (.02, .05),\n",
    "    'vect__max_features': (500,1000),\n",
    "    'clf__n_estimators': (5,10),\n",
    "    'clf__max_depth':(5,10)\n",
    "}\n",
    "\n",
    "grid_search = GridSearchCV(pipe,parameters, cv=2, n_jobs=4, verbose=1)\n",
    "grid_search.fit(df['text'], df['stars'])"
   ]
  },
  {
   "cell_type": "code",
   "execution_count": 28,
   "metadata": {},
   "outputs": [
    {
     "data": {
      "text/plain": [
       "0.5136000000000001"
      ]
     },
     "execution_count": 28,
     "metadata": {},
     "output_type": "execute_result"
    }
   ],
   "source": [
    "# Getting the best score \n",
    "grid_search.best_score_"
   ]
  },
  {
   "cell_type": "code",
   "execution_count": 29,
   "metadata": {},
   "outputs": [
    {
     "data": {
      "text/plain": [
       "array([5, 5])"
      ]
     },
     "execution_count": 29,
     "metadata": {},
     "output_type": "execute_result"
    }
   ],
   "source": [
    "grid_search.predict(['it was the best pizzas I have had in a while, mashroom pizza and their tiramisu is a must have', '5'])"
   ]
  },
  {
   "cell_type": "markdown",
   "metadata": {},
   "source": [
    "## Part 4: Topic Modeling\n",
    "\n",
    "Let's find out what those yelp reviews are saying! :D\n",
    "\n",
    "1. Estimate a LDA topic model of the review text\n",
    "    - Keep the `iterations` parameter at or below 5 to reduce run time\n",
    "    - The `workers` parameter should match the number of physical cores on your machine.\n",
    "2. Create 1-2 visualizations of the results\n",
    "    - You can use the most important 3 words of a topic in relevant visualizations. Refer to yesterday's notebook to extract. \n",
    "3. In markdown, write 1-2 paragraphs of analysis on the results of your topic model\n",
    "\n",
    "__*Note*__: You can pass the DataFrame column of text reviews to gensim. You do not have to use a generator."
   ]
  },
  {
   "cell_type": "code",
   "execution_count": 30,
   "metadata": {
    "collapsed": false,
    "inputHidden": false,
    "jupyter": {
     "outputs_hidden": false
    },
    "outputHidden": false
   },
   "outputs": [],
   "source": [
    "import gensim\n",
    "from gensim.models import LdaMulticore\n",
    "from gensim.corpora import Dictionary\n",
    "from gensim.utils import simple_preprocess\n",
    "from gensim.parsing.preprocessing import STOPWORDS\n",
    "from gensim import corpora"
   ]
  },
  {
   "cell_type": "code",
   "execution_count": 31,
   "metadata": {},
   "outputs": [],
   "source": [
    "def doc_stream(path):\n",
    "    for f in os.listdir(path):\n",
    "        if os.path.isdir(f) == False:\n",
    "            if f[-3:] == 'txt':\n",
    "                with open(os.path.join(path,f)) as t:\n",
    "                    text = t.read().strip('\\n')\n",
    "                    tokens = tokenize(text)\n",
    "                yield tokens"
   ]
  },
  {
   "cell_type": "markdown",
   "metadata": {},
   "source": [
    "Learn the vocubalary of the yelp data:"
   ]
  },
  {
   "cell_type": "code",
   "execution_count": 32,
   "metadata": {},
   "outputs": [
    {
     "data": {
      "text/plain": [
       "28368"
      ]
     },
     "execution_count": 32,
     "metadata": {},
     "output_type": "execute_result"
    }
   ],
   "source": [
    "id2word = corpora.Dictionary(df['tokens'])\n",
    "len(id2word)"
   ]
  },
  {
   "cell_type": "code",
   "execution_count": 33,
   "metadata": {},
   "outputs": [
    {
     "data": {
      "text/plain": [
       "6473"
      ]
     },
     "execution_count": 33,
     "metadata": {},
     "output_type": "execute_result"
    }
   ],
   "source": [
    "# Sliiming the size down for faster processing\n",
    "id2word.filter_extremes(no_below=5, no_above=.98)\n",
    "len(id2word)"
   ]
  },
  {
   "cell_type": "markdown",
   "metadata": {},
   "source": [
    "Create a bag of words representation of the entire corpus"
   ]
  },
  {
   "cell_type": "code",
   "execution_count": 34,
   "metadata": {
    "collapsed": false,
    "inputHidden": false,
    "jupyter": {
     "outputs_hidden": false
    },
    "outputHidden": false
   },
   "outputs": [],
   "source": [
    "corpus = [id2word.doc2bow(d) for d in df['tokens']]"
   ]
  },
  {
   "cell_type": "code",
   "execution_count": 35,
   "metadata": {},
   "outputs": [],
   "source": [
    "model = LdaMulticore(corpus=corpus, num_topics=10, id2word=id2word, workers=4, passes=5)"
   ]
  },
  {
   "cell_type": "code",
   "execution_count": 36,
   "metadata": {},
   "outputs": [],
   "source": [
    "import re\n",
    "words = [re.findall(r'\"([^\"]*)\"',t[1]) for t in model.print_topics()]"
   ]
  },
  {
   "cell_type": "code",
   "execution_count": 37,
   "metadata": {},
   "outputs": [],
   "source": [
    "topics = [' '.join(t[0:5]) for t in words]"
   ]
  },
  {
   "cell_type": "code",
   "execution_count": 38,
   "metadata": {},
   "outputs": [
    {
     "name": "stdout",
     "output_type": "stream",
     "text": [
      "------ Topic 0 ------\n",
      "time place go \n",
      "\n",
      " tell\n",
      "\n",
      "------ Topic 1 ------\n",
      "great good place service recommend\n",
      "\n",
      "------ Topic 2 ------\n",
      "\n",
      "\n",
      " nail like dog look\n",
      "\n",
      "------ Topic 3 ------\n",
      "\n",
      "\n",
      " room time get come\n",
      "\n",
      "------ Topic 4 ------\n",
      "good place food great \n",
      "\n",
      "\n",
      "\n",
      "------ Topic 5 ------\n",
      "\n",
      "\n",
      " good place great time\n",
      "\n",
      "------ Topic 6 ------\n",
      "\n",
      "\n",
      " food good place order\n",
      "\n",
      "------ Topic 7 ------\n",
      "\n",
      "\n",
      " order \n",
      " like good\n",
      "\n",
      "------ Topic 8 ------\n",
      "good service food great order\n",
      "\n",
      "------ Topic 9 ------\n",
      "food time \n",
      "\n",
      " good come\n",
      "\n"
     ]
    }
   ],
   "source": [
    "for id, t in enumerate(topics): \n",
    "    print(f\"------ Topic {id} ------\")\n",
    "    print(t, end=\"\\n\\n\")"
   ]
  },
  {
   "cell_type": "markdown",
   "metadata": {},
   "source": [
    "Create 1-2 visualizations of the results"
   ]
  },
  {
   "cell_type": "code",
   "execution_count": 39,
   "metadata": {},
   "outputs": [],
   "source": [
    "distro = [model[d] for d in corpus]\n",
    "num_topics = 20\n",
    "\n",
    "def update(doc):\n",
    "        d_dist = {k:0 for k in range(0,num_topics)}\n",
    "        for topic in doc:\n",
    "            d_dist[topic[0]] = topic[1]\n",
    "        return d_dist\n",
    "    \n",
    "new_distro = [update(d) for d in distro]"
   ]
  },
  {
   "cell_type": "code",
   "execution_count": 40,
   "metadata": {},
   "outputs": [
    {
     "data": {
      "text/html": [
       "\n",
       "<link rel=\"stylesheet\" type=\"text/css\" href=\"https://cdn.rawgit.com/bmabey/pyLDAvis/files/ldavis.v1.0.0.css\">\n",
       "\n",
       "\n",
       "<div id=\"ldavis_el463267935226568309161369\"></div>\n",
       "<script type=\"text/javascript\">\n",
       "\n",
       "var ldavis_el463267935226568309161369_data = {\"mdsDat\": {\"x\": [-0.10420128154791776, 0.0765992002051416, 0.1458523778773505, -0.05471410098953555, -0.005770017859638698, 0.0331120699522416, -0.05625361933731329, 0.032471047442301074, -0.10758802072922494, 0.040492344986595645], \"y\": [3.793928198932408e-05, 0.012341421887009247, 0.04972420212394029, 0.002986554489787625, 0.0071344190819140054, 0.006526043191146216, -0.011300457373702865, 0.01780604430037527, 0.04029536024765043, -0.12555152723010948], \"topics\": [1, 2, 3, 4, 5, 6, 7, 8, 9, 10], \"cluster\": [1, 1, 1, 1, 1, 1, 1, 1, 1, 1], \"Freq\": [29.374794006347656, 16.148040771484375, 9.579683303833008, 9.543720245361328, 8.829445838928223, 8.1857328414917, 5.207270622253418, 4.942709922790527, 4.889632701873779, 3.298966646194458]}, \"tinfo\": {\"Term\": [\"good\", \"great\", \"food\", \"\\n\\n\", \"place\", \"service\", \"chicken\", \"order\", \"room\", \"car\", \"time\", \"recommend\", \"work\", \"fry\", \"like\", \"nail\", \"love\", \"pizza\", \"amazing\", \"look\", \"price\", \"eat\", \"experience\", \"dog\", \"new\", \"sauce\", \"day\", \"tell\", \"friendly\", \"call\", \"uni\", \"nigiri\", \"sushi\", \"burst\", \"mango\", \"appetite\", \"skewer\", \"Roll\", \"edamame\", \"seaweed\", \"sashimi\", \"Banana\", \"poisoning\", \"tartare\", \"Tempura\", \"Masala\", \"chowder\", \"Serrano\", \"macaroni\", \"taro\", \"mochi\", \"hawaiian\", \"paella\", \"hush\", \"cucumber\", \"paneer\", \"Calamari\", \"tempura\", \"vinegar\", \"wasabi\", \"tuna\", \"risotto\", \"vegetarian\", \"seafood\", \"zucchini\", \"salmon\", \"AYCE\", \"japanese\", \"roll\", \"dish\", \"naan\", \"crisp\", \"Sushi\", \"rice\", \"fish\", \"fry\", \"menu\", \"vegan\", \"salad\", \"spicy\", \"burger\", \"pasta\", \"spice\", \"food\", \"dessert\", \"server\", \"order\", \"portion\", \"flavor\", \"sauce\", \"plate\", \"waiter\", \"eat\", \"restaurant\", \"fresh\", \"try\", \"delicious\", \"taste\", \"good\", \"\\n\\n\", \"place\", \"come\", \"bit\", \"table\", \"chicken\", \"great\", \"like\", \"meal\", \"love\", \"get\", \"definitely\", \"\\n\", \"time\", \"service\", \"go\", \"nice\", \"think\", \"costumer\", \"horrific\", \"barrier\", \"enterprise\", \"false\", \"theft\", \"running\", \"shut\", \"dispute\", \"purse\", \"worst\", \"authority\", \"lite\", \"puck\", \"starbucks\", \"consignment\", \"SUV\", \"Walmart\", \"horrid\", \"recomend\", \"Jones\", \"cancer\", \"McDonalds\", \"etiquette\", \"pilot\", \"bleh\", \"facebook\", \"reimburse\", \"difficulty\", \"neighbour\", \"vacuum\", \"tire\", \"mani\", \"annoyed\", \"tostada\", \"snobby\", \"don't\", \"horrible\", \"hrs\", \"rude\", \"ignore\", \"ID\", \"barber\", \"facial\", \"charge\", \"bouncer\", \"tell\", \"crouton\", \"customer\", \"say\", \"hair\", \"car\", \"phone\", \"refund\", \"attitude\", \"money\", \"appointment\", \"minute\", \"credit\", \"wait\", \"coffee\", \"manager\", \"walk\", \"want\", \"go\", \"hour\", \"people\", \"ask\", \"1\", \"talk\", \"know\", \"\\n\", \"leave\", \"time\", \"guy\", \"place\", \"come\", \"bad\", \"service\", \"get\", \"take\", \"like\", \"\\n\\n\", \"look\", \"need\", \"good\", \"try\", \"day\", \"\\u00e0\", \"et\", \"grooming\", \"tr\\u00e8s\", \"une\", \"sont\", \"les\", \"dental\", \"Cirque\", \"est\", \"tissue\", \"ce\", \"Un\", \"qui\", \"je\", \"avec\", \"vous\", \"le\", \"j'ai\", \"\\u00e9tait\", \"Nous\", \"ou\", \"dentist\", \"mais\", \"urgent\", \"reschedule\", \"compassionate\", \"dans\", \"sur\", \"dresser\", \"doctor\", \"mattress\", \"pas\", \"Dr.\", \"des\", \"office\", \"un\", \"en\", \"medical\", \"Robert\", \"session\", \"sheet\", \"shower\", \"insurance\", \"contract\", \"room\", \"de\", \"bed\", \"gym\", \"patient\", \"pool\", \"technician\", \"call\", \"vet\", \"hotel\", \"response\", \"schedule\", \"procedure\", \"care\", \"week\", \"say\", \"tell\", \"time\", \"stay\", \"work\", \"need\", \"get\", \"company\", \"\\n\\n\", \"day\", \"2\", \"give\", \"find\", \"come\", \"know\", \"go\", \"staff\", \"feel\", \"take\", \"new\", \"leave\", \"nice\", \"ask\", \"like\", \"want\", \"order\", \"hoagie\", \"Mongolian\", \"Sinatra\", \"cannoli\", \"doughy\", \"clay\", \"carb\", \"spiciness\", \"Surprise\", \"cowboy\", \"gumbo\", \"faint\", \"Gelato\", \"Jimmy\", \"dunno\", \"Prime\", \"LGO\", \"subway\", \"donut\", \"bout\", \"15.00\", \"Blueberry\", \"peppery\", \"Pecan\", \"parm\", \"tripe\", \"Bourbon\", \"dominate\", \"suspiciously\", \"Italian\", \"homeless\", \"pepperoni\", \"mate\", \"oven\", \"ultra\", \"pizza\", \"bagel\", \"deli\", \"calorie\", \"tomato\", \"hash\", \"crust\", \"protein\", \"dough\", \"soup\", \"basil\", \"slice\", \"\\n\\n\", \"sandwich\", \"\\n\", \"order\", \"lunch\", \"toast\", \"meat\", \"cheese\", \"sausage\", \"cookie\", \"like\", \"egg\", \"bread\", \"potato\", \"location\", \"eat\", \"coffee\", \"meal\", \"love\", \"special\", \"go\", \"good\", \"sauce\", \"delicious\", \"way\", \"restaurant\", \"little\", \"place\", \"know\", \"time\", \"great\", \"food\", \"get\", \"service\", \"nice\", \"come\", \"try\", \"price\", \"teacher\", \"brow\", \"bowling\", \"mister\", \"alley\", \"lane\", \"Sharon\", \"graduate\", \"Easter\", \"celebrity\", \"Tan\", \"Heaven\", \"unassuming\", \"village\", \"trout\", \"Treasure\", \"huevos\", \"escalator\", \"threading\", \"Roti\", \"Uptown\", \"corned\", \"DR\", \"Panda\", \"Sophia\", \"2004\", \"Water\", \"plumber\", \"Dallas\", \"relaxation\", \"bruise\", \"bike\", \"theater\", \"movie\", \"Gabe\", \"lineup\", \"coin\", \"hiking\", \"queso\", \"mole\", \"bin\", \"balloon\", \"game\", \"IPA\", \"popcorn\", \"Island\", \"bar\", \"bartender\", \"time\", \"food\", \"look\", \"experience\", \"drink\", \"come\", \"stop\", \"service\", \"buffet\", \"wait\", \"like\", \"friendly\", \"good\", \"year\", \"great\", \"\\n\\n\", \"day\", \"sit\", \"staff\", \"area\", \"\\n\", \"get\", \"go\", \"lot\", \"friend\", \"find\", \"place\", \"price\", \"minute\", \"nice\", \"restaurant\", \"take\", \"order\", \"try\", \"library\", \"Carl\", \"structure\", \"nerd\", \"angle\", \"Harbor\", \"curl\", \"lash\", \"reflexology\", \"shatter\", \"Bianco\", \"gap\", \"eyelash\", \"Hibachi\", \"transform\", \"Nordstrom\", \"humor\", \"compel\", \"scar\", \"sincere\", \"Snooze\", \"recline\", \"Control\", \"manicurist\", \"underground\", \"stench\", \"Year\", \"kiosk\", \"pedis\", \"Little\", \"boba\", \"elevator\", \"Salon\", \"hallway\", \"noise\", \"Sky\", \"Studio\", \"Tony\", \"Air\", \"relaxing\", \"parking\", \"carpet\", \"casino\", \"\\n\\n\", \"tree\", \"artist\", \"clean\", \"garage\", \"store\", \"hair\", \"tan\", \"room\", \"salon\", \"job\", \"locate\", \"fun\", \"professional\", \"place\", \"look\", \"good\", \"drink\", \"great\", \"friendly\", \"space\", \"easy\", \"time\", \"lot\", \"service\", \"\\n\", \"free\", \"cut\", \"like\", \"price\", \"get\", \"check\", \"come\", \"staff\", \"go\", \"work\", \"find\", \"day\", \"love\", \"think\", \"year\", \"recommend\", \"need\", \"nice\", \"want\", \"stadium\", \"farmer\", \"method\", \"flan\", \"dome\", \"ashamed\", \"Kim\", \"baker\", \"Museum\", \"asada\", \"lebanese\", \"Mex\", \"deaf\", \"cronut\", \"Vision\", \"Pet\", \"canadian\", \"Meat\", \"Classic\", \"dynamic\", \"4:30\", \"liter\", \"ritual\", \"drawback\", \"Ms.\", \"L\", \"flair\", \"luke\", \"carne\", \"uptown\", \"citizen\", \"Jessica\", \"cat\", \"source\", \"gyro\", \"local\", \"taco\", \"korean\", \"vendor\", \"live\", \"ice\", \"amazing\", \"mexican\", \"good\", \"great\", \"pedicure\", \"place\", \"cream\", \"food\", \"beer\", \"market\", \"burger\", \"neighborhood\", \"love\", \"\\n\\n\", \"music\", \"service\", \"favorite\", \"family\", \"bar\", \"quality\", \"like\", \"price\", \"nice\", \"give\", \"little\", \"lot\", \"time\", \"day\", \"eat\", \"star\", \"friendly\", \"come\", \"fresh\", \"year\", \"go\", \"get\", \"people\", \"Amanda\", \"respective\", \"bra\", \"biryani\", \"buying\", \"measurement\", \"Jerry\", \"boom\", \"Amy\", \"Eddie\", \"lifetime\", \"Heather\", \"perspective\", \"salesperson\", \"pregnancy\", \"glitch\", \"application\", \"renew\", \"Mike\", \"fella\", \"full\", \"console\", \"Patrick\", \"Repair\", \"Eye\", \"chai\", \"hobby\", \"tint\", \"Michelle\", \"chilly\", \"warranty\", \"tee\", \"poker\", \"salesman\", \"Charlie\", \"install\", \"dealership\", \"car\", \"professional\", \"team\", \"thank\", \"recommend\", \"great\", \"instal\", \"honest\", \"highly\", \"work\", \"anybody\", \"good\", \"service\", \"new\", \"place\", \"quote\", \"truck\", \"home\", \"job\", \"care\", \"price\", \"take\", \"love\", \"need\", \"friendly\", \"buy\", \"feel\", \"time\", \"definitely\", \"day\", \"beer\", \"try\", \"look\", \"customer\", \"food\", \"get\", \"staff\", \"go\", \"\\n\\n\", \"know\", \"come\", \"like\", \"Amazon\", \"Rick\", \"dinning\", \"mein\", \"Wagyu\", \"arepa\", \"vermicelli\", \"aunt\", \"amusement\", \"grainy\", \"Social\", \"chile\", \"Plumbing\", \"XS\", \"crumble\", \"Cole\", \"mongolian\", \"disposal\", \"skimpy\", \"Velvet\", \"zip\", \"speedy\", \"vomit\", \"HH\", \"enchilada\", \"Ramen\", \"flush\", \"marvelous\", \"pho\", \"hollandaise\", \"knife\", \"vietnamese\", \"brisket\", \"coke\", \"taiwanese\", \"chicken\", \"broth\", \"rubbery\", \"good\", \"steak\", \"tamale\", \"taco\", \"service\", \"fry\", \"great\", \"order\", \"food\", \"mexican\", \"disappoint\", \"tender\", \"cook\", \"wife\", \"egg\", \"beef\", \"awesome\", \"experience\", \"place\", \"sauce\", \"rib\", \"time\", \"\\n\\n\", \"meal\", \"price\", \"well\", \"try\", \"friendly\", \"nice\", \"taste\", \"get\", \"definitely\", \"find\", \"eat\", \"little\", \"come\", \"like\", \"staff\", \"restaurant\", \"fitness\", \"encouraging\", \"thanksgiving\", \"Lion\", \"spotty\", \"metered\", \"goal\", \"Management\", \"drywall\", \"Diner\", \"prone\", \"e.g.\", \"900\", \"Bella\", \"polish\", \"trimming\", \"Andrew\", \"cabinet\", \"unbeatable\", \"Group\", \"clueless\", \"upsell\", \"admire\", \"intimidating\", \"layover\", \"countertop\", \"Nate\", \"zombie\", \"motivate\", \"launch\", \"Rita\", \"Paul\", \"Bob\", \"nail\", \"clog\", \"Ford\", \"acrylic\", \"salon\", \"Brian\", \"trail\", \"gel\", \"dog\", \"consult\", \"park\", \"instructor\", \"sophisticated\", \"Tom\", \"ramen\", \"tech\", \"coat\", \"wheel\", \"Room\", \"paint\", \"sloppy\", \"beer\", \"hide\", \"class\", \"area\", \"work\", \"like\", \"review\", \"look\", \"noodle\", \"\\n\\n\", \"love\", \"fix\", \"car\", \"experience\", \"home\", \"go\", \"want\", \"service\", \"lot\", \"happy\", \"try\", \"place\", \"day\", \"come\", \"good\", \"time\", \"new\", \"food\", \"drink\", \"find\", \"great\"], \"Freq\": [6208.0, 4213.0, 4923.0, 8425.0, 5317.0, 3684.0, 1188.0, 3472.0, 1156.0, 709.0, 4368.0, 1393.0, 1489.0, 1040.0, 3742.0, 338.0, 2220.0, 699.0, 1339.0, 1965.0, 1726.0, 1555.0, 1459.0, 363.0, 1095.0, 931.0, 1511.0, 1644.0, 1382.0, 835.0, 32.04340362548828, 39.15483856201172, 486.330322265625, 18.900264739990234, 73.51673889160156, 23.57636833190918, 42.25212097167969, 47.32403564453125, 18.243043899536133, 38.38581085205078, 94.44741821289062, 25.06441879272461, 11.466782569885254, 31.910293579101562, 10.860283851623535, 14.816904067993164, 30.74118995666504, 16.733095169067383, 24.180700302124023, 15.483800888061523, 11.911365509033203, 16.014249801635742, 12.308582305908203, 14.26275634765625, 43.316184997558594, 12.812239646911621, 18.15167999267578, 54.70827102661133, 21.64210319519043, 13.881538391113281, 114.76594543457031, 39.78594970703125, 132.9295654296875, 134.57814025878906, 28.022977828979492, 179.63356018066406, 61.78449630737305, 90.06583404541016, 474.1031494140625, 708.564453125, 40.757301330566406, 58.81848907470703, 72.98262023925781, 392.68310546875, 298.2606201171875, 728.0670166015625, 906.90087890625, 92.69497680664062, 507.97479248046875, 281.951904296875, 465.5655212402344, 141.29037475585938, 113.68865966796875, 2662.278564453125, 375.6907043457031, 585.5543212890625, 1855.9749755859375, 343.52337646484375, 489.7042236328125, 581.1633911132812, 288.88409423828125, 249.8251495361328, 859.703369140625, 917.10205078125, 569.048828125, 1262.678466796875, 655.1792602539062, 646.6520385742188, 2342.84716796875, 2936.00244140625, 2019.522705078125, 1558.1759033203125, 501.56719970703125, 602.3430786132812, 598.6561279296875, 1360.427001953125, 1231.24853515625, 497.5868835449219, 822.6516723632812, 965.206298828125, 640.178955078125, 923.9005737304688, 1048.210205078125, 904.5358276367188, 790.6949462890625, 583.07666015625, 562.0326538085938, 13.578425407409668, 12.903985023498535, 16.670015335083008, 10.600044250488281, 14.269776344299316, 10.525752067565918, 8.838884353637695, 19.165864944458008, 11.26259708404541, 17.46396255493164, 6.610190391540527, 6.589478969573975, 7.067302703857422, 5.997352123260498, 7.0094499588012695, 6.467549800872803, 8.412068367004395, 7.5023088455200195, 8.51474666595459, 5.950765132904053, 6.458759784698486, 9.294384956359863, 22.337800979614258, 9.19011402130127, 6.801772594451904, 8.665884971618652, 5.812161445617676, 11.224584579467773, 8.284627914428711, 5.740252494812012, 10.593178749084473, 121.96746063232422, 27.531814575195312, 27.2272891998291, 19.353107452392578, 13.190581321716309, 17.767759323120117, 177.93043518066406, 23.325586318969727, 243.76199340820312, 52.085723876953125, 16.528656005859375, 42.931640625, 55.70610809326172, 301.6164855957031, 29.852291107177734, 775.3233642578125, 18.03618812561035, 548.683837890625, 723.302978515625, 222.2518310546875, 327.32666015625, 195.4073944091797, 63.72272872924805, 93.8713607788086, 242.35943603515625, 202.2770233154297, 445.7984924316406, 72.71662902832031, 597.45703125, 265.19732666015625, 213.40419006347656, 338.228271484375, 596.4121704101562, 901.7759399414062, 361.7520751953125, 469.68328857421875, 501.7662048339844, 218.51446533203125, 185.14553833007812, 524.0411376953125, 775.0726318359375, 358.9232177734375, 968.2373046875, 234.19615173339844, 958.1701049804688, 770.922607421875, 363.1327209472656, 671.61083984375, 539.8246459960938, 372.74713134765625, 570.3097534179688, 810.5307006835938, 385.2107238769531, 314.4193420410156, 422.992431640625, 347.23394775390625, 307.45538330078125, 53.3193244934082, 69.6638412475586, 18.650577545166016, 24.126161575317383, 24.652454376220703, 20.100366592407227, 35.17768859863281, 42.88344955444336, 17.9738712310791, 24.819570541381836, 14.070499420166016, 15.15131950378418, 13.541634559631348, 12.665545463562012, 13.67388916015625, 13.57273006439209, 14.59195613861084, 37.841304779052734, 10.704522132873535, 11.262521743774414, 9.636805534362793, 11.042475700378418, 50.51249313354492, 14.875528335571289, 10.014795303344727, 34.34577941894531, 10.388105392456055, 13.245185852050781, 9.15085220336914, 8.577927589416504, 124.7126693725586, 15.34967041015625, 23.683338165283203, 137.7115020751953, 25.800432205200195, 250.05162048339844, 35.93157196044922, 28.250398635864258, 46.977394104003906, 44.356468200683594, 51.65028762817383, 32.3448600769043, 77.83136749267578, 68.67565155029297, 42.8078727722168, 564.297607421875, 95.38900756835938, 107.54989624023438, 78.30747985839844, 102.97683715820312, 146.8515625, 55.9881477355957, 323.46551513671875, 57.14864730834961, 208.47494506835938, 50.04964065551758, 86.23906707763672, 45.471778869628906, 187.0525665283203, 183.87255859375, 317.26446533203125, 309.7783508300781, 543.6566772460938, 178.57223510742188, 279.98260498046875, 266.67706298828125, 381.3021240234375, 124.16716003417969, 625.819091796875, 256.15106201171875, 217.2376251220703, 204.55572509765625, 246.61973571777344, 380.2891845703125, 257.6108093261719, 333.650634765625, 240.25172424316406, 205.7341766357422, 229.22213745117188, 194.5372772216797, 194.05618286132812, 218.31582641601562, 207.76824951171875, 245.0485076904297, 196.47804260253906, 180.9508056640625, 14.093935012817383, 9.311768531799316, 12.478899955749512, 17.530805587768555, 9.266297340393066, 13.012453079223633, 19.723596572875977, 7.164644718170166, 7.538441181182861, 6.707896709442139, 8.705049514770508, 6.695487022399902, 8.099363327026367, 12.75612735748291, 6.95770788192749, 8.933629035949707, 5.415430545806885, 6.557017803192139, 145.68980407714844, 4.520448207855225, 11.187979698181152, 6.076404094696045, 4.912974834442139, 4.517792224884033, 12.412415504455566, 6.697198390960693, 4.444410800933838, 5.190272331237793, 4.406166076660156, 12.366440773010254, 9.731819152832031, 27.661577224731445, 8.103466033935547, 42.51616668701172, 10.128049850463867, 393.67401123046875, 51.20652389526367, 26.298486709594727, 17.701988220214844, 100.84831237792969, 29.933101654052734, 65.2987289428711, 24.9117488861084, 27.379596710205078, 191.20950317382812, 24.25726890563965, 87.44202423095703, 1179.221435546875, 158.37600708007812, 554.2234497070312, 572.6229858398438, 192.1609344482422, 60.97195816040039, 163.44761657714844, 185.7081298828125, 49.00605010986328, 59.632415771484375, 481.3463439941406, 103.11590576171875, 112.17962646484375, 93.35210418701172, 169.47598266601562, 214.65936279296875, 127.20893859863281, 155.5038299560547, 248.248779296875, 123.71849822998047, 285.2722473144531, 405.47894287109375, 144.7118682861328, 157.07286071777344, 155.06410217285156, 179.45523071289062, 165.89743041992188, 267.5230407714844, 170.51866149902344, 232.7624969482422, 225.29977416992188, 235.90455627441406, 189.1692657470703, 187.90220642089844, 158.0719757080078, 180.1510467529297, 160.0977325439453, 155.61578369140625, 51.36785888671875, 17.880592346191406, 23.806264877319336, 10.796770095825195, 9.809200286865234, 29.32474708557129, 7.39467191696167, 7.384952068328857, 10.856273651123047, 8.785590171813965, 11.728399276733398, 9.470669746398926, 5.270726680755615, 7.1432719230651855, 9.958739280700684, 13.027533531188965, 4.815910816192627, 5.1802287101745605, 4.8260111808776855, 4.782497406005859, 4.812386989593506, 14.039572715759277, 4.723718166351318, 5.482943534851074, 6.48583984375, 4.341770648956299, 4.6926116943359375, 27.72071075439453, 7.1002068519592285, 5.06337308883667, 6.338834285736084, 61.49825668334961, 45.63026809692383, 75.37972259521484, 13.538607597351074, 12.58896541595459, 21.197662353515625, 8.026497840881348, 27.60991096496582, 8.732897758483887, 7.943356037139893, 25.394498825073242, 102.93528747558594, 16.329286575317383, 29.098554611206055, 19.44671630859375, 262.6234436035156, 80.29913330078125, 589.4859008789062, 613.2094116210938, 318.79364013671875, 244.359619140625, 235.1952362060547, 460.4026794433594, 140.1450653076172, 411.58612060546875, 76.30347442626953, 249.23802185058594, 402.19207763671875, 208.28756713867188, 510.0021057128906, 162.99884033203125, 380.76324462890625, 572.2114868164062, 204.82289123535156, 140.22662353515625, 201.72731018066406, 136.96421813964844, 288.99456787109375, 276.46771240234375, 283.404541015625, 160.52163696289062, 159.52398681640625, 191.05894470214844, 314.5827331542969, 178.08468627929688, 154.2759552001953, 175.8050994873047, 170.2890167236328, 162.389892578125, 172.62747192382812, 166.43724060058594, 29.98499870300293, 13.731514930725098, 15.159261703491211, 15.145488739013672, 10.043795585632324, 10.082138061523438, 14.252706527709961, 41.96767807006836, 7.4258503913879395, 8.635930061340332, 8.645757675170898, 12.126006126403809, 9.370967864990234, 16.241962432861328, 7.241659164428711, 14.12035083770752, 9.610494613647461, 6.64247465133667, 8.679309844970703, 12.189537048339844, 11.677382469177246, 6.632491111755371, 5.04177188873291, 7.350545406341553, 8.88015079498291, 4.977453708648682, 4.946450233459473, 8.84105396270752, 6.654446601867676, 10.94205379486084, 46.537105560302734, 46.73808670043945, 17.70151710510254, 21.977317810058594, 36.072120666503906, 10.752171516418457, 19.007415771484375, 31.7484130859375, 17.06324005126953, 26.915592193603516, 137.2692413330078, 38.40553283691406, 70.58824157714844, 1284.7821044921875, 22.29867935180664, 25.662559509277344, 214.2501220703125, 36.882972717285156, 191.46847534179688, 114.89790344238281, 23.758962631225586, 216.6260528564453, 70.58829498291016, 112.60697937011719, 59.10032272338867, 100.52470397949219, 88.30390930175781, 430.0791320800781, 238.24264526367188, 446.8876953125, 188.4001007080078, 349.2608642578125, 184.30062866210938, 67.59883880615234, 77.0099105834961, 345.46527099609375, 154.22955322265625, 297.8035583496094, 255.86062622070312, 106.690673828125, 92.43998718261719, 249.36402893066406, 170.99700927734375, 213.67201232910156, 129.46295166015625, 238.2699737548828, 156.2051544189453, 207.48074340820312, 152.8441162109375, 154.85325622558594, 146.60986328125, 161.24095153808594, 134.9304962158203, 120.24122619628906, 124.7504653930664, 122.73454284667969, 124.21379089355469, 124.267578125, 10.134480476379395, 13.623083114624023, 9.26341724395752, 7.632807731628418, 4.7363667488098145, 7.89199161529541, 14.021916389465332, 5.020758152008057, 7.792198657989502, 25.85481071472168, 4.980790138244629, 6.746399879455566, 4.497767448425293, 6.2508320808410645, 4.877804279327393, 7.044174671173096, 11.278985023498535, 16.69265365600586, 8.955944061279297, 3.8270974159240723, 6.928197860717773, 4.4920477867126465, 2.8566861152648926, 4.7599077224731445, 11.716065406799316, 4.6032938957214355, 8.243264198303223, 3.942363977432251, 24.949426651000977, 7.206480026245117, 9.329983711242676, 13.401020050048828, 37.39978790283203, 16.34151840209961, 25.351457595825195, 111.0304183959961, 124.38179016113281, 29.29283332824707, 15.307907104492188, 114.47111511230469, 109.69001007080078, 225.7043914794922, 57.41221618652344, 575.70361328125, 390.08587646484375, 45.46269226074219, 432.5624084472656, 101.48780059814453, 397.4620666503906, 95.70575714111328, 32.676753997802734, 98.35861206054688, 33.64310073852539, 183.1533660888672, 379.0181884765625, 52.738197326660156, 221.48468017578125, 81.07000732421875, 74.0064926147461, 108.65096282958984, 85.2480697631836, 189.0787353515625, 125.45399475097656, 127.58642578125, 97.24907684326172, 109.2200698852539, 93.85082244873047, 161.56349182128906, 106.14498138427734, 106.58985900878906, 89.18659973144531, 99.96497344970703, 136.29981994628906, 89.13793182373047, 88.57001495361328, 97.5831069946289, 94.5229721069336, 90.35411834716797, 11.350488662719727, 9.465310096740723, 17.770885467529297, 8.413163185119629, 9.474841117858887, 6.530378341674805, 3.6095526218414307, 4.278205871582031, 9.611478805541992, 11.983697891235352, 12.690705299377441, 4.528135776519775, 7.9342474937438965, 9.243393898010254, 12.375659942626953, 6.0629801750183105, 10.637967109680176, 4.326355457305908, 19.12516212463379, 4.713070869445801, 4.246284008026123, 3.9146482944488525, 7.111703395843506, 6.460110187530518, 8.98281478881836, 19.590534210205078, 6.9233012199401855, 18.33650779724121, 6.93371057510376, 4.213080406188965, 46.893924713134766, 6.805398941040039, 11.527165412902832, 18.65895652770996, 8.904531478881836, 20.499406814575195, 34.948116302490234, 213.44004821777344, 117.35951232910156, 53.77037048339844, 148.0120849609375, 272.18499755859375, 617.0557250976562, 24.02334213256836, 52.392940521240234, 117.41819763183594, 203.6897430419922, 15.94216537475586, 498.7459411621094, 350.083740234375, 160.15164184570312, 398.5711364746094, 34.33287811279297, 32.70092010498047, 117.22807312011719, 82.73992919921875, 92.68407440185547, 158.38113403320312, 145.72093200683594, 160.70159912109375, 124.43331909179688, 122.33544921875, 71.08187103271484, 106.52442932128906, 184.10394287109375, 113.21416473388672, 114.68820190429688, 74.49030303955078, 137.86083984375, 119.7983627319336, 96.71646881103516, 152.9705352783203, 129.0245819091797, 103.59346008300781, 122.84317779541016, 147.4600067138672, 101.2398452758789, 109.94873809814453, 104.28011322021484, 14.687170028686523, 8.136303901672363, 16.14171600341797, 9.683884620666504, 6.292632579803467, 10.362071990966797, 4.70160436630249, 5.052022457122803, 4.2599053382873535, 4.213333606719971, 3.8998634815216064, 21.36431121826172, 8.121415138244629, 8.853148460388184, 9.10376262664795, 3.9907846450805664, 11.732259750366211, 7.552828788757324, 6.207014083862305, 7.6387834548950195, 4.8553385734558105, 5.2630438804626465, 3.786015748977661, 2.8461925983428955, 42.842411041259766, 18.96571159362793, 7.091806411743164, 3.725266456604004, 49.134735107421875, 18.031145095825195, 12.297775268554688, 16.754512786865234, 33.98152160644531, 14.150981903076172, 15.149511337280273, 293.1153869628906, 50.73537063598633, 11.058469772338867, 760.4094848632812, 99.36087799072266, 16.350360870361328, 90.5117416381836, 385.97442626953125, 155.0707244873047, 376.114990234375, 312.5956726074219, 383.6359558105469, 47.54024124145508, 55.11875534057617, 48.70387268066406, 83.99873352050781, 64.43453216552734, 69.55585479736328, 76.06547546386719, 92.92009735107422, 143.55213928222656, 284.4449768066406, 107.91625213623047, 45.90024185180664, 219.8009796142578, 292.5699157714844, 99.1613998413086, 130.85791015625, 95.02820587158203, 146.93496704101562, 110.63629150390625, 120.62763977050781, 97.33747863769531, 133.88381958007812, 102.94087982177734, 104.45381927490234, 101.27417755126953, 98.2247543334961, 119.7123794555664, 112.31867980957031, 94.12757110595703, 94.64156341552734, 21.87153434753418, 6.249408721923828, 4.319291591644287, 3.662275791168213, 4.2028398513793945, 3.5378079414367676, 18.897615432739258, 4.645585060119629, 2.830385684967041, 4.821447372436523, 3.864631414413452, 3.5669124126434326, 5.3372111320495605, 4.326640605926514, 53.650333404541016, 3.8070476055145264, 3.4613466262817383, 4.7714948654174805, 1.8567523956298828, 5.330520153045654, 7.052923202514648, 3.9505655765533447, 3.9868357181549072, 3.6991705894470215, 3.7181336879730225, 4.976902961730957, 4.718235969543457, 3.364194869995117, 3.5448389053344727, 3.23359751701355, 6.136037349700928, 30.256284713745117, 8.98632526397705, 172.3660430908203, 8.0665864944458, 16.211875915527344, 14.321023941040039, 83.81100463867188, 11.382134437561035, 9.121994018554688, 42.82672882080078, 111.83528900146484, 6.391756534576416, 39.2003288269043, 17.08229637145996, 5.977926731109619, 14.367317199707031, 42.24170684814453, 28.119823455810547, 13.67360782623291, 15.817429542541504, 10.287378311157227, 17.925609588623047, 8.267136573791504, 67.02365112304688, 12.952204704284668, 33.91498947143555, 71.5067367553711, 101.79186248779297, 157.639892578125, 73.59834289550781, 107.39356231689453, 41.39836120605469, 198.32147216796875, 102.74334716796875, 43.099464416503906, 57.45901107788086, 74.96713256835938, 56.18527603149414, 103.1828384399414, 80.97747802734375, 106.35427856445312, 62.3165168762207, 50.95956039428711, 79.64494323730469, 98.14592742919922, 65.49506378173828, 79.84780883789062, 81.43811798095703, 75.12178039550781, 53.797306060791016, 66.32877349853516, 54.02141189575195, 54.30322265625, 56.40955352783203], \"Total\": [6208.0, 4213.0, 4923.0, 8425.0, 5317.0, 3684.0, 1188.0, 3472.0, 1156.0, 709.0, 4368.0, 1393.0, 1489.0, 1040.0, 3742.0, 338.0, 2220.0, 699.0, 1339.0, 1965.0, 1726.0, 1555.0, 1459.0, 363.0, 1095.0, 931.0, 1511.0, 1644.0, 1382.0, 835.0, 33.5983772277832, 41.188697814941406, 513.372314453125, 20.040346145629883, 77.98767852783203, 25.013023376464844, 45.13865280151367, 50.619422912597656, 19.554365158081055, 41.20597457885742, 101.7580795288086, 27.159423828125, 12.443212509155273, 34.6318359375, 11.805523872375488, 16.111156463623047, 33.43994140625, 18.23493766784668, 26.37248992919922, 16.889467239379883, 12.999591827392578, 17.500890731811523, 13.454719543457031, 15.621969223022461, 47.48941421508789, 14.053511619567871, 19.93470573425293, 60.17966079711914, 23.819726943969727, 15.291152954101562, 126.56768798828125, 44.020957946777344, 150.029052734375, 152.3795928955078, 31.104700088500977, 207.10296630859375, 69.81238555908203, 103.85151672363281, 591.6282958984375, 900.0679321289062, 46.13431167602539, 68.3963623046875, 85.9494857788086, 523.4409790039062, 392.2861328125, 1040.0516357421875, 1330.3631591796875, 112.19768524169922, 717.015625, 378.662841796875, 670.3267822265625, 179.2234649658203, 141.98846435546875, 4923.10986328125, 548.8465576171875, 917.2788696289062, 3472.49560546875, 505.0898132324219, 761.3756103515625, 931.29345703125, 417.5721435546875, 356.360107421875, 1555.3594970703125, 1681.13427734375, 967.0847778320312, 2622.37451171875, 1189.378662109375, 1173.1026611328125, 6208.890625, 8425.9375, 5317.6611328125, 4034.020263671875, 889.4081420898438, 1180.6322021484375, 1188.327392578125, 4213.70849609375, 3742.826416015625, 925.468505859375, 2220.42041015625, 2964.852783203125, 1460.4163818359375, 3185.859130859375, 4368.40771484375, 3684.93115234375, 3196.173583984375, 1826.196533203125, 1474.0391845703125, 14.58371639251709, 13.935300827026367, 18.060531616210938, 11.626922607421875, 15.661288261413574, 11.59988021850586, 9.823833465576172, 21.59329605102539, 12.721454620361328, 19.829240798950195, 7.508050441741943, 7.499862194061279, 8.05865478515625, 6.8919243812561035, 8.072025299072266, 7.464316368103027, 9.71513843536377, 8.668092727661133, 9.83843994140625, 6.879195690155029, 7.47254753112793, 10.830920219421387, 26.116846084594727, 10.794556617736816, 8.001667022705078, 10.209542274475098, 6.861994743347168, 13.276998519897461, 9.803105354309082, 6.8115458488464355, 12.587021827697754, 150.0891571044922, 33.35829544067383, 33.06721115112305, 23.6275577545166, 15.831452369689941, 21.748756408691406, 267.58203125, 29.756832122802734, 384.4681091308594, 72.18621063232422, 20.586688995361328, 59.414207458496094, 79.70672607421875, 524.7904052734375, 39.960819244384766, 1644.2445068359375, 23.006498336791992, 1146.1328125, 1655.5533447265625, 420.4371643066406, 709.3235473632812, 386.18890380859375, 101.8433837890625, 162.5572967529297, 519.6289672851562, 424.41680908203125, 1133.137451171875, 123.16593933105469, 1744.7342529296875, 632.58642578125, 483.6707458496094, 898.5768432617188, 1866.770751953125, 3196.173583984375, 987.1395874023438, 1414.5101318359375, 1554.8076171875, 531.4259643554688, 431.3636474609375, 1765.634521484375, 3185.859130859375, 1094.81787109375, 4368.40771484375, 652.6285400390625, 5317.6611328125, 4034.020263671875, 1285.0001220703125, 3684.93115234375, 2964.852783203125, 1512.5118408203125, 3742.826416015625, 8425.9375, 1965.076904296875, 1373.0526123046875, 6208.890625, 2622.37451171875, 1511.152587890625, 55.61688995361328, 73.78388214111328, 19.776756286621094, 25.599443435668945, 26.219072341918945, 21.44566535949707, 37.53402328491211, 46.265296936035156, 19.433143615722656, 26.835920333862305, 15.244878768920898, 16.42464828491211, 14.7473726272583, 13.812746047973633, 14.92731761932373, 14.839639663696289, 15.98434829711914, 41.54343795776367, 11.788193702697754, 12.410712242126465, 10.671586036682129, 12.258793830871582, 56.09950256347656, 16.574731826782227, 11.165383338928223, 38.36980438232422, 11.606021881103516, 14.822765350341797, 10.2500581741333, 9.627046585083008, 140.3736114501953, 17.247419357299805, 26.88808250427246, 164.76734924316406, 29.47279167175293, 309.33880615234375, 41.84230041503906, 32.708946228027344, 56.28234100341797, 53.85612487792969, 64.68814849853516, 38.816036224365234, 104.2245101928711, 93.51811218261719, 54.89834976196289, 1156.4747314453125, 142.9486541748047, 168.59786987304688, 117.73910522460938, 169.19033813476562, 268.6505126953125, 81.54878234863281, 835.9857177734375, 84.52055358886719, 492.01165771484375, 70.7502670288086, 158.49130249023438, 63.641258239746094, 628.56103515625, 651.6472778320312, 1655.5533447265625, 1644.2445068359375, 4368.40771484375, 661.641357421875, 1489.3187255859375, 1373.0526123046875, 2964.852783203125, 370.2235107421875, 8425.9375, 1511.152587890625, 1103.586669921875, 1049.2884521484375, 1585.22900390625, 4034.020263671875, 1765.634521484375, 3196.173583984375, 1556.6959228515625, 1153.4488525390625, 1512.5118408203125, 1095.3475341796875, 1094.81787109375, 1826.196533203125, 1554.8076171875, 3742.826416015625, 1866.770751953125, 3472.49560546875, 15.50471019744873, 10.391071319580078, 13.983882904052734, 19.76132583618164, 10.460269927978516, 14.760163307189941, 22.452882766723633, 8.16826343536377, 8.601351737976074, 7.71026611328125, 10.007423400878906, 7.700754642486572, 9.505657196044922, 14.995403289794922, 8.179949760437012, 10.507636070251465, 6.389176368713379, 7.756185531616211, 172.36045837402344, 5.424892902374268, 13.469356536865234, 7.316559791564941, 5.919733047485352, 5.461197376251221, 15.059736251831055, 8.218012809753418, 5.467983722686768, 6.423290252685547, 5.461787700653076, 15.381312370300293, 12.177968978881836, 35.90968322753906, 10.153021812438965, 56.91884231567383, 12.887683868408203, 699.655517578125, 76.40425109863281, 39.49504089355469, 25.51349639892578, 199.06390380859375, 47.47166061401367, 121.49345397949219, 38.15385055541992, 44.57264709472656, 524.9153442382812, 38.954715728759766, 215.86875915527344, 8425.9375, 552.8264770507812, 3185.859130859375, 3472.49560546875, 756.6270141601562, 151.05194091796875, 639.000732421875, 778.2748413085938, 113.25054931640625, 152.92391967773438, 3742.826416015625, 380.6047668457031, 439.0021667480469, 341.049560546875, 967.1655883789062, 1555.3594970703125, 632.58642578125, 925.468505859375, 2220.42041015625, 644.2051391601562, 3196.173583984375, 6208.890625, 931.29345703125, 1189.378662109375, 1163.702880859375, 1681.13427734375, 1436.1280517578125, 5317.6611328125, 1765.634521484375, 4368.40771484375, 4213.70849609375, 4923.10986328125, 2964.852783203125, 3684.93115234375, 1826.196533203125, 4034.020263671875, 2622.37451171875, 1726.052001953125, 52.921836853027344, 19.155792236328125, 25.823095321655273, 11.984992027282715, 11.154092788696289, 33.37758255004883, 8.43886947631836, 8.432952880859375, 12.529587745666504, 10.217769622802734, 13.778190612792969, 11.167695999145508, 6.256741523742676, 8.508292198181152, 11.988358497619629, 15.705255508422852, 5.8139424324035645, 6.261353492736816, 5.833804130554199, 5.797242164611816, 5.834525108337402, 17.091201782226562, 5.751338958740234, 6.731990814208984, 7.999386787414551, 5.379465579986572, 5.842410087585449, 34.61867141723633, 8.871387481689453, 6.330224514007568, 7.941686630249023, 80.33796691894531, 59.256500244140625, 105.38880920410156, 17.67166519165039, 16.44354248046875, 29.380523681640625, 10.2576322555542, 41.07798385620117, 11.776267051696777, 10.499669075012207, 45.02845001220703, 265.29443359375, 25.85618782043457, 54.4554328918457, 33.226531982421875, 1071.588623046875, 240.095947265625, 4368.40771484375, 4923.10986328125, 1965.076904296875, 1459.250244140625, 1421.343994140625, 4034.020263671875, 664.8312377929688, 3684.93115234375, 269.4781494140625, 1744.7342529296875, 3742.826416015625, 1382.76220703125, 6208.890625, 974.065673828125, 4213.70849609375, 8425.9375, 1511.152587890625, 793.4229125976562, 1556.6959228515625, 791.5419311523438, 3185.859130859375, 2964.852783203125, 3196.173583984375, 1083.61474609375, 1083.894287109375, 1585.22900390625, 5317.6611328125, 1726.052001953125, 1133.137451171875, 1826.196533203125, 1681.13427734375, 1512.5118408203125, 3472.49560546875, 2622.37451171875, 32.11807632446289, 14.94502067565918, 16.659255981445312, 16.66516876220703, 11.132989883422852, 11.211873054504395, 15.854606628417969, 46.95303726196289, 8.368265151977539, 9.775887489318848, 9.861756324768066, 13.93287181854248, 10.781779289245605, 18.71323013305664, 8.383657455444336, 16.49881935119629, 11.277791023254395, 7.877328872680664, 10.32895565032959, 14.5432710647583, 13.9351167678833, 7.9471282958984375, 6.059317111968994, 8.936964988708496, 10.82327651977539, 6.089137554168701, 6.064157962799072, 10.896746635437012, 8.205548286437988, 13.565594673156738, 62.35845184326172, 62.8527717590332, 23.10112953186035, 29.31454086303711, 53.584320068359375, 13.796724319458008, 27.20077896118164, 50.204505920410156, 24.435606002807617, 44.021583557128906, 352.3911437988281, 70.59312438964844, 156.6720428466797, 8425.9375, 35.287841796875, 43.383140563964844, 883.2752075195312, 74.58731842041016, 806.1303100585938, 420.4371643066406, 40.0724983215332, 1156.4747314453125, 217.96810913085938, 479.64117431640625, 173.23793029785156, 430.98162841796875, 351.4863586425781, 5317.6611328125, 1965.076904296875, 6208.890625, 1421.343994140625, 4213.70849609375, 1382.76220703125, 236.65586853027344, 299.41888427734375, 4368.40771484375, 1083.61474609375, 3684.93115234375, 3185.859130859375, 596.7662353515625, 447.705078125, 3742.826416015625, 1726.052001953125, 2964.852783203125, 953.1057739257812, 4034.020263671875, 1556.6959228515625, 3196.173583984375, 1489.3187255859375, 1585.22900390625, 1511.152587890625, 2220.42041015625, 1474.0391845703125, 974.065673828125, 1393.353271484375, 1373.0526123046875, 1826.196533203125, 1866.770751953125, 11.249263763427734, 15.152490615844727, 10.390168190002441, 8.702841758728027, 5.687259674072266, 9.577752113342285, 17.088653564453125, 6.132564067840576, 9.624353408813477, 32.09239196777344, 6.196500301361084, 8.395774841308594, 5.676380634307861, 7.905150890350342, 6.2107696533203125, 8.9867582321167, 14.773480415344238, 21.993398666381836, 11.989420890808105, 5.217454433441162, 9.490556716918945, 6.1595563888549805, 4.005149841308594, 6.705464839935303, 16.567075729370117, 6.578428268432617, 11.815485954284668, 5.695441246032715, 36.16641616821289, 10.480388641357422, 14.11707592010498, 20.98070526123047, 74.25331115722656, 28.45798110961914, 51.74061965942383, 325.78466796875, 431.2827453613281, 67.09101867675781, 28.441713333129883, 477.7610168457031, 474.2211608886719, 1339.62158203125, 192.9747314453125, 6208.890625, 4213.70849609375, 157.37014770507812, 5317.6611328125, 557.3131103515625, 4923.10986328125, 580.1885986328125, 100.29566955566406, 670.3267822265625, 113.09191131591797, 2220.42041015625, 8425.9375, 252.2194366455078, 3684.93115234375, 590.7140502929688, 503.621826171875, 1071.588623046875, 672.2421875, 3742.826416015625, 1726.052001953125, 1826.196533203125, 1049.2884521484375, 1436.1280517578125, 1083.61474609375, 4368.40771484375, 1511.152587890625, 1555.3594970703125, 966.9928588867188, 1382.76220703125, 4034.020263671875, 967.0847778320312, 974.065673828125, 3196.173583984375, 2964.852783203125, 1414.5101318359375, 12.71452808380127, 10.844292640686035, 20.364267349243164, 10.013123512268066, 11.439091682434082, 8.036938667297363, 4.610743045806885, 5.482178688049316, 12.318245887756348, 15.454617500305176, 16.37723159790039, 5.883696556091309, 10.341145515441895, 12.067961692810059, 16.20619010925293, 8.223648071289062, 14.462885856628418, 5.978764057159424, 26.44085693359375, 6.5307087898254395, 5.885871887207031, 5.4302473068237305, 9.874161720275879, 9.02071762084961, 12.546614646911621, 27.3905029296875, 9.710278511047363, 26.023799896240234, 9.887527465820312, 6.019494533538818, 68.35314178466797, 9.833026885986328, 17.703704833984375, 31.014869689941406, 13.599570274353027, 38.146026611328125, 73.12057495117188, 709.3235473632812, 351.4863586425781, 137.19895935058594, 556.3062744140625, 1393.353271484375, 4213.70849609375, 52.5721321105957, 155.9003143310547, 524.8017578125, 1489.3187255859375, 30.128339767456055, 6208.890625, 3684.93115234375, 1095.3475341796875, 5317.6611328125, 98.1876220703125, 91.50453186035156, 771.1660766601562, 479.64117431640625, 628.56103515625, 1726.052001953125, 1512.5118408203125, 2220.42041015625, 1373.0526123046875, 1382.76220703125, 487.3682861328125, 1153.4488525390625, 4368.40771484375, 1460.4163818359375, 1511.152587890625, 580.1885986328125, 2622.37451171875, 1965.076904296875, 1146.1328125, 4923.10986328125, 2964.852783203125, 1556.6959228515625, 3196.173583984375, 8425.9375, 1765.634521484375, 4034.020263671875, 3742.826416015625, 16.28092384338379, 9.325387001037598, 18.56336784362793, 11.216299057006836, 7.5782060623168945, 12.615431785583496, 5.819080352783203, 6.2573561668396, 5.348059177398682, 5.349804878234863, 5.007877349853516, 27.4747314453125, 10.489980697631836, 11.807740211486816, 12.20287036895752, 5.355462551116943, 15.95580768585205, 10.363255500793457, 8.536842346191406, 10.577502250671387, 6.778037071228027, 7.44573450088501, 5.380248069763184, 4.0851850509643555, 62.813575744628906, 27.844161987304688, 10.423686981201172, 5.490248203277588, 72.90928649902344, 27.110824584960938, 19.2059326171875, 29.07707405090332, 67.36688232421875, 24.885541915893555, 27.593727111816406, 1188.327392578125, 137.79327392578125, 19.173709869384766, 6208.890625, 429.4280700683594, 34.362632751464844, 431.2827453613281, 3684.93115234375, 1040.0516357421875, 4213.70849609375, 3472.49560546875, 4923.10986328125, 192.9747314453125, 245.93922424316406, 202.58425903320312, 511.4989929199219, 332.06658935546875, 380.6047668457031, 445.0235900878906, 635.6827392578125, 1459.250244140625, 5317.6611328125, 931.29345703125, 193.02960205078125, 4368.40771484375, 8425.9375, 925.468505859375, 1726.052001953125, 935.9317626953125, 2622.37451171875, 1382.76220703125, 1826.196533203125, 1173.1026611328125, 2964.852783203125, 1460.4163818359375, 1585.22900390625, 1555.3594970703125, 1436.1280517578125, 4034.020263671875, 3742.826416015625, 1556.6959228515625, 1681.13427734375, 24.739322662353516, 7.373165130615234, 5.568375587463379, 4.759130477905273, 5.552316188812256, 4.807657718658447, 26.43012237548828, 6.5220627784729, 4.072857856750488, 7.012298583984375, 5.637917518615723, 5.22380256652832, 7.870822429656982, 6.410893440246582, 80.10895538330078, 5.812273979187012, 5.316257953643799, 7.355750560760498, 2.8751537799835205, 8.268399238586426, 10.959552764892578, 6.151537895202637, 6.2331223487854, 5.80258846282959, 5.846278190612793, 7.882226943969727, 7.660707950592041, 5.515478134155273, 5.819331169128418, 5.3201212882995605, 10.124639511108398, 52.382102966308594, 15.224603652954102, 338.1004638671875, 13.849729537963867, 31.00560760498047, 26.94481658935547, 217.96810913085938, 21.355571746826172, 16.6199951171875, 111.51062774658203, 363.24993896484375, 11.007356643676758, 125.86347961425781, 43.2037353515625, 10.16301155090332, 35.859405517578125, 175.0067138671875, 96.35513305664062, 35.71650314331055, 45.98698425292969, 23.363929748535156, 58.67338180541992, 16.763343811035156, 580.1885986328125, 35.88339614868164, 207.28329467773438, 791.5419311523438, 1489.3187255859375, 3742.826416015625, 931.7632446289062, 1965.076904296875, 318.22119140625, 8425.9375, 2220.42041015625, 378.2701110839844, 709.3235473632812, 1459.250244140625, 771.1660766601562, 3196.173583984375, 1866.770751953125, 3684.93115234375, 1083.61474609375, 698.6051025390625, 2622.37451171875, 5317.6611328125, 1511.152587890625, 4034.020263671875, 6208.890625, 4368.40771484375, 1095.3475341796875, 4923.10986328125, 1421.343994140625, 1585.22900390625, 4213.70849609375], \"Category\": [\"Default\", \"Default\", \"Default\", \"Default\", \"Default\", \"Default\", \"Default\", \"Default\", \"Default\", \"Default\", \"Default\", \"Default\", \"Default\", \"Default\", \"Default\", \"Default\", \"Default\", \"Default\", \"Default\", \"Default\", \"Default\", \"Default\", \"Default\", \"Default\", \"Default\", \"Default\", \"Default\", \"Default\", \"Default\", \"Default\", \"Topic1\", \"Topic1\", \"Topic1\", \"Topic1\", \"Topic1\", \"Topic1\", \"Topic1\", \"Topic1\", \"Topic1\", \"Topic1\", \"Topic1\", \"Topic1\", \"Topic1\", \"Topic1\", \"Topic1\", \"Topic1\", \"Topic1\", \"Topic1\", \"Topic1\", \"Topic1\", \"Topic1\", \"Topic1\", \"Topic1\", \"Topic1\", \"Topic1\", \"Topic1\", \"Topic1\", \"Topic1\", \"Topic1\", \"Topic1\", \"Topic1\", \"Topic1\", \"Topic1\", \"Topic1\", \"Topic1\", \"Topic1\", \"Topic1\", \"Topic1\", \"Topic1\", \"Topic1\", \"Topic1\", \"Topic1\", \"Topic1\", \"Topic1\", \"Topic1\", \"Topic1\", \"Topic1\", \"Topic1\", \"Topic1\", \"Topic1\", \"Topic1\", \"Topic1\", \"Topic1\", \"Topic1\", \"Topic1\", \"Topic1\", \"Topic1\", \"Topic1\", \"Topic1\", \"Topic1\", \"Topic1\", \"Topic1\", \"Topic1\", \"Topic1\", \"Topic1\", \"Topic1\", \"Topic1\", \"Topic1\", \"Topic1\", \"Topic1\", \"Topic1\", \"Topic1\", \"Topic1\", \"Topic1\", \"Topic1\", \"Topic1\", \"Topic1\", \"Topic1\", \"Topic1\", \"Topic1\", \"Topic1\", \"Topic1\", \"Topic1\", \"Topic1\", \"Topic1\", \"Topic1\", \"Topic1\", \"Topic2\", \"Topic2\", \"Topic2\", \"Topic2\", \"Topic2\", \"Topic2\", \"Topic2\", \"Topic2\", \"Topic2\", \"Topic2\", \"Topic2\", \"Topic2\", \"Topic2\", \"Topic2\", \"Topic2\", \"Topic2\", \"Topic2\", \"Topic2\", \"Topic2\", \"Topic2\", \"Topic2\", \"Topic2\", \"Topic2\", \"Topic2\", \"Topic2\", \"Topic2\", \"Topic2\", \"Topic2\", \"Topic2\", \"Topic2\", \"Topic2\", \"Topic2\", \"Topic2\", \"Topic2\", \"Topic2\", \"Topic2\", \"Topic2\", \"Topic2\", \"Topic2\", \"Topic2\", \"Topic2\", \"Topic2\", \"Topic2\", \"Topic2\", \"Topic2\", \"Topic2\", \"Topic2\", \"Topic2\", \"Topic2\", \"Topic2\", \"Topic2\", \"Topic2\", \"Topic2\", \"Topic2\", \"Topic2\", \"Topic2\", \"Topic2\", \"Topic2\", \"Topic2\", \"Topic2\", \"Topic2\", \"Topic2\", \"Topic2\", \"Topic2\", \"Topic2\", \"Topic2\", \"Topic2\", \"Topic2\", \"Topic2\", \"Topic2\", \"Topic2\", \"Topic2\", \"Topic2\", \"Topic2\", \"Topic2\", \"Topic2\", \"Topic2\", \"Topic2\", \"Topic2\", \"Topic2\", \"Topic2\", \"Topic2\", \"Topic2\", \"Topic2\", \"Topic2\", \"Topic2\", \"Topic2\", \"Topic2\", \"Topic3\", \"Topic3\", \"Topic3\", \"Topic3\", \"Topic3\", \"Topic3\", \"Topic3\", \"Topic3\", \"Topic3\", \"Topic3\", \"Topic3\", \"Topic3\", \"Topic3\", \"Topic3\", \"Topic3\", \"Topic3\", \"Topic3\", \"Topic3\", \"Topic3\", \"Topic3\", \"Topic3\", \"Topic3\", \"Topic3\", \"Topic3\", \"Topic3\", \"Topic3\", \"Topic3\", \"Topic3\", \"Topic3\", \"Topic3\", \"Topic3\", \"Topic3\", \"Topic3\", \"Topic3\", \"Topic3\", \"Topic3\", \"Topic3\", \"Topic3\", \"Topic3\", \"Topic3\", \"Topic3\", \"Topic3\", \"Topic3\", \"Topic3\", \"Topic3\", \"Topic3\", \"Topic3\", \"Topic3\", \"Topic3\", \"Topic3\", \"Topic3\", \"Topic3\", \"Topic3\", \"Topic3\", \"Topic3\", \"Topic3\", \"Topic3\", \"Topic3\", \"Topic3\", \"Topic3\", \"Topic3\", \"Topic3\", \"Topic3\", \"Topic3\", \"Topic3\", \"Topic3\", \"Topic3\", \"Topic3\", \"Topic3\", \"Topic3\", \"Topic3\", \"Topic3\", \"Topic3\", \"Topic3\", \"Topic3\", \"Topic3\", \"Topic3\", \"Topic3\", \"Topic3\", \"Topic3\", \"Topic3\", \"Topic3\", \"Topic3\", \"Topic3\", \"Topic3\", \"Topic3\", \"Topic4\", \"Topic4\", \"Topic4\", \"Topic4\", \"Topic4\", \"Topic4\", \"Topic4\", \"Topic4\", \"Topic4\", \"Topic4\", \"Topic4\", \"Topic4\", \"Topic4\", \"Topic4\", \"Topic4\", \"Topic4\", \"Topic4\", \"Topic4\", \"Topic4\", \"Topic4\", \"Topic4\", \"Topic4\", \"Topic4\", \"Topic4\", \"Topic4\", \"Topic4\", \"Topic4\", \"Topic4\", \"Topic4\", \"Topic4\", \"Topic4\", \"Topic4\", \"Topic4\", \"Topic4\", \"Topic4\", \"Topic4\", \"Topic4\", \"Topic4\", \"Topic4\", \"Topic4\", \"Topic4\", \"Topic4\", \"Topic4\", \"Topic4\", \"Topic4\", \"Topic4\", \"Topic4\", \"Topic4\", \"Topic4\", \"Topic4\", \"Topic4\", \"Topic4\", \"Topic4\", \"Topic4\", \"Topic4\", \"Topic4\", \"Topic4\", \"Topic4\", \"Topic4\", \"Topic4\", \"Topic4\", \"Topic4\", \"Topic4\", \"Topic4\", \"Topic4\", \"Topic4\", \"Topic4\", \"Topic4\", \"Topic4\", \"Topic4\", \"Topic4\", \"Topic4\", \"Topic4\", \"Topic4\", \"Topic4\", \"Topic4\", \"Topic4\", \"Topic4\", \"Topic4\", \"Topic4\", \"Topic4\", \"Topic4\", \"Topic4\", \"Topic4\", \"Topic4\", \"Topic5\", \"Topic5\", \"Topic5\", \"Topic5\", \"Topic5\", \"Topic5\", \"Topic5\", \"Topic5\", \"Topic5\", \"Topic5\", \"Topic5\", \"Topic5\", \"Topic5\", \"Topic5\", \"Topic5\", \"Topic5\", \"Topic5\", \"Topic5\", \"Topic5\", \"Topic5\", \"Topic5\", \"Topic5\", \"Topic5\", \"Topic5\", \"Topic5\", \"Topic5\", \"Topic5\", \"Topic5\", \"Topic5\", \"Topic5\", \"Topic5\", \"Topic5\", \"Topic5\", \"Topic5\", \"Topic5\", \"Topic5\", \"Topic5\", \"Topic5\", \"Topic5\", \"Topic5\", \"Topic5\", \"Topic5\", \"Topic5\", \"Topic5\", \"Topic5\", \"Topic5\", \"Topic5\", \"Topic5\", \"Topic5\", \"Topic5\", \"Topic5\", \"Topic5\", \"Topic5\", \"Topic5\", \"Topic5\", \"Topic5\", \"Topic5\", \"Topic5\", \"Topic5\", \"Topic5\", \"Topic5\", \"Topic5\", \"Topic5\", \"Topic5\", \"Topic5\", \"Topic5\", \"Topic5\", \"Topic5\", \"Topic5\", \"Topic5\", \"Topic5\", \"Topic5\", \"Topic5\", \"Topic5\", \"Topic5\", \"Topic5\", \"Topic5\", \"Topic5\", \"Topic5\", \"Topic5\", \"Topic5\", \"Topic5\", \"Topic6\", \"Topic6\", \"Topic6\", \"Topic6\", \"Topic6\", \"Topic6\", \"Topic6\", \"Topic6\", \"Topic6\", \"Topic6\", \"Topic6\", \"Topic6\", \"Topic6\", \"Topic6\", \"Topic6\", \"Topic6\", \"Topic6\", \"Topic6\", \"Topic6\", \"Topic6\", \"Topic6\", \"Topic6\", \"Topic6\", \"Topic6\", \"Topic6\", \"Topic6\", \"Topic6\", \"Topic6\", \"Topic6\", \"Topic6\", \"Topic6\", \"Topic6\", \"Topic6\", \"Topic6\", \"Topic6\", \"Topic6\", \"Topic6\", \"Topic6\", \"Topic6\", \"Topic6\", \"Topic6\", \"Topic6\", \"Topic6\", \"Topic6\", \"Topic6\", \"Topic6\", \"Topic6\", \"Topic6\", \"Topic6\", \"Topic6\", \"Topic6\", \"Topic6\", \"Topic6\", \"Topic6\", \"Topic6\", \"Topic6\", \"Topic6\", \"Topic6\", \"Topic6\", \"Topic6\", \"Topic6\", \"Topic6\", \"Topic6\", \"Topic6\", \"Topic6\", \"Topic6\", \"Topic6\", \"Topic6\", \"Topic6\", \"Topic6\", \"Topic6\", \"Topic6\", \"Topic6\", \"Topic6\", \"Topic6\", \"Topic6\", \"Topic6\", \"Topic6\", \"Topic6\", \"Topic6\", \"Topic6\", \"Topic6\", \"Topic6\", \"Topic6\", \"Topic6\", \"Topic6\", \"Topic6\", \"Topic6\", \"Topic7\", \"Topic7\", \"Topic7\", \"Topic7\", \"Topic7\", \"Topic7\", \"Topic7\", \"Topic7\", \"Topic7\", \"Topic7\", \"Topic7\", \"Topic7\", \"Topic7\", \"Topic7\", \"Topic7\", \"Topic7\", \"Topic7\", \"Topic7\", \"Topic7\", \"Topic7\", \"Topic7\", \"Topic7\", \"Topic7\", \"Topic7\", \"Topic7\", \"Topic7\", \"Topic7\", \"Topic7\", \"Topic7\", \"Topic7\", \"Topic7\", \"Topic7\", \"Topic7\", \"Topic7\", \"Topic7\", \"Topic7\", \"Topic7\", \"Topic7\", \"Topic7\", \"Topic7\", \"Topic7\", \"Topic7\", \"Topic7\", \"Topic7\", \"Topic7\", \"Topic7\", \"Topic7\", \"Topic7\", \"Topic7\", \"Topic7\", \"Topic7\", \"Topic7\", \"Topic7\", \"Topic7\", \"Topic7\", \"Topic7\", \"Topic7\", \"Topic7\", \"Topic7\", \"Topic7\", \"Topic7\", \"Topic7\", \"Topic7\", \"Topic7\", \"Topic7\", \"Topic7\", \"Topic7\", \"Topic7\", \"Topic7\", \"Topic7\", \"Topic7\", \"Topic7\", \"Topic7\", \"Topic7\", \"Topic7\", \"Topic7\", \"Topic7\", \"Topic7\", \"Topic8\", \"Topic8\", \"Topic8\", \"Topic8\", \"Topic8\", \"Topic8\", \"Topic8\", \"Topic8\", \"Topic8\", \"Topic8\", \"Topic8\", \"Topic8\", \"Topic8\", \"Topic8\", \"Topic8\", \"Topic8\", \"Topic8\", \"Topic8\", \"Topic8\", \"Topic8\", \"Topic8\", \"Topic8\", \"Topic8\", \"Topic8\", \"Topic8\", \"Topic8\", \"Topic8\", \"Topic8\", \"Topic8\", \"Topic8\", \"Topic8\", \"Topic8\", \"Topic8\", \"Topic8\", \"Topic8\", \"Topic8\", \"Topic8\", \"Topic8\", \"Topic8\", \"Topic8\", \"Topic8\", \"Topic8\", \"Topic8\", \"Topic8\", \"Topic8\", \"Topic8\", \"Topic8\", \"Topic8\", \"Topic8\", \"Topic8\", \"Topic8\", \"Topic8\", \"Topic8\", \"Topic8\", \"Topic8\", \"Topic8\", \"Topic8\", \"Topic8\", \"Topic8\", \"Topic8\", \"Topic8\", \"Topic8\", \"Topic8\", \"Topic8\", \"Topic8\", \"Topic8\", \"Topic8\", \"Topic8\", \"Topic8\", \"Topic8\", \"Topic8\", \"Topic8\", \"Topic8\", \"Topic8\", \"Topic8\", \"Topic8\", \"Topic8\", \"Topic8\", \"Topic8\", \"Topic9\", \"Topic9\", \"Topic9\", \"Topic9\", \"Topic9\", \"Topic9\", \"Topic9\", \"Topic9\", \"Topic9\", \"Topic9\", \"Topic9\", \"Topic9\", \"Topic9\", \"Topic9\", \"Topic9\", \"Topic9\", \"Topic9\", \"Topic9\", \"Topic9\", \"Topic9\", \"Topic9\", \"Topic9\", \"Topic9\", \"Topic9\", \"Topic9\", \"Topic9\", \"Topic9\", \"Topic9\", \"Topic9\", \"Topic9\", \"Topic9\", \"Topic9\", \"Topic9\", \"Topic9\", \"Topic9\", \"Topic9\", \"Topic9\", \"Topic9\", \"Topic9\", \"Topic9\", \"Topic9\", \"Topic9\", \"Topic9\", \"Topic9\", \"Topic9\", \"Topic9\", \"Topic9\", \"Topic9\", \"Topic9\", \"Topic9\", \"Topic9\", \"Topic9\", \"Topic9\", \"Topic9\", \"Topic9\", \"Topic9\", \"Topic9\", \"Topic9\", \"Topic9\", \"Topic9\", \"Topic9\", \"Topic9\", \"Topic9\", \"Topic9\", \"Topic9\", \"Topic9\", \"Topic9\", \"Topic9\", \"Topic9\", \"Topic9\", \"Topic9\", \"Topic9\", \"Topic9\", \"Topic9\", \"Topic9\", \"Topic9\", \"Topic9\", \"Topic10\", \"Topic10\", \"Topic10\", \"Topic10\", \"Topic10\", \"Topic10\", \"Topic10\", \"Topic10\", \"Topic10\", \"Topic10\", \"Topic10\", \"Topic10\", \"Topic10\", \"Topic10\", \"Topic10\", \"Topic10\", \"Topic10\", \"Topic10\", \"Topic10\", \"Topic10\", \"Topic10\", \"Topic10\", \"Topic10\", \"Topic10\", \"Topic10\", \"Topic10\", \"Topic10\", \"Topic10\", \"Topic10\", \"Topic10\", \"Topic10\", \"Topic10\", \"Topic10\", \"Topic10\", \"Topic10\", \"Topic10\", \"Topic10\", \"Topic10\", \"Topic10\", \"Topic10\", \"Topic10\", \"Topic10\", \"Topic10\", \"Topic10\", \"Topic10\", \"Topic10\", \"Topic10\", \"Topic10\", \"Topic10\", \"Topic10\", \"Topic10\", \"Topic10\", \"Topic10\", \"Topic10\", \"Topic10\", \"Topic10\", \"Topic10\", \"Topic10\", \"Topic10\", \"Topic10\", \"Topic10\", \"Topic10\", \"Topic10\", \"Topic10\", \"Topic10\", \"Topic10\", \"Topic10\", \"Topic10\", \"Topic10\", \"Topic10\", \"Topic10\", \"Topic10\", \"Topic10\", \"Topic10\", \"Topic10\", \"Topic10\", \"Topic10\", \"Topic10\", \"Topic10\", \"Topic10\", \"Topic10\", \"Topic10\", \"Topic10\", \"Topic10\", \"Topic10\"], \"logprob\": [30.0, 29.0, 28.0, 27.0, 26.0, 25.0, 24.0, 23.0, 22.0, 21.0, 20.0, 19.0, 18.0, 17.0, 16.0, 15.0, 14.0, 13.0, 12.0, 11.0, 10.0, 9.0, 8.0, 7.0, 6.0, 5.0, 4.0, 3.0, 2.0, 1.0, -8.360899925231934, -8.160400390625, -5.64109992980957, -8.888799667358398, -7.530399799346924, -8.667699813842773, -8.08430004119873, -7.970900058746338, -8.924200057983398, -8.180299758911133, -7.279900074005127, -8.606499671936035, -9.388500213623047, -8.364999771118164, -9.44279956817627, -9.132200241088867, -8.402400016784668, -9.010600090026855, -8.642399787902832, -9.088199615478516, -9.350500106811523, -9.054499626159668, -9.317700386047363, -9.170299530029297, -8.059399604797363, -9.277600288391113, -8.929200172424316, -7.825900077819824, -8.753299713134766, -9.197400093078613, -7.085100173950195, -8.144399642944336, -6.9380998611450195, -6.92579984664917, -8.49489974975586, -6.63700008392334, -7.7042999267578125, -7.327400207519531, -5.666500091552734, -5.264699935913086, -8.12030029296875, -7.753499984741211, -7.537700176239014, -5.855000019073486, -6.130000114440918, -5.237599849700928, -5.017899990081787, -7.298600196838379, -5.597499847412109, -6.186200141906738, -5.684700012207031, -6.877099990844727, -7.0945000648498535, -3.940999984741211, -5.899199962615967, -5.455399990081787, -4.301799774169922, -5.988699913024902, -5.634200096130371, -5.462900161743164, -6.161900043487549, -6.307199954986572, -5.071400165557861, -5.006700038909912, -5.484000205993652, -4.686999797821045, -5.3429999351501465, -5.356200218200684, -4.06879997253418, -3.8431999683380127, -4.217299938201904, -4.4766998291015625, -5.610199928283691, -5.42710018157959, -5.433300018310547, -4.612400054931641, -4.712200164794922, -5.618199825286865, -5.1153998374938965, -4.955599784851074, -5.366199970245361, -4.9994001388549805, -4.8730998039245605, -5.020500183105469, -5.15500020980835, -5.45959997177124, -5.496399879455566, -8.621100425720215, -8.672100067138672, -8.416000366210938, -8.868800163269043, -8.571499824523926, -8.875800132751465, -9.05049991607666, -8.27649974822998, -8.808099746704102, -8.369500160217285, -9.340999603271484, -9.344099998474121, -9.274100303649902, -9.438300132751465, -9.282400131225586, -9.362799644470215, -9.100000381469727, -9.214400291442871, -9.087800025939941, -9.446100234985352, -9.3641996383667, -9.000200271606445, -8.123299598693848, -9.011500358581543, -9.312399864196777, -9.070199966430664, -9.46969985961914, -8.81149959564209, -9.11520004272461, -9.482099533081055, -8.869400024414062, -6.425899982452393, -7.914299964904785, -7.9253997802734375, -8.266799926757812, -8.650099754333496, -8.35219955444336, -6.0482001304626465, -8.080100059509277, -5.733399868011475, -7.276700019836426, -8.424500465393066, -7.46999979019165, -7.209499835968018, -5.520500183105469, -7.833399772644043, -4.576300144195557, -8.337200164794922, -4.922100067138672, -4.6458001136779785, -5.825799942016602, -5.438700199127197, -5.954500198364258, -7.075099945068359, -6.687699794769287, -5.739200115203857, -5.920000076293945, -5.129799842834473, -6.9430999755859375, -4.836900234222412, -5.649099826812744, -5.866399765014648, -5.405900001525879, -4.838699817657471, -4.425300121307373, -5.338699817657471, -5.077600002288818, -5.011499881744385, -5.842800140380859, -6.008500099182129, -4.968100070953369, -4.576700210571289, -5.346499919891357, -4.354100227355957, -5.773499965667725, -4.36460018157959, -4.581999778747559, -5.33489990234375, -4.719900131225586, -4.938399791717529, -5.308700084686279, -4.883399963378906, -4.531899929046631, -5.2758002281188965, -5.478899955749512, -5.182300090789795, -5.3796000480651855, -5.501299858093262, -6.731200218200684, -6.463799953460693, -7.781599998474121, -7.524199962615967, -7.502600193023682, -7.706699848175049, -7.14709997177124, -6.948999881744385, -7.81850004196167, -7.495800018310547, -8.063400268554688, -7.9893999099731445, -8.101699829101562, -8.168600082397461, -8.092000007629395, -8.09939956665039, -8.027000427246094, -7.074100017547607, -8.336799621582031, -8.28600025177002, -8.441900253295898, -8.305700302124023, -6.785200119018555, -8.007699966430664, -8.403400421142578, -7.171000003814697, -8.366800308227539, -8.123800277709961, -8.493599891662598, -8.558300018310547, -5.881499767303467, -7.976399898529053, -7.542699813842773, -5.782299995422363, -7.457099914550781, -5.185800075531006, -7.125800132751465, -7.366399765014648, -6.857800006866455, -6.915200233459473, -6.763000011444092, -7.230999946594238, -6.35290002822876, -6.478099822998047, -6.950699806213379, -4.3719000816345215, -6.149499893188477, -6.0295000076293945, -6.346799850463867, -6.072999954223633, -5.7179999351501465, -6.682300090789795, -4.928400039672852, -6.661799907684326, -5.367599964141846, -6.79449987411499, -6.25029993057251, -6.890399932861328, -5.476099967956543, -5.493199825286865, -4.947700023651123, -4.97160005569458, -4.40910005569458, -5.522500038146973, -5.072700023651123, -5.121399879455566, -4.763899803161621, -5.885799884796143, -4.268400192260742, -5.1616997718811035, -5.326499938964844, -5.386600017547607, -5.1996002197265625, -4.766499996185303, -5.156000137329102, -4.89739990234375, -5.225800037384033, -5.380899906158447, -5.272799968719482, -5.436800003051758, -5.439300060272217, -5.321499824523926, -5.370999813079834, -5.205999851226807, -5.4268999099731445, -5.509200096130371, -8.057999610900879, -8.472399711608887, -8.179699897766113, -7.839700222015381, -8.477299690246582, -8.137800216674805, -7.72189998626709, -8.73449993133545, -8.683699607849121, -8.800399780273438, -8.539799690246582, -8.802300453186035, -8.611900329589844, -8.157699584960938, -8.763899803161621, -8.513899803161621, -9.01449966430664, -8.823200225830078, -5.7221999168396, -9.195099830627441, -8.288900375366211, -8.899299621582031, -9.111800193786621, -9.195699691772461, -8.1850004196167, -8.802000045776367, -9.2121000289917, -9.056900024414062, -9.22070026397705, -8.188699722290039, -8.428299903869629, -7.383699893951416, -8.61139965057373, -6.953800201416016, -8.388400077819824, -4.7281999588012695, -6.7677998542785645, -7.434199810028076, -7.829999923706055, -6.090099811553955, -7.304699897766113, -6.524700164794922, -7.488399982452393, -7.393899917602539, -5.450300216674805, -7.514999866485596, -6.232699871063232, -3.6310999393463135, -5.638700008392334, -4.386099815368652, -4.353499889373779, -5.445400238037109, -6.593299865722656, -5.6072001457214355, -5.479499816894531, -6.811800003051758, -6.615499973297119, -4.527100086212158, -6.06790018081665, -5.98360013961792, -6.167300224304199, -5.571000099182129, -5.334700107574463, -5.857900142669678, -5.6570000648498535, -5.189300060272217, -5.885700225830078, -5.050300121307373, -4.698599815368652, -5.729000091552734, -5.646999835968018, -5.659900188446045, -5.513800144195557, -5.592299938201904, -5.114500045776367, -5.564899921417236, -5.253699779510498, -5.286300182342529, -5.240300178527832, -5.461100101470947, -5.467800140380859, -5.640699863433838, -5.509900093078613, -5.627900123596191, -5.656300067901611, -6.6869001388549805, -7.742199897766113, -7.455999851226807, -8.246700286865234, -8.342599868774414, -7.247499942779541, -8.625200271606445, -8.626500129699707, -8.24120044708252, -8.452799797058105, -8.163900375366211, -8.377699851989746, -8.963700294494629, -8.659700393676758, -8.327500343322754, -8.058799743652344, -9.053999900817871, -8.981100082397461, -9.051899909973145, -9.060999870300293, -9.054699897766113, -7.984000205993652, -9.0733003616333, -8.924300193786621, -8.75629997253418, -9.157600402832031, -9.079899787902832, -7.303699970245361, -8.665800094604492, -9.003899574279785, -8.779199600219727, -6.506899833679199, -6.805300235748291, -6.303400039672852, -8.020400047302246, -8.093099594116211, -7.572000026702881, -8.54319953918457, -7.307700157165527, -8.458800315856934, -8.553600311279297, -7.39139986038208, -5.991799831390381, -7.833000183105469, -7.255199909210205, -7.658199787139893, -5.055200099945068, -6.240200042724609, -4.246699810028076, -4.207200050354004, -4.861400127410889, -5.127299785614014, -5.165500164031982, -4.493800163269043, -5.683199882507324, -4.605899810791016, -6.291200160980225, -5.107500076293945, -4.629000186920166, -5.2870001792907715, -4.391499996185303, -5.532199859619141, -4.683700084686279, -4.276400089263916, -5.303800106048584, -5.682700157165527, -5.318999767303467, -5.706200122833252, -4.959499835968018, -5.003799915313721, -4.979000091552734, -5.547500133514404, -5.553699970245361, -5.373300075531006, -4.87470006942749, -5.443699836730957, -5.587200164794922, -5.456500053405762, -5.488399982452393, -5.535900115966797, -5.474800109863281, -5.511300086975098, -7.149499893188477, -7.930500030517578, -7.831600189208984, -7.832499980926514, -8.243300437927246, -8.239399909973145, -7.8933000564575195, -6.813300132751465, -8.54520034790039, -8.39430046081543, -8.393099784851074, -8.054900169372559, -8.312600135803223, -7.762599945068359, -8.57040023803711, -7.902599811553955, -8.287400245666504, -8.656700134277344, -8.389300346374512, -8.049599647521973, -8.092599868774414, -8.65820026397705, -8.932499885559082, -8.555399894714355, -8.366399765014648, -8.945300102233887, -8.951499938964844, -8.370800018310547, -8.654899597167969, -8.157600402832031, -6.710000038146973, -6.705699920654297, -7.676599979400635, -7.46019983291626, -6.964700222015381, -8.175100326538086, -7.605400085449219, -7.092400074005127, -7.7133002281188965, -7.257500171661377, -5.628300189971924, -6.9019999504089355, -6.293399810791016, -3.391900062561035, -7.445700168609619, -7.305200099945068, -5.18310022354126, -6.942500114440918, -5.295499801635742, -5.80620002746582, -7.382299900054932, -5.171999931335449, -6.293399810791016, -5.826300144195557, -6.4710001945495605, -5.939799785614014, -6.069399833679199, -4.486199855804443, -5.076900005340576, -4.44789981842041, -5.311600208282471, -4.694399833679199, -5.333600044250488, -6.336599826812744, -6.206299781799316, -4.7052998542785645, -5.5117998123168945, -4.853799819946289, -5.0055999755859375, -5.880300045013428, -6.02370023727417, -5.031300067901611, -5.408599853515625, -5.185800075531006, -5.686800003051758, -5.0767998695373535, -5.499000072479248, -5.215199947357178, -5.5208001136779785, -5.507699966430664, -5.562399864196777, -5.467299938201904, -5.645500183105469, -5.760700225830078, -5.723899841308594, -5.740200042724609, -5.7281999588012695, -5.727799892425537, -7.781899929046631, -7.486100196838379, -7.871799945831299, -8.065400123596191, -8.54259967803955, -8.031999588012695, -7.457300186157227, -8.484299659729004, -8.0447998046875, -6.845399856567383, -8.492300033569336, -8.188899993896484, -8.594300270080566, -8.265199661254883, -8.513199806213379, -8.145700454711914, -7.674900054931641, -7.282899856567383, -7.905600070953369, -8.755800247192383, -8.162300109863281, -8.595600128173828, -9.048199653625488, -8.537599563598633, -7.636899948120117, -8.571100234985352, -7.988500118255615, -8.726099967956543, -6.88100004196167, -8.122900009155273, -7.86460018157959, -7.502500057220459, -6.476200103759766, -7.304200172424316, -6.864999771118164, -5.3881001472473145, -5.274499893188477, -6.7204999923706055, -7.369500160217285, -5.357600212097168, -5.400199890136719, -4.678699970245361, -6.047599792480469, -3.742300033569336, -4.131499767303467, -6.281000137329102, -4.028200149536133, -5.47790002822876, -4.112800121307373, -5.536600112915039, -6.611199855804443, -5.509300231933594, -6.582099914550781, -4.887599945068359, -4.160299777984619, -6.132500171661377, -4.697500228881836, -5.702600002288818, -5.793700218200684, -5.4096999168396, -5.652299880981445, -4.8557000160217285, -5.265900135040283, -5.249100208282471, -5.520599842071533, -5.4045000076293945, -5.55620002746582, -5.013000011444092, -5.43310022354126, -5.428899765014648, -5.607100009918213, -5.493100166320801, -5.183000087738037, -5.607699871063232, -5.614099979400635, -5.517199993133545, -5.548999786376953, -5.594099998474121, -7.616499900817871, -7.798099994659424, -7.1682000160217285, -7.915900230407715, -7.797100067138672, -8.169300079345703, -8.762200355529785, -8.59220027923584, -7.782800197601318, -7.56220006942749, -7.504899978637695, -8.535400390625, -7.9745001792907715, -7.821800231933594, -7.53000020980835, -8.243499755859375, -7.681300163269043, -8.581000328063965, -7.094699859619141, -8.495400428771973, -8.599699974060059, -8.680999755859375, -8.083999633789062, -8.180100440979004, -7.850399971008301, -7.070700168609619, -8.110799789428711, -7.1367998123168945, -8.109299659729004, -8.607500076293945, -6.197800159454346, -8.128000259399414, -7.60099983215332, -7.1194000244140625, -7.8592000007629395, -7.025300025939941, -6.4918999671936035, -4.682400226593018, -5.2804999351501465, -6.060999870300293, -5.048399925231934, -4.439300060272217, -3.620800018310547, -6.866700172424316, -6.086999893188477, -5.28000020980835, -4.729100227355957, -7.276800155639648, -3.8336000442504883, -4.187600135803223, -4.969600200653076, -4.057799816131592, -6.5096001625061035, -6.558300018310547, -5.281599998474121, -5.630000114440918, -5.516499996185303, -4.9807000160217285, -5.064000129699707, -4.96619987487793, -5.2220001220703125, -5.238999843597412, -5.781899929046631, -5.377399921417236, -4.8302001953125, -5.316500186920166, -5.303500175476074, -5.735099792480469, -5.119500160217285, -5.259900093078613, -5.473999977111816, -5.015500068664551, -5.185699939727783, -5.405300140380859, -5.234799861907959, -5.052199840545654, -5.428199768066406, -5.345699787139893, -5.39870023727417, -7.3480000495910645, -7.938600063323975, -7.253499984741211, -7.764500141143799, -8.195599555969238, -7.696800231933594, -8.487000465393066, -8.415200233459473, -8.585700035095215, -8.596699714660645, -8.673999786376953, -6.973199844360352, -7.940400123596191, -7.8541998863220215, -7.826300144195557, -8.651000022888184, -7.5725998878479, -8.012999534606934, -8.20930004119873, -8.001700401306152, -8.454899787902832, -8.374199867248535, -8.70359992980957, -8.98900032043457, -6.277400016784668, -7.092299938201904, -8.076000213623047, -8.719799995422363, -6.140399932861328, -7.1427998542785645, -7.5254998207092285, -7.216300010681152, -6.509099960327148, -7.385200023651123, -7.316999912261963, -4.354400157928467, -6.10830020904541, -7.631700038909912, -3.401099920272827, -5.436200141906738, -7.240699768066406, -5.5295000076293945, -4.07919979095459, -4.991099834442139, -4.105000019073486, -4.289999961853027, -4.08519983291626, -6.173399925231934, -6.025400161743164, -6.149199962615967, -5.604100227355957, -5.86929988861084, -5.792799949645996, -5.7032999992370605, -5.503200054168701, -5.06820011138916, -4.384399890899658, -5.353600025177002, -6.208499908447266, -4.642199993133545, -4.356200218200684, -5.438199996948242, -5.160799980163574, -5.480800151824951, -5.044899940490723, -5.328700065612793, -5.242199897766113, -5.4567999839782715, -5.138000011444092, -5.4008002281188965, -5.386199951171875, -5.417099952697754, -5.447700023651123, -5.249800205230713, -5.313600063323975, -5.490300178527832, -5.484799861907959, -6.55620002746582, -7.808899879455566, -8.178299903869629, -8.343299865722656, -8.205699920654297, -8.377900123596191, -6.702400207519531, -8.105500221252441, -8.60099983215332, -8.068400382995605, -8.289600372314453, -8.36970043182373, -7.966700077056885, -8.176600456237793, -5.658899784088135, -8.30459976196289, -8.399800300598145, -8.078800201416016, -9.022600173950195, -7.9679999351501465, -7.688000202178955, -8.267600059509277, -8.258399963378906, -8.33329963684082, -8.328200340270996, -8.036600112915039, -8.09000015258789, -8.428199768066406, -8.375900268554688, -8.46780014038086, -7.827300071716309, -6.2316999435424805, -7.445700168609619, -4.491799831390381, -7.553699970245361, -6.8557000160217285, -6.979700088500977, -5.212900161743164, -7.209400177001953, -7.430699825286865, -5.884300231933594, -4.9243998527526855, -7.786399841308594, -5.972700119018555, -6.803400039672852, -7.853400230407715, -6.976500034332275, -5.8979997634887695, -6.304999828338623, -7.026000022888184, -6.880300045013428, -7.310500144958496, -6.755199909210205, -7.529099941253662, -5.436399936676025, -7.0802001953125, -6.117599964141846, -5.371600151062012, -5.018499851226807, -4.581099987030029, -5.342800140380859, -4.964900016784668, -5.9182000160217285, -4.351500034332275, -5.009200096130371, -5.877900123596191, -5.590400218963623, -5.324399948120117, -5.612800121307373, -5.004899978637695, -5.247300148010254, -4.974699974060059, -5.509200096130371, -5.710400104522705, -5.263899803161621, -5.054999828338623, -5.459499835968018, -5.261300086975098, -5.241600036621094, -5.322299957275391, -5.656199932098389, -5.446800231933594, -5.652100086212158, -5.6468000411987305, -5.608799934387207], \"loglift\": [30.0, 29.0, 28.0, 27.0, 26.0, 25.0, 24.0, 23.0, 22.0, 21.0, 20.0, 19.0, 18.0, 17.0, 16.0, 15.0, 14.0, 13.0, 12.0, 11.0, 10.0, 9.0, 8.0, 7.0, 6.0, 5.0, 4.0, 3.0, 2.0, 1.0, 1.1776000261306763, 1.174399971961975, 1.1708999872207642, 1.1664999723434448, 1.1660000085830688, 1.1658999919891357, 1.1589000225067139, 1.1576999425888062, 1.1555999517440796, 1.154099941253662, 1.1505000591278076, 1.1447999477386475, 1.1433000564575195, 1.1432000398635864, 1.1416000127792358, 1.1412999629974365, 1.1409000158309937, 1.1390999555587769, 1.1382999420166016, 1.138100028038025, 1.1375999450683594, 1.136299967765808, 1.1360000371932983, 1.1339999437332153, 1.1331000328063965, 1.132599949836731, 1.1312999725341797, 1.129699945449829, 1.1291999816894531, 1.1282999515533447, 1.1272000074386597, 1.123900055885315, 1.1039999723434448, 1.1008000373840332, 1.1207000017166138, 1.0827000141143799, 1.1029000282287598, 1.0825999975204468, 1.003600001335144, 0.98580002784729, 1.101099967956543, 1.0742000341415405, 1.0614999532699585, 0.9376000165939331, 0.9509999752044678, 0.868399977684021, 0.8418999910354614, 1.03410005569458, 0.8804000020027161, 0.9301000237464905, 0.8604999780654907, 0.9872000217437744, 1.0027999877929688, 0.6103000044822693, 0.8460000157356262, 0.776199996471405, 0.5985999703407288, 0.8396000266075134, 0.7836999893188477, 0.7534999847412109, 0.8565999865531921, 0.8698999881744385, 0.6322000026702881, 0.6190000176429749, 0.6947000026702881, 0.4941999912261963, 0.6287999749183655, 0.6294000148773193, 0.25040000677108765, 0.17080000042915344, 0.25690001249313354, 0.27379998564720154, 0.6521999835968018, 0.5521000027656555, 0.5393999814987183, 0.09449999779462814, 0.11320000141859055, 0.6044999957084656, 0.2320999950170517, 0.10279999673366547, 0.400299996137619, -0.012799999676644802, -0.20229999721050262, -0.17960000038146973, -0.17180000245571136, 0.08340000361204147, 0.26080000400543213, 1.7518999576568604, 1.746500015258789, 1.743299961090088, 1.7309000492095947, 1.730299949645996, 1.726199984550476, 1.7177000045776367, 1.7041000127792358, 1.7015999555587769, 1.6964000463485718, 1.6959999799728394, 1.694000005722046, 1.6921000480651855, 1.6842999458312988, 1.6821999549865723, 1.6799999475479126, 1.6793999671936035, 1.6789000034332275, 1.6789000034332275, 1.6784000396728516, 1.6776000261306763, 1.6704000234603882, 1.667099952697754, 1.662500023841858, 1.6608999967575073, 1.6593999862670898, 1.6572999954223633, 1.655400037765503, 1.6550999879837036, 1.6523000001907349, 1.6509000062942505, 1.6159000396728516, 1.6313999891281128, 1.628999948501587, 1.6238000392913818, 1.6409000158309937, 1.6211999654769897, 1.4153000116348267, 1.5799000263214111, 1.3676999807357788, 1.496999979019165, 1.6038000583648682, 1.4983999729156494, 1.4651000499725342, 1.2695000171661377, 1.5317000150680542, 1.0715999603271484, 1.5800000429153442, 1.0866999626159668, 0.9952999949455261, 1.1858999729156494, 1.0499999523162842, 1.1420999765396118, 1.3545000553131104, 1.2742999792099, 1.0607000589370728, 1.0822999477386475, 0.890500009059906, 1.2963999509811401, 0.7516999840736389, 0.9539999961853027, 1.0052000284194946, 0.8463000059127808, 0.6822999715805054, 0.5580000281333923, 0.8195000290870667, 0.7208999991416931, 0.6923999786376953, 0.9347000122070312, 0.9775999784469604, 0.6086999773979187, 0.4099000096321106, 0.7081000208854675, 0.3167000114917755, 0.7985000014305115, 0.1096000000834465, 0.16840000450611115, 0.5595999956130981, 0.12099999934434891, 0.11999999731779099, 0.4226999878883362, -0.057999998331069946, -0.5180000066757202, 0.193900004029274, 0.34929999709129333, -0.8629999756813049, -0.19850000739097595, 0.23109999299049377, 2.303299903869629, 2.288100004196167, 2.286900043487549, 2.28629994392395, 2.283900022506714, 2.2806999683380127, 2.2806999683380127, 2.2695999145507812, 2.2674999237060547, 2.267400026321411, 2.265399932861328, 2.2648000717163086, 2.260200023651123, 2.2588000297546387, 2.2578001022338867, 2.2562999725341797, 2.2544000148773193, 2.25219988822937, 2.2490999698638916, 2.2483999729156494, 2.243499994277954, 2.240999937057495, 2.240600109100342, 2.2374000549316406, 2.236799955368042, 2.2346999645233154, 2.2346999645233154, 2.2330000400543213, 2.232100009918213, 2.23009991645813, 2.2272000312805176, 2.2290000915527344, 2.218600034713745, 2.1661999225616455, 2.212399959564209, 2.1328001022338867, 2.19320011138916, 2.1989998817443848, 2.164799928665161, 2.1514999866485596, 2.1203999519348145, 2.163100004196167, 2.053499937057495, 2.036799907684326, 2.0968000888824463, 1.628000020980835, 1.940999984741211, 1.8960000276565552, 1.9377000331878662, 1.8489999771118164, 1.7415000200271606, 1.969499945640564, 1.3960000276565552, 1.954200029373169, 1.486799955368042, 1.999400019645691, 1.736899971961975, 2.009399890899658, 1.1334999799728394, 1.080299973487854, 0.6934000253677368, 0.6762999892234802, 0.26170000433921814, 1.0357999801635742, 0.6741999983787537, 0.7067999839782715, 0.2944999933242798, 1.253000020980835, -0.25450000166893005, 0.5706999897956848, 0.7202000021934509, 0.7105000019073486, 0.48489999771118164, -0.016100000590085983, 0.4207000136375427, 0.08590000122785568, 0.47690001130104065, 0.6215999722480774, 0.4587000012397766, 0.6172999739646912, 0.6152999997138977, 0.2214999943971634, 0.3328000009059906, -0.3806000053882599, 0.0940999984741211, -0.6089000105857849, 2.2539000511169434, 2.2395999431610107, 2.2353999614715576, 2.2295000553131104, 2.228100061416626, 2.223299980163574, 2.2197000980377197, 2.2181999683380127, 2.217400074005127, 2.2100000381469727, 2.20989990234375, 2.209399938583374, 2.189199924468994, 2.1875998973846436, 2.1875, 2.187000036239624, 2.1839001178741455, 2.181299924850464, 2.1812000274658203, 2.1668999195098877, 2.1637001037597656, 2.163599967956543, 2.162899971008301, 2.159600019454956, 2.1559998989105225, 2.1445999145507812, 2.1419999599456787, 2.1361000537872314, 2.134500026702881, 2.1310999393463135, 2.1250998973846436, 2.0882999897003174, 2.123800039291382, 2.057499885559082, 2.108299970626831, 1.7741999626159668, 1.9491000175476074, 1.9426000118255615, 1.9838000535964966, 1.6692999601364136, 1.888100028038025, 1.7283999919891357, 1.9229999780654907, 1.8619999885559082, 1.339400053024292, 1.875599980354309, 1.4456000328063965, 0.38280001282691956, 1.0992000102996826, 0.6003999710083008, 0.5468999743461609, 0.9786999821662903, 1.4421000480651855, 0.9858999848365784, 0.9164000153541565, 1.5116000175476074, 1.4075000286102295, 0.29829999804496765, 1.0434000492095947, 0.9848999977111816, 1.0535999536514282, 0.6075999736785889, 0.36890000104904175, 0.7452999949455261, 0.5656999945640564, 0.1582999974489212, 0.6992999911308289, -0.06700000166893005, -0.37940001487731934, 0.48750001192092896, 0.3248000144958496, 0.33379998803138733, 0.1120000034570694, 0.19099999964237213, -0.6402999758720398, 0.011900000274181366, -0.5827999711036682, -0.5794000029563904, -0.6890000104904175, -0.4027000069618225, -0.626800000667572, -0.09769999980926514, -0.7594000101089478, -0.44679999351501465, -0.05689999833703041, 2.3973000049591064, 2.3582000732421875, 2.3457999229431152, 2.322700023651123, 2.2985999584198, 2.297600030899048, 2.2950000762939453, 2.2943999767303467, 2.2836999893188477, 2.276099920272827, 2.2660000324249268, 2.2623000144958496, 2.2555999755859375, 2.25219988822937, 2.2416000366210938, 2.2400999069213867, 2.2386999130249023, 2.237499952316284, 2.2374000549316406, 2.2346999645233154, 2.234499931335449, 2.2304000854492188, 2.2302000522613525, 2.2218000888824463, 2.2172999382019043, 2.2128000259399414, 2.207900047302246, 2.204900026321411, 2.204400062561035, 2.2037999629974365, 2.2016000747680664, 2.1598000526428223, 2.165800094604492, 2.0920000076293945, 2.1607000827789307, 2.1600000858306885, 2.100600004196167, 2.18179988861084, 2.0297999382019043, 2.1280999183654785, 2.148099899291992, 1.8543000221252441, 1.480299949645996, 1.9674999713897705, 1.8004000186920166, 1.8913999795913696, 1.020900011062622, 1.3317999839782715, 0.42419999837875366, 0.3440999984741211, 0.608299970626831, 0.6399999856948853, 0.6280999779701233, 0.2567000091075897, 0.870199978351593, 0.23510000109672546, 1.1653000116348267, 0.4810999929904938, 0.1964000016450882, 0.5342000126838684, -0.0722000002861023, 0.6392999887466431, 0.02319999970495701, -0.26249998807907104, 0.428600013256073, 0.6940000057220459, 0.38370001316070557, 0.6728000044822693, 0.027000000700354576, 0.05460000038146973, 0.00419999985024333, 0.5174000263214111, 0.5109999775886536, 0.31119999289512634, -0.40049999952316284, 0.15569999814033508, 0.43309998512268066, 0.08649999648332596, 0.13740000128746033, 0.1956000030040741, -0.574400007724762, -0.33009999990463257, 2.4340999126434326, 2.418100118637085, 2.408400058746338, 2.4072000980377197, 2.3998000621795654, 2.3966000080108643, 2.3963000774383545, 2.390500068664551, 2.3833000659942627, 2.3787999153137207, 2.3712000846862793, 2.3638999462127686, 2.362499952316284, 2.3610999584198, 2.356300115585327, 2.347100019454956, 2.3427999019622803, 2.3322999477386475, 2.3287999629974365, 2.326200008392334, 2.3259999752044678, 2.321899890899658, 2.3189001083374023, 2.3073999881744385, 2.3048999309539795, 2.3011999130249023, 2.299099922180176, 2.2936999797821045, 2.293299913406372, 2.287899971008301, 2.210099935531616, 2.2065000534057617, 2.2365000247955322, 2.2146999835968018, 2.1070001125335693, 2.253499984741211, 2.144399881362915, 2.0445001125335693, 2.143699884414673, 2.0107998847961426, 1.559999942779541, 1.8940000534057617, 1.7055000066757202, 0.6220999956130981, 2.043800115585327, 1.9776999950408936, 1.086300015449524, 1.7985999584197998, 1.0652999877929688, 1.2055000066757202, 1.9800000190734863, 0.8277999758720398, 1.3753000497817993, 1.0535999536514282, 1.427299976348877, 1.0470999479293823, 1.121399998664856, -0.012000000104308128, 0.3928000032901764, -0.12870000302791595, 0.4819999933242798, 0.012500000186264515, 0.48750001192092896, 1.2497999668121338, 1.1448999643325806, -0.03449999913573265, 0.5532000064849854, -0.012799999676644802, -0.019099999219179153, 0.7811999917030334, 0.9251999855041504, -0.20589999854564667, 0.1907999962568283, -0.1273999959230423, 0.5063999891281128, -0.3262999951839447, 0.20360000431537628, -0.23190000653266907, 0.22609999775886536, 0.17679999768733978, 0.16990000009536743, -0.11980000138282776, 0.11180000007152557, 0.4108000099658966, 0.08959999680519104, 0.08799999952316284, -0.18520000576972961, -0.20679999887943268, 2.850800037384033, 2.8487000465393066, 2.8403000831604004, 2.823899984359741, 2.772200107574463, 2.7614998817443848, 2.7572999000549316, 2.7551000118255615, 2.7439000606536865, 2.739000082015991, 2.7367000579833984, 2.7363998889923096, 2.722399950027466, 2.7202999591827393, 2.7135000228881836, 2.7116000652313232, 2.6851999759674072, 2.67930006980896, 2.6633999347686768, 2.64520001411438, 2.640399932861328, 2.639400005340576, 2.6171998977661133, 2.6124000549316406, 2.6087000370025635, 2.598099946975708, 2.595099925994873, 2.5871999263763428, 2.5838000774383545, 2.5806000232696533, 2.5409998893737793, 2.5067999362945557, 2.2692999839782715, 2.400399923324585, 2.2416999340057373, 1.8787000179290771, 1.7116999626159668, 2.1263999938964844, 2.335599899291992, 1.5262999534606934, 1.4910999536514282, 1.1742000579833984, 1.742799997329712, 0.5770000219345093, 0.5753999948501587, 1.7134000062942505, 0.44609999656677246, 1.2518999576568604, 0.43849998712539673, 1.152999997138977, 1.8336999416351318, 1.0360000133514404, 1.7426999807357788, 0.46000000834465027, -0.14640000462532043, 1.3902000188827515, 0.14350000023841858, 0.9690999984741211, 1.0374000072479248, 0.6664000153541565, 0.8901000022888184, -0.030300000682473183, 0.3334999978542328, 0.2939000129699707, 0.5764999985694885, 0.37880000472068787, 0.5088000297546387, -0.34209999442100525, 0.2992999851703644, 0.27459999918937683, 0.5716999769210815, 0.3280999958515167, -0.4325000047683716, 0.5709999799728394, 0.5573999881744385, -0.5339000225067139, -0.49059998989105225, 0.20430000126361847, 2.8938000202178955, 2.871299982070923, 2.871000051498413, 2.833199977874756, 2.8189001083374023, 2.7997000217437744, 2.762500047683716, 2.7592999935150146, 2.7590999603271484, 2.7528998851776123, 2.75219988822937, 2.7453999519348145, 2.742300033569336, 2.740600109100342, 2.737600088119507, 2.702399969100952, 2.7000999450683594, 2.683799982070923, 2.6833999156951904, 2.6810998916625977, 2.6807000637054443, 2.680000066757202, 2.6791000366210938, 2.6733999252319336, 2.673099994659424, 2.672100067138672, 2.6689999103546143, 2.657099962234497, 2.652400016784668, 2.650399923324585, 2.630500078201294, 2.63919997215271, 2.578200101852417, 2.4990999698638916, 2.5838000774383545, 2.386199951171875, 2.2690000534057617, 1.8063000440597534, 1.9103000164031982, 2.070499897003174, 1.6832000017166138, 1.3743000030517578, 1.0860999822616577, 2.224100112915039, 1.9168000221252441, 1.5099999904632568, 1.017799973487854, 2.370800018310547, 0.48559999465942383, 0.6534000039100647, 1.0845999717712402, 0.4163999855518341, 1.9565000534057617, 1.9782999753952026, 1.1234999895095825, 1.249899983406067, 1.093000054359436, 0.6187000274658203, 0.6674000024795532, 0.3813999891281128, 0.6061999797821045, 0.5821999907493591, 1.0821000337600708, 0.6251000165939331, -0.15940000116825104, 0.45010000467300415, 0.42879998683929443, 0.9545999765396118, 0.0617000013589859, 0.20980000495910645, 0.5349000096321106, -0.4641999900341034, -0.12729999423027039, 0.29739999771118164, -0.2515000104904175, -1.0383000373840332, 0.148499995470047, -0.5952000021934509, -0.5733000040054321, 2.9149999618530273, 2.8815999031066895, 2.8782999515533447, 2.8710999488830566, 2.832200050354004, 2.8213000297546387, 2.804800033569336, 2.8041000366210938, 2.790600061416626, 2.7792000770568848, 2.7679998874664307, 2.7664999961853027, 2.7620999813079834, 2.73009991645813, 2.725100040435791, 2.723900079727173, 2.710599899291992, 2.70169997215271, 2.6993000507354736, 2.6926000118255615, 2.6844000816345215, 2.671099901199341, 2.666599988937378, 2.6566998958587646, 2.6354000568389893, 2.6340999603271484, 2.6328999996185303, 2.630199909210205, 2.6233999729156494, 2.6101999282836914, 2.5722999572753906, 2.4667999744415283, 2.333699941635132, 2.4535000324249268, 2.4184000492095947, 1.618299961090088, 2.018899917602539, 2.4677000045776367, 0.9182000160217285, 1.5543999671936035, 2.2753000259399414, 1.4567999839782715, 0.7617999911308289, 1.11489999294281, 0.6018000245094299, 0.6103000044822693, 0.4661000072956085, 1.6171000003814697, 1.5225000381469727, 1.5927000045776367, 1.2115000486373901, 1.3783999681472778, 1.3184000253677368, 1.2515000104904175, 1.0951000452041626, 0.6991000175476074, 0.08980000019073486, 0.8628000020980835, 1.5816999673843384, 0.028599999845027924, -0.3422999978065491, 0.784500002861023, 0.43860000371932983, 0.7307000160217285, 0.13619999587535858, 0.4925000071525574, 0.30079999566078186, 0.5288000106811523, -0.07959999889135361, 0.36570000648498535, 0.29829999804496765, 0.2863999903202057, 0.33559998869895935, -0.49939998984336853, -0.48820000886917114, 0.21240000426769257, 0.14090000092983246, 3.2883999347686768, 3.2462000846862793, 3.1575000286102295, 3.149600028991699, 3.1331000328063965, 3.1048998832702637, 3.0761001110076904, 3.0722999572753906, 3.047600030899048, 3.0369999408721924, 3.033900022506714, 3.0299999713897705, 3.023099899291992, 3.018399953842163, 3.010699987411499, 2.9883999824523926, 2.9823999404907227, 2.9786999225616455, 2.974299907684326, 2.972599983215332, 2.9707999229431152, 2.9686999320983887, 2.9646999835968018, 2.961400032043457, 2.9590001106262207, 2.9518001079559326, 2.9268999099731445, 2.9172000885009766, 2.9158999919891357, 2.9137001037597656, 2.910799980163574, 2.8626999855041504, 2.884399890899658, 2.737799882888794, 2.871000051498413, 2.7630999088287354, 2.7795000076293945, 2.4558000564575195, 2.7822999954223633, 2.8115999698638916, 2.4546000957489014, 2.2335000038146973, 2.868000030517578, 2.244999885559082, 2.4837000370025635, 2.8808999061584473, 2.4969000816345215, 1.9901000261306763, 2.180000066757202, 2.4514000415802, 2.3443000316619873, 2.5913000106811523, 2.225800037384033, 2.704699993133545, 1.2532999515533447, 2.3926000595092773, 1.6013000011444092, 1.0074000358581543, 0.7283999919891357, 0.2442999929189682, 0.8730999827384949, 0.504800021648407, 1.3720999956130981, -0.3375999927520752, 0.3382999897003174, 1.2395000457763672, 0.8982999920845032, 0.44290000200271606, 0.7922999858856201, -0.02160000056028366, 0.27379998564720154, -0.13369999825954437, 0.5557000041007996, 0.7935000061988831, -0.08269999921321869, -0.5807999968528748, 0.2728999853134155, -0.5108000040054321, -0.9222999811172485, -0.6514999866485596, 0.39800000190734863, -0.8955000042915344, 0.14159999787807465, 0.037700001150369644, -0.9018999934196472]}, \"token.table\": {\"Topic\": [1, 2, 3, 4, 5, 6, 7, 8, 9, 10, 1, 2, 3, 4, 5, 6, 7, 8, 9, 10, 1, 2, 3, 4, 5, 6, 7, 8, 9, 10, 4, 10, 1, 2, 3, 4, 5, 6, 7, 8, 9, 10, 5, 2, 3, 7, 2, 10, 1, 2, 4, 5, 2, 3, 4, 6, 8, 8, 4, 9, 4, 5, 8, 9, 10, 1, 2, 4, 5, 10, 6, 4, 2, 10, 4, 3, 4, 5, 8, 9, 10, 1, 4, 6, 6, 8, 10, 3, 1, 7, 8, 9, 6, 5, 5, 8, 1, 10, 1, 2, 3, 4, 5, 6, 7, 8, 9, 10, 2, 5, 1, 2, 8, 5, 8, 1, 2, 4, 8, 10, 5, 8, 9, 4, 2, 3, 10, 9, 6, 8, 1, 5, 1, 6, 2, 5, 5, 7, 8, 1, 2, 3, 4, 5, 6, 9, 10, 1, 2, 4, 8, 2, 7, 10, 4, 7, 2, 1, 2, 5, 7, 10, 5, 7, 4, 10, 3, 6, 2, 10, 1, 1, 2, 4, 4, 5, 7, 1, 7, 1, 2, 8, 1, 2, 4, 5, 8, 4, 7, 8, 9, 6, 7, 9, 10, 2, 6, 3, 5, 1, 2, 8, 1, 4, 5, 6, 9, 10, 4, 2, 7, 9, 10, 4, 1, 2, 4, 5, 9, 10, 5, 8, 9, 8, 10, 1, 3, 4, 5, 6, 8, 1, 5, 7, 9, 2, 3, 4, 5, 6, 10, 5, 2, 2, 5, 6, 7, 8, 1, 5, 4, 8, 1, 6, 1, 5, 6, 9, 4, 5, 2, 6, 8, 4, 1, 2, 4, 5, 6, 8, 4, 5, 1, 1, 4, 9, 10, 5, 6, 7, 8, 10, 3, 5, 3, 5, 1, 2, 9, 7, 9, 2, 5, 2, 5, 9, 6, 2, 10, 1, 2, 10, 5, 1, 2, 3, 4, 5, 6, 7, 8, 9, 10, 9, 6, 2, 3, 4, 10, 1, 2, 5, 7, 8, 1, 2, 7, 8, 1, 2, 3, 4, 5, 6, 7, 8, 9, 10, 1, 2, 3, 4, 5, 6, 7, 8, 9, 10, 1, 9, 2, 3, 4, 5, 6, 1, 4, 7, 7, 1, 2, 3, 4, 5, 6, 7, 8, 9, 10, 1, 2, 3, 4, 5, 6, 7, 8, 9, 10, 9, 2, 3, 1, 2, 3, 4, 5, 6, 7, 8, 9, 10, 1, 2, 3, 4, 5, 6, 7, 8, 9, 10, 1, 2, 3, 4, 5, 7, 9, 10, 7, 3, 4, 5, 1, 2, 3, 4, 5, 6, 7, 8, 9, 10, 2, 4, 5, 8, 2, 1, 2, 3, 4, 5, 6, 7, 8, 9, 10, 1, 2, 4, 6, 1, 2, 3, 4, 5, 6, 7, 8, 9, 1, 2, 3, 4, 5, 6, 7, 8, 9, 10, 1, 2, 3, 4, 5, 6, 7, 8, 9, 10, 2, 3, 5, 6, 8, 9, 10, 2, 4, 5, 8, 1, 2, 3, 4, 5, 6, 7, 8, 9, 10, 2, 4, 1, 2, 4, 5, 6, 10, 8, 2, 5, 6, 4, 1, 2, 5, 3, 7, 8, 1, 2, 3, 4, 5, 6, 7, 8, 9, 10, 1, 2, 4, 5, 6, 7, 8, 9, 1, 2, 4, 5, 6, 8, 9, 10, 5, 5, 7, 1, 2, 3, 4, 5, 6, 7, 8, 9, 10, 1, 2, 3, 4, 5, 6, 7, 8, 9, 10, 1, 1, 2, 3, 4, 5, 6, 7, 8, 9, 10, 6, 8, 4, 8, 10, 1, 2, 3, 4, 5, 6, 7, 8, 9, 10, 1, 4, 5, 7, 1, 7, 2, 4, 5, 1, 2, 3, 4, 5, 6, 7, 8, 9, 10, 1, 4, 1, 2, 3, 4, 5, 6, 7, 8, 9, 10, 1, 4, 7, 8, 9, 1, 2, 3, 4, 6, 8, 9, 10, 1, 2, 3, 4, 5, 6, 7, 8, 9, 10, 1, 2, 3, 6, 7, 8, 10, 3, 5, 1, 8, 1, 2, 3, 4, 5, 6, 7, 8, 9, 10, 1, 2, 3, 4, 5, 6, 7, 8, 9, 10, 1, 2, 3, 4, 5, 6, 7, 8, 9, 10, 1, 2, 3, 4, 5, 6, 7, 8, 9, 10, 1, 9, 3, 8, 1, 4, 9, 1, 6, 7, 1, 2, 3, 4, 5, 6, 7, 8, 9, 10, 4, 10, 1, 2, 3, 4, 5, 6, 7, 8, 9, 10, 3, 4, 5, 6, 10, 1, 6, 10, 1, 2, 6, 7, 8, 9, 10, 1, 2, 3, 4, 5, 6, 7, 8, 9, 10, 1, 2, 5, 1, 2, 3, 4, 9, 1, 2, 3, 4, 5, 6, 7, 8, 9, 10, 1, 2, 3, 4, 5, 6, 7, 8, 9, 10, 3, 6, 2, 5, 8, 2, 6, 10, 2, 3, 5, 6, 7, 8, 1, 2, 3, 4, 5, 6, 7, 8, 9, 10, 1, 2, 3, 4, 5, 6, 7, 8, 9, 2, 4, 5, 2, 1, 10, 4, 1, 2, 3, 4, 5, 6, 7, 8, 9, 10, 1, 2, 3, 4, 5, 6, 7, 8, 9, 1, 4, 5, 6, 7, 9, 7, 1, 2, 4, 1, 4, 9, 1, 2, 4, 5, 6, 7, 9, 1, 4, 5, 2, 6, 1, 2, 3, 4, 5, 6, 7, 8, 9, 10, 1, 2, 3, 4, 5, 6, 7, 8, 9, 10, 2, 3, 1, 2, 3, 4, 5, 6, 7, 8, 9, 10, 1, 2, 3, 4, 5, 7, 8, 9, 10, 7, 2, 5, 8, 9, 10, 1, 2, 3, 4, 5, 6, 7, 8, 9, 10, 1, 2, 3, 4, 9, 1, 2, 3, 4, 5, 6, 7, 8, 9, 10, 2, 3, 2, 3, 5, 6, 1, 3, 1, 2, 3, 4, 5, 6, 7, 8, 9, 10, 2, 5, 9, 1, 2, 3, 4, 5, 6, 7, 8, 9, 10, 1, 2, 3, 4, 5, 6, 7, 8, 9, 10, 7, 9, 10, 2, 1, 2, 3, 4, 5, 6, 9, 1, 2, 3, 4, 5, 6, 7, 8, 9, 10, 7, 4, 1, 2, 3, 5, 1, 2, 4, 5, 6, 7, 8, 1, 4, 5, 6, 7, 4, 1, 7, 3, 1, 2, 3, 4, 5, 6, 7, 8, 9, 10, 10, 4, 4, 7, 4, 10, 1, 2, 3, 4, 5, 6, 7, 8, 9, 10, 1, 2, 3, 4, 5, 6, 7, 8, 9, 10, 1, 1, 2, 3, 4, 5, 6, 7, 8, 9, 10, 2, 3, 4, 5, 6, 1, 2, 3, 7, 9, 1, 2, 4, 5, 7, 9, 10, 10, 2, 5, 2, 3, 9, 2, 3, 8, 2, 1, 2, 3, 4, 5, 6, 7, 8, 9, 10, 6, 2, 2, 5, 6, 7, 4, 2, 1, 2, 3, 4, 5, 6, 7, 8, 9, 10, 7, 1, 2, 3, 4, 5, 6, 7, 8, 9, 10, 1, 2, 3, 4, 5, 6, 7, 8, 9, 10, 2, 8, 1, 2, 3, 4, 5, 6, 7, 8, 9, 10, 1, 2, 3, 4, 5, 6, 7, 8, 9, 10, 3, 4, 10, 1, 2, 3, 4, 5, 6, 7, 8, 9, 10, 1, 2, 7, 7, 1, 2, 3, 4, 5, 6, 7, 8, 9, 10, 2, 6, 9, 1, 2, 3, 4, 5, 6, 7, 8, 9, 10, 1, 2, 3, 4, 5, 6, 7, 8, 9, 10, 1, 2, 3, 4, 5, 6, 7, 8, 9, 10, 1, 2, 3, 4, 5, 6, 7, 8, 9, 10, 1, 2, 3, 4, 5, 6, 7, 8, 9, 10, 1, 2, 3, 4, 5, 6, 7, 8, 9, 10, 4, 8, 1, 2, 3, 4, 5, 6, 7, 8, 9, 10, 1, 2, 3, 4, 5, 6, 7, 8, 9, 10, 5, 6, 1, 2, 5, 6, 7, 8, 9, 10, 1, 2, 3, 5, 6, 7, 10, 1, 2, 3, 4, 5, 6, 7, 8, 9, 10, 1, 2, 3, 4, 5, 6, 7, 8, 9, 10, 4, 8, 1, 2, 3, 4, 5, 6, 7, 8, 9, 10, 1, 4, 5, 10, 1, 2, 3, 4, 5, 6, 7, 8, 9, 10, 5, 9, 1, 2, 3, 4, 5, 6, 7, 8, 9, 10, 3, 4, 1, 2, 3, 4, 5, 6, 7, 8, 9, 10, 1, 3, 4, 5, 6, 7, 8, 10, 1, 2, 4, 7, 1, 2, 3, 4, 5, 6, 7, 8, 9, 10, 2, 5, 6, 1, 2, 3, 4, 5, 6, 7, 8, 9, 10, 1, 2, 3, 4, 5, 9, 1, 1, 3, 5, 6, 10, 1, 2, 3, 4, 5, 6, 7, 8, 9, 10, 5, 8, 1, 4, 1, 6, 8, 2, 9, 1, 2, 3, 4, 5, 6, 7, 8, 9, 10, 4, 7, 1, 2, 3, 4, 5, 6, 7, 8, 9, 10, 1, 2, 3, 4, 5, 6, 7, 8, 9, 10, 2, 2, 1, 2, 3, 4, 5, 6, 7, 8, 9, 10, 1, 2, 3, 4, 5, 6, 7, 8, 9, 10, 1, 2, 8, 9, 5, 6, 1, 1, 2, 3, 4, 5, 6, 7, 8, 9, 10, 1, 2, 3, 4, 5, 1, 2, 3, 5, 6, 7, 8, 9, 10, 1, 3, 4, 6, 8, 9, 2, 3, 4, 5, 8, 10, 1, 2, 3, 4, 5, 6, 8, 3, 10, 3, 1, 2, 3, 4, 5, 6, 8, 10, 3, 1, 2, 3, 4, 5, 6, 7, 8, 9, 10, 2, 6, 1, 9, 1, 2, 3, 4, 5, 6, 7, 8, 9, 10, 1, 7, 9, 2, 5, 1, 4, 6, 8, 4, 10, 1, 2, 10, 2, 3, 1, 2, 3, 4, 5, 6, 7, 8, 9, 10, 7, 2, 3, 1, 6, 6, 8, 1, 2, 3, 4, 5, 6, 7, 8, 9, 10, 1, 5, 2, 4, 7, 1, 2, 3, 4, 5, 6, 7, 8, 9, 10, 1, 2, 3, 4, 5, 6, 7, 8, 9, 10, 1, 2, 3, 4, 5, 6, 7, 8, 9, 10, 1, 2, 3, 4, 5, 6, 7, 8, 9, 10, 1, 2, 3, 4, 5, 6, 7, 8, 9, 10, 1, 2, 3, 4, 5, 6, 7, 8, 9, 10, 1, 2, 3, 4, 5, 6, 7, 8, 9, 10, 1, 2, 3, 4, 5, 6, 7, 8, 9, 10, 5, 7, 1, 2, 3, 4, 5, 6, 7, 8, 9, 10, 1, 4, 2, 3, 1, 2, 3, 4, 5, 6, 7, 8, 9, 10, 1, 2, 4, 5, 8, 2, 6, 7, 10, 2, 6, 1, 2, 3, 4, 5, 6, 7, 8, 10, 1, 9, 1, 4, 3, 8, 1, 2, 3, 4, 5, 6, 7, 8, 9, 10, 8, 10, 1, 2, 3, 4, 5, 6, 7, 8, 9, 10, 1, 2, 3, 4, 5, 6, 9, 1, 2, 3, 4, 5, 6, 7, 8, 9, 10, 10, 7, 1, 2, 4, 5, 7, 8, 9, 10, 1, 2, 3, 4, 5, 6, 7, 8, 9, 10, 5, 1, 1, 5, 9, 1, 2, 3, 4, 5, 6, 7, 8, 9, 10, 1, 9, 3, 10, 1, 2, 3, 5, 6, 7, 8, 10, 1, 2, 3, 4, 5, 6, 7, 8, 9, 10, 1, 9, 1, 2, 3, 4, 5, 6, 7, 8, 10, 1, 2, 3, 4, 5, 6, 7, 8, 9, 10, 1, 2, 3, 4, 5, 6, 7, 8, 9, 10, 2, 6, 8, 1, 2, 3, 4, 5, 6, 7, 8, 9, 10, 1, 2, 3, 4, 5, 6, 7, 8, 9, 10, 1, 6, 1, 2, 3, 4, 5, 6, 1, 2, 4, 5, 6, 7, 8, 9, 10, 1, 2, 3, 4, 5, 6, 7, 8, 9, 10, 1, 2, 3, 4, 5, 6, 7, 8, 9, 10, 3, 1, 4, 5, 6, 7, 1, 1, 2, 4, 6, 7, 8, 9, 10, 1, 1, 2, 3, 4, 5, 6, 7, 8, 9, 10, 1, 2, 3, 4, 5, 6, 7, 8, 9, 10, 1, 4, 7, 2, 3, 1, 2, 3, 4, 5, 6, 7, 8, 1, 2, 3, 4, 5, 6, 7, 8, 9, 2, 3, 5, 6, 7, 10, 6, 1, 2, 3, 4, 5, 6, 7, 8, 9, 10, 1, 4, 6, 7, 10, 4, 5, 8, 1, 2, 4, 5, 9, 10, 1, 2, 3, 4, 5, 6, 7, 8, 10, 2, 1, 2, 3, 4, 5, 6, 7, 8, 9, 10, 1, 2, 3, 4, 5, 6, 7, 8, 9, 10, 1, 2, 3, 4, 5, 6, 7, 8, 9, 10, 5, 6, 10, 1, 3, 6, 8, 1, 2, 4, 5, 6, 7, 9, 10, 1, 2, 3, 4, 5, 6, 7, 8, 9, 10, 1, 2, 4, 5, 1, 2, 3, 4, 5, 6, 7, 8, 9, 10, 1, 2, 3, 4, 5, 6, 7, 8, 9, 10, 4, 8, 1, 2, 3, 4, 5, 6, 7, 8, 9, 10, 2, 3, 5, 6, 1, 2, 3, 4, 5, 6, 7, 8, 9, 10, 4, 10, 1, 2, 4, 6, 9, 2, 1, 2, 4, 1, 2, 3, 4, 5, 6, 7, 8, 9, 10, 1, 4, 5, 6, 8, 9, 3, 1, 2, 3, 4, 5, 6, 7, 8, 10, 1, 2, 4, 5, 6, 8, 9, 10, 6, 2, 1, 2, 3, 4, 5, 6, 7, 8, 9, 10, 6, 1, 2, 3, 4, 5, 8, 10, 2, 3, 5, 1, 2, 5, 6, 7, 1, 8, 1, 2, 3, 8, 1, 2, 3, 4, 6, 8, 9, 10, 1, 2, 3, 4, 5, 6, 7, 8, 9, 10, 1, 2, 3, 4, 5, 6, 7, 8, 9, 10, 1, 2, 4, 5, 6, 7, 8, 9, 10, 1, 2, 3, 4, 5, 6, 7, 8, 9, 10, 1, 4, 10, 7, 1, 2, 3, 4, 5, 6, 7, 8, 9, 10, 1, 2, 3, 4, 5, 6, 7, 8, 9, 10, 1, 2, 9, 10, 1, 2, 3, 4, 5, 6, 7, 8, 9, 10, 2, 1, 2, 3, 4, 5, 6, 7, 8, 9, 10, 2, 3, 6, 8, 10, 6, 8, 10, 1, 2, 3, 4, 5, 6, 7, 8, 9, 1, 2, 3, 4, 5, 6, 7, 8, 10, 1, 2, 3, 4, 5, 6, 7, 8, 9, 10, 1, 2, 4, 6, 1, 2, 3, 4, 5, 6, 7, 8, 9, 10, 1, 2, 4, 5, 6, 7, 8, 9, 10, 1, 2, 3, 4, 5, 6, 7, 8, 9, 10, 6, 1, 2, 3, 4, 5, 6, 7, 8, 9, 10, 1, 2, 4, 5, 6, 7, 9, 1, 4, 1, 2, 3, 4, 5, 6, 7, 8, 9, 10, 1, 2, 3, 4, 5, 6, 7, 8, 9, 10, 1, 3, 4, 6, 7, 10, 6, 1, 2, 3, 4, 5, 6, 1, 2, 3, 4, 5, 6, 8, 2, 6, 2, 6, 1, 2, 3, 4, 5, 6, 7, 8, 9, 10, 1, 6, 1, 4, 9, 1, 2, 3, 4, 5, 6, 7, 8, 9, 10, 1, 2, 5, 6, 8, 10, 2, 9, 3, 1, 2, 6, 10, 1, 2, 3, 4, 5, 6, 7, 8, 9, 10, 4, 5, 6, 7, 8, 10, 1, 2, 3, 4, 5, 6, 7, 8, 9, 10, 1, 2, 3, 4, 5, 6, 7, 8, 9, 10, 2, 9, 1, 2, 4, 5, 6, 7, 9, 4, 1, 2, 3, 4, 5, 6, 7, 8, 9, 10, 7, 1, 2, 3, 4, 5, 6, 7, 8, 9, 10, 1, 2, 3, 4, 5, 6, 7, 8, 9, 10, 2, 1, 2, 3, 4, 5, 6, 7, 8, 9, 10, 1, 2, 3, 4, 5, 6, 7, 8, 9, 10, 6, 1, 2, 3, 4, 5, 6, 7, 8, 9, 10, 1, 2, 3, 4, 5, 6, 7, 8, 9, 10, 6, 4, 3, 1, 2, 3, 4, 5, 6, 7, 8, 9, 10, 4, 1, 2, 3, 4, 5, 6, 7, 8, 9, 10, 1, 2, 3, 4, 5, 6, 7, 8, 9, 10, 1, 5, 6, 9, 1, 2, 3, 4, 5, 6, 7, 8, 9, 10, 1, 2, 3, 4, 5, 6, 7, 8, 9, 10, 1, 5, 7, 9, 1, 2, 3, 6, 1, 1, 4, 1, 2, 3, 4, 5, 6, 7, 8, 9, 10, 5, 1, 2, 3, 4, 5, 6, 7, 8, 9, 10, 1, 2, 3, 4, 5, 6, 10, 1, 3, 5, 6, 8, 10, 1, 4, 8, 1, 2, 3, 4, 5, 6, 7, 8, 9, 10, 1, 3, 4, 1, 2, 4, 5, 6, 7, 8, 9, 1, 2, 3, 4, 5, 6, 7, 8, 9, 10, 10, 1, 3, 4, 5, 6, 7, 2, 1, 2, 3, 4, 5, 6, 7, 8, 9, 10, 5, 1, 2, 3, 4, 5, 6, 7, 8, 9, 10, 2, 3, 8, 1, 2, 3, 4, 5, 6, 8, 9, 10, 3, 1, 2, 3, 4, 5, 6, 7, 8, 9, 10, 1, 2, 3, 4, 5, 6, 7, 8, 9, 10, 1, 2, 8, 8, 10, 6, 1, 2, 4, 5, 6, 9, 10, 2, 10, 1, 4, 5, 8, 1, 2, 3, 4, 5, 6, 7, 8, 9, 10, 1, 2, 3, 4, 5, 6, 7, 8, 9, 10, 3, 1, 3, 4, 5, 6, 8, 1, 4, 8, 2, 3, 5, 8, 5, 10, 2, 6, 3, 1, 2, 10, 1, 7, 3, 2, 5, 1, 4, 7, 9, 1, 2, 4, 5, 6, 7, 8, 9, 4, 5, 6, 7, 9, 1, 2, 3, 4, 8, 10, 1, 4, 9, 5, 1, 4, 9, 3, 1, 2, 3, 4, 5, 6, 7, 8, 9, 10, 1, 2, 3, 4, 5, 6, 7, 8, 9, 10, 1, 2, 3, 4, 5, 6, 7, 8, 9, 10, 1, 2, 3, 4, 5, 6, 7, 8, 9, 10, 1, 2, 3, 6, 8, 9, 10, 1, 1, 2, 3, 4, 5, 6, 7, 8, 9, 10, 1, 2, 3, 4, 5, 6, 7, 8, 9, 10, 1, 2, 3, 4, 5, 6, 7, 8, 9, 10, 1, 2, 3, 4, 5, 10, 1, 2, 3, 4, 5, 6, 7, 8, 9, 10, 1, 2, 3, 4, 5, 6, 7, 8, 9, 10, 2, 1, 2, 3, 4, 5, 6, 7, 8, 9, 10, 3, 9, 2, 10, 1, 7, 2, 3, 3], \"Freq\": [0.29003164172172546, 0.24326248466968536, 0.05618578568100929, 0.17389343678951263, 0.09071336686611176, 0.08035509288311005, 0.022285982966423035, 0.021344320848584175, 0.007533289957791567, 0.014124918729066849, 0.34844785928726196, 0.09625041484832764, 0.07429440319538116, 0.13992507755756378, 0.067885622382164, 0.1525052785873413, 0.04498015716671944, 0.017446130514144897, 0.0347735770046711, 0.023498868569731712, 0.16182875633239746, 0.41209879517555237, 0.06962399929761887, 0.10537686198949814, 0.06021535024046898, 0.08091437816619873, 0.05457016080617905, 0.028225945308804512, 0.020699026063084602, 0.007526918780058622, 0.8166685700416565, 0.07424259930849075, 0.22653408348560333, 0.23468931019306183, 0.19663159549236298, 0.07792772352695465, 0.0878952294588089, 0.07339704781770706, 0.045306816697120667, 0.014498181641101837, 0.03171477094292641, 0.010873636230826378, 0.7435683012008667, 0.10536789894104004, 0.10536789894104004, 0.7375752925872803, 0.12705153226852417, 0.6352576017379761, 0.8880945444107056, 0.057296425104141235, 0.028648212552070618, 0.014324106276035309, 0.040923889726400375, 0.08184777945280075, 0.040923889726400375, 0.6957060694694519, 0.12277166545391083, 0.8651520609855652, 0.061421576887369156, 0.9213236570358276, 0.0811803862452507, 0.0811803862452507, 0.8118038773536682, 0.18810223042964935, 0.5643066763877869, 0.9204908013343811, 0.03681963309645653, 0.15598450601100922, 0.15598450601100922, 0.6239380240440369, 0.9126163721084595, 0.8200575113296509, 0.32841578125953674, 0.5911483764648438, 0.7315310835838318, 0.046826187521219254, 0.046826187521219254, 0.046826187521219254, 0.18730475008487701, 0.18730475008487701, 0.5150880813598633, 0.9029478430747986, 0.05016377195715904, 0.9367668628692627, 0.22059521079063416, 0.6617856025695801, 0.07353173196315765, 0.9262526035308838, 0.08340686559677124, 0.7506617903709412, 0.18672522902488708, 0.7469009160995483, 0.8251755237579346, 0.8693627715110779, 0.7890535593032837, 0.11272194236516953, 0.14260658621788025, 0.7130329608917236, 0.012138327583670616, 0.012138327583670616, 0.8375445604324341, 0.030345818027853966, 0.012138327583670616, 0.0364149808883667, 0.006069163791835308, 0.024276655167341232, 0.006069163791835308, 0.030345818027853966, 0.07981108874082565, 0.8779219388961792, 0.06470558047294617, 0.12941116094589233, 0.776466965675354, 0.23910832405090332, 0.71732497215271, 0.09675668925046921, 0.1612611562013626, 0.0645044595003128, 0.1290089190006256, 0.5160356760025024, 0.7922286987304688, 0.056587763130664825, 0.16976328194141388, 0.8416041135787964, 0.12094239145517349, 0.12094239145517349, 0.6047119498252869, 0.7343608736991882, 0.8919116258621216, 0.8498058915138245, 0.08954398334026337, 0.8058958649635315, 0.05343812704086304, 0.8550100326538086, 0.8257762789726257, 0.14572523534297943, 0.6188073754310608, 0.0386754609644413, 0.2707282304763794, 0.21067501604557037, 0.030096430331468582, 0.060192860662937164, 0.030096430331468582, 0.5718321800231934, 0.030096430331468582, 0.030096430331468582, 0.030096430331468582, 0.06501396000385284, 0.06501396000385284, 0.7801675200462341, 0.86753910779953, 0.04766283929347992, 0.6196169257164001, 0.2383141964673996, 0.8669323325157166, 0.06668709963560104, 0.8029389977455139, 0.058518361300230026, 0.058518361300230026, 0.058518361300230026, 0.8192570805549622, 0.058518361300230026, 0.15201199054718018, 0.7600599527359009, 0.7825734615325928, 0.8404896855354309, 0.07371589541435242, 0.810874879360199, 0.15332572162151337, 0.766628623008728, 0.9310318827629089, 0.07657892256975174, 0.8423681855201721, 0.03828946128487587, 0.09093637764453888, 0.13640455901622772, 0.7729592323303223, 0.11910752952098846, 0.8337526917457581, 0.10113751888275146, 0.10113751888275146, 0.7079626321792603, 0.03782025724649429, 0.11346077173948288, 0.03782025724649429, 0.03782025724649429, 0.7185848951339722, 0.8661282062530518, 0.7243282198905945, 0.12072136253118515, 0.060360681265592575, 0.10390308499336243, 0.8312246799468994, 0.2610724866390228, 0.6526811718940735, 0.06061039865016937, 0.8485455513000488, 0.9370678067207336, 0.7427223324775696, 0.10127442330121994, 0.10127442330121994, 0.708920955657959, 0.05727146938443184, 0.13363343477249146, 0.07636196166276932, 0.03818098083138466, 0.0954524502158165, 0.5727146863937378, 0.9155501127243042, 0.1112748309969902, 0.7789238095283508, 0.7626324892044067, 0.09532906115055084, 0.8565199375152588, 0.03591417148709297, 0.03591417148709297, 0.10774251073598862, 0.03591417148709297, 0.6823692321777344, 0.10774251073598862, 0.22171184420585632, 0.6651355624198914, 0.857873260974884, 0.296306848526001, 0.592613697052002, 0.018567990511655807, 0.8169915676116943, 0.05570397153496742, 0.018567990511655807, 0.037135981023311615, 0.05570397153496742, 0.9284973740577698, 0.01975526288151741, 0.01975526288151741, 0.01975526288151741, 0.0856020376086235, 0.0856020376086235, 0.2568061053752899, 0.0856020376086235, 0.04280101880431175, 0.4280101954936981, 0.8624790906906128, 0.8234571218490601, 0.04328792542219162, 0.08657585084438324, 0.7791826725006104, 0.04328792542219162, 0.04328792542219162, 0.9322763085365295, 0.8294950127601624, 0.8581307530403137, 0.07151089608669281, 0.14496193826198578, 0.7972906827926636, 0.07176114618778229, 0.07176114618778229, 0.8611338138580322, 0.7987415790557861, 0.12500958144664764, 0.7500575184822083, 0.03676365315914154, 0.6985093951225281, 0.22058191895484924, 0.9300863742828369, 0.8493360877037048, 0.02326948195695877, 0.011634740978479385, 0.05817370489239693, 0.04653896391391754, 0.011634740978479385, 0.07257846742868423, 0.8709416389465332, 0.9317672252655029, 0.13943342864513397, 0.306753545999527, 0.11154674738645554, 0.3904136121273041, 0.1195111870765686, 0.6373929977416992, 0.0199185311794281, 0.1593482494354248, 0.0597555935382843, 0.12734590470790863, 0.8277484178543091, 0.9493216276168823, 0.8569677472114563, 0.09454027563333511, 0.09454027563333511, 0.7563222050666809, 0.805053174495697, 0.7917441129684448, 0.9229250550270081, 0.8558111786842346, 0.08469021320343018, 0.08469021320343018, 0.7622119188308716, 0.824516773223877, 0.40824177861213684, 0.5195804238319397, 0.16043323278427124, 0.16043323278427124, 0.641732931137085, 0.896531879901886, 0.3881693184375763, 0.04254933074116707, 0.07614090293645859, 0.04180284962058067, 0.09405641257762909, 0.06867611408233643, 0.16870436072349548, 0.06643667072057724, 0.028366219252347946, 0.025380302220582962, 0.747934877872467, 0.8982313275337219, 0.8165187835693359, 0.060482874512672424, 0.060482874512672424, 0.030241437256336212, 0.033191341906785965, 0.033191341906785965, 0.2655307352542877, 0.0995740219950676, 0.5310614705085754, 0.9595001339912415, 0.13828498125076294, 0.06914249062538147, 0.7605674266815186, 0.009424697607755661, 0.47594723105430603, 0.2874532639980316, 0.018849395215511322, 0.014137046411633492, 0.1225210651755333, 0.007068523205816746, 0.025917917490005493, 0.0023561744019389153, 0.037698790431022644, 0.281728595495224, 0.06822127848863602, 0.040427424013614655, 0.0467442087829113, 0.17307990789413452, 0.10233191400766373, 0.07453805953264236, 0.039164066314697266, 0.08338155597448349, 0.09096170216798782, 0.07926799356937408, 0.7926799654960632, 0.09220171719789505, 0.046100858598947525, 0.023050429299473763, 0.23050428926944733, 0.5993111729621887, 0.031160032376646996, 0.09348010271787643, 0.8101608753204346, 0.835269033908844, 0.25019171833992004, 0.32286953926086426, 0.13377860188484192, 0.08554112911224365, 0.061743974685668945, 0.04566481336951256, 0.015435993671417236, 0.032158318907022476, 0.028942488133907318, 0.023153990507125854, 0.07382012158632278, 0.5782576203346252, 0.17224696278572083, 0.030758384615182877, 0.04921341687440872, 0.03691006079316139, 0.00615167710930109, 0.00615167710930109, 0.02460670843720436, 0.01230335421860218, 0.7990595102310181, 0.9333505034446716, 0.9434191584587097, 0.29259878396987915, 0.07079003006219864, 0.042474016547203064, 0.04562024027109146, 0.15731117129325867, 0.07079003006219864, 0.09281359612941742, 0.040900904685258865, 0.14629939198493958, 0.03775468096137047, 0.19766534864902496, 0.28249025344848633, 0.11595329642295837, 0.06692606210708618, 0.08715952187776566, 0.08638131618499756, 0.0638132244348526, 0.034241240471601486, 0.04513618350028992, 0.01945525035262108, 0.02617655321955681, 0.013088276609778404, 0.02617655321955681, 0.6675021052360535, 0.1701475977897644, 0.03926483169198036, 0.013088276609778404, 0.03926483169198036, 0.8153196573257446, 0.13324908912181854, 0.2664981782436371, 0.5552045702934265, 0.3350166082382202, 0.09051980823278427, 0.029862206429243088, 0.08118787407875061, 0.24543000757694244, 0.07465551793575287, 0.10171813517808914, 0.01773068495094776, 0.015864297747612, 0.007465551607310772, 0.723732590675354, 0.08415495604276657, 0.016830991953611374, 0.16830991208553314, 0.9412790536880493, 0.23324008285999298, 0.23740509152412415, 0.004165001679211855, 0.03332001343369484, 0.3332001268863678, 0.08330003172159195, 0.01666000671684742, 0.004165001679211855, 0.029155010357499123, 0.01666000671684742, 0.3080500066280365, 0.02567083202302456, 0.616100013256073, 0.02567083202302456, 0.04745018482208252, 0.04745018482208252, 0.640577495098114, 0.029656365513801575, 0.05931273102760315, 0.08896909654140472, 0.005931273102760315, 0.07117527723312378, 0.005931273102760315, 0.6179447770118713, 0.0067412154749035835, 0.002247071824967861, 0.07640044391155243, 0.01797657459974289, 0.008988287299871445, 0.05392972379922867, 0.026964861899614334, 0.17077746987342834, 0.01797657459974289, 0.2533658742904663, 0.03964228183031082, 0.0017235775012522936, 0.07411383092403412, 0.10858538001775742, 0.04308943822979927, 0.1654634326696396, 0.12754473090171814, 0.0689430981874466, 0.11547969281673431, 0.06223707273602486, 0.012447414919734001, 0.7592923045158386, 0.024894829839468002, 0.012447414919734001, 0.024894829839468002, 0.08713190257549286, 0.09524109959602356, 0.09524109959602356, 0.7619287967681885, 0.7989515066146851, 0.5644202828407288, 0.10231523215770721, 0.022486863657832146, 0.05959019064903259, 0.048346757888793945, 0.08769877254962921, 0.04160069674253464, 0.01911383494734764, 0.0258598942309618, 0.02810858003795147, 0.8815282583236694, 0.09794758260250092, 0.0641452744603157, 0.016036318615078926, 0.03207263723015785, 0.14432686567306519, 0.7537069916725159, 0.016036318615078926, 0.7296369075775146, 0.750735342502594, 0.02502451278269291, 0.20019610226154327, 0.9216771721839905, 0.038725025951862335, 0.038725025951862335, 0.9294005632400513, 0.04910562187433243, 0.04910562187433243, 0.8839011788368225, 0.5353049039840698, 0.009111572057008743, 0.011389465071260929, 0.255124032497406, 0.020501038059592247, 0.03416839614510536, 0.0842820405960083, 0.0068336790427565575, 0.03872418403625488, 0.002277893014252186, 0.19297315180301666, 0.0742204487323761, 0.0742204487323761, 0.0742204487323761, 0.014844088815152645, 0.014844088815152645, 0.04453226551413536, 0.5046990513801575, 0.40640589594841003, 0.029028993099927902, 0.09434422850608826, 0.029028993099927902, 0.0072572482749819756, 0.014514496549963951, 0.3701196610927582, 0.050800736993551254, 0.9396635890007019, 0.7555069923400879, 0.12591783702373505, 0.4193289875984192, 0.037108760327100754, 0.07050664722919464, 0.0964827761054039, 0.28202658891677856, 0.022265255451202393, 0.0037108759861439466, 0.018554380163550377, 0.014843503944575787, 0.029687007889151573, 0.6951833367347717, 0.017901716753840446, 0.0014918097294867039, 0.04177067056298256, 0.01640990749001503, 0.019393526017665863, 0.1461973488330841, 0.0029836194589734077, 0.04475429281592369, 0.013426287099719048, 0.9480873942375183, 0.07796978205442429, 0.2687905728816986, 0.19697628915309906, 0.08412529528141022, 0.020518364384770393, 0.07591794431209564, 0.06976243853569031, 0.14568038284778595, 0.0369330570101738, 0.020518364384770393, 0.0874195247888565, 0.7867757678031921, 0.1359480619430542, 0.1359480619430542, 0.679740309715271, 0.05502486228942871, 0.2966557741165161, 0.3863702416419983, 0.04665151610970497, 0.023923853412270546, 0.06698679178953171, 0.011961926706135273, 0.09330303221940994, 0.013158119283616543, 0.0059809633530676365, 0.11758482456207275, 0.7055089473724365, 0.07838988304138184, 0.03919494152069092, 0.13537771999835968, 0.7445774078369141, 0.8309543132781982, 0.9108700752258301, 0.05060389265418053, 0.0070489696227014065, 0.4610025882720947, 0.06907989829778671, 0.0070489696227014065, 0.026786083355545998, 0.03524484857916832, 0.0070489696227014065, 0.30028608441352844, 0.004229381680488586, 0.08035825192928314, 0.04453771188855171, 0.890754222869873, 0.05090993270277977, 0.14636605978012085, 0.2975049316883087, 0.035000577569007874, 0.1081836074590683, 0.09068331867456436, 0.04931899905204773, 0.1479569971561432, 0.025454966351389885, 0.04931899905204773, 0.11059984564781189, 0.08294988423585892, 0.6912490129470825, 0.027649961411952972, 0.055299922823905945, 0.014165685512125492, 0.014165685512125492, 0.028331371024250984, 0.014165685512125492, 0.5382960438728333, 0.2408166527748108, 0.014165685512125492, 0.14165686070919037, 0.05744483694434166, 0.05744483694434166, 0.17233450710773468, 0.07021035999059677, 0.12765519320964813, 0.45317593216896057, 0.044679317623376846, 0.006382759660482407, 0.006382759660482407, 0.012765519320964813, 0.08080447465181351, 0.026934824883937836, 0.17507636547088623, 0.013467412441968918, 0.49829426407814026, 0.09427189081907272, 0.09427189081907272, 0.9132615923881531, 0.8808184266090393, 0.21905402839183807, 0.7301800847053528, 0.07240986078977585, 0.5754678249359131, 0.08384299278259277, 0.11052031069993973, 0.04001597687602043, 0.01905522681772709, 0.04192149639129639, 0.036204930394887924, 0.017149703577160835, 0.005716567859053612, 0.16787223517894745, 0.23711954057216644, 0.17101983726024628, 0.03147604316473007, 0.09862493723630905, 0.13534699380397797, 0.029377641156315804, 0.03567285090684891, 0.06819809973239899, 0.024131635203957558, 0.5447946786880493, 0.011564037762582302, 0.00642446568235755, 0.23899012804031372, 0.028267648071050644, 0.03469211608171463, 0.02055829018354416, 0.00128489313647151, 0.1040763407945633, 0.01027914509177208, 0.5040698647499084, 0.014305821619927883, 0.005049113649874926, 0.12033721059560776, 0.024404048919677734, 0.014305821619927883, 0.05806480720639229, 0.009256708435714245, 0.246565043926239, 0.003366075688973069, 0.18198539316654205, 0.7643386721611023, 0.16612690687179565, 0.6645076274871826, 0.9270350933074951, 0.029904358088970184, 0.029904358088970184, 0.07083620131015778, 0.21250860393047333, 0.6375257968902588, 0.019297262653708458, 0.019297262653708458, 0.3811209201812744, 0.14955377578735352, 0.053067468106746674, 0.028945893049240112, 0.0048243156634271145, 0.1399051547050476, 0.038594525307416916, 0.16402672231197357, 0.8807490468025208, 0.06774992495775223, 0.14378304779529572, 0.13472585380077362, 0.1324615478515625, 0.05660749971866608, 0.08151479810476303, 0.24228009581565857, 0.026039449498057365, 0.07811834663152695, 0.04981460049748421, 0.05321104824542999, 0.07220357656478882, 0.14440715312957764, 0.14440715312957764, 0.07220357656478882, 0.5776286125183105, 0.09124460071325302, 0.18248920142650604, 0.6387121677398682, 0.11199304461479187, 0.2519843578338623, 0.027998261153697968, 0.0839947834610939, 0.0839947834610939, 0.027998261153697968, 0.39197567105293274, 0.08220220357179642, 0.4189150929450989, 0.015808116644620895, 0.20076307654380798, 0.0806213915348053, 0.03635866940021515, 0.07745977491140366, 0.011065681464970112, 0.03952028974890709, 0.03635866940021515, 0.10210845619440079, 0.1701807677745819, 0.7147592306137085, 0.08036795258522034, 0.20091988146305084, 0.08036795258522034, 0.04018397629261017, 0.56257563829422, 0.3862152099609375, 0.19112446904182434, 0.09419883042573929, 0.04462049901485443, 0.11403016746044159, 0.058998215943574905, 0.033713266253471375, 0.02726808376610279, 0.029746999964118004, 0.019831333309412003, 0.021608568727970123, 0.3133242428302765, 0.334932804107666, 0.008103213272988796, 0.010804284363985062, 0.09723855555057526, 0.010804284363985062, 0.14585784077644348, 0.010804284363985062, 0.04591820761561394, 0.8616216778755188, 0.8886260986328125, 0.8038244247436523, 0.18415367603302002, 0.7366147041320801, 0.18169666826725006, 0.18169666826725006, 0.5450900197029114, 0.0364309661090374, 0.7832658290863037, 0.0182154830545187, 0.0182154830545187, 0.0364309661090374, 0.0728619322180748, 0.5102649331092834, 0.0762464851140976, 0.005865114275366068, 0.08602167665958405, 0.04105579853057861, 0.02346045710146427, 0.058651141822338104, 0.02346045710146427, 0.16422319412231445, 0.011730228550732136, 0.26810717582702637, 0.006539199501276016, 0.006539199501276016, 0.3923519551753998, 0.058852795511484146, 0.026156798005104065, 0.22233277559280396, 0.013078399002552032, 0.006539199501276016, 0.05850963667035103, 0.05850963667035103, 0.8191348910331726, 0.9599747657775879, 0.25373539328575134, 0.6343384981155396, 0.9078804850578308, 0.5257368087768555, 0.014354587532579899, 0.010765940882265568, 0.17046073079109192, 0.012560264207422733, 0.021531881764531136, 0.1812266707420349, 0.0035886468831449747, 0.030503498390316963, 0.030503498390316963, 0.0405956394970417, 0.5926963090896606, 0.10554865747690201, 0.0811912789940834, 0.0487147681415081, 0.10554865747690201, 0.01623825542628765, 0.008119127713143826, 0.008119127713143826, 0.8626189827919006, 0.029241321608424187, 0.029241321608424187, 0.014620660804212093, 0.014620660804212093, 0.029241321608424187, 0.7589988112449646, 0.043465979397296906, 0.7823876142501831, 0.1303979456424713, 0.0819479301571846, 0.0819479301571846, 0.7375314235687256, 0.17284882068634033, 0.008230895735323429, 0.5350082516670227, 0.008230895735323429, 0.0905398577451706, 0.04115448147058487, 0.13992524147033691, 0.9054649472236633, 0.04211464896798134, 0.02105732448399067, 0.06307315081357956, 0.8830240964889526, 0.045369960367679596, 0.47900208830833435, 0.09335742145776749, 0.06630994379520416, 0.043624959886074066, 0.045369960367679596, 0.0680549368262291, 0.08463242650032043, 0.0427524633705616, 0.03140997141599655, 0.23452939093112946, 0.3104722499847412, 0.04467226564884186, 0.07817646116018295, 0.026803359389305115, 0.20549242198467255, 0.013401679694652557, 0.02233613282442093, 0.02233613282442093, 0.042438652366399765, 0.06746379286050797, 0.8770293593406677, 0.10587944835424423, 0.20315618813037872, 0.16940711438655853, 0.06749814748764038, 0.13565804064273834, 0.09727673977613449, 0.0701451301574707, 0.07610085606575012, 0.03176383301615715, 0.043013524264097214, 0.19587452709674835, 0.006995518691837788, 0.6645742654800415, 0.02798207476735115, 0.0559641495347023, 0.006995518691837788, 0.006995518691837788, 0.013991037383675575, 0.013991037383675575, 0.7046743631362915, 0.21881665289402008, 0.068380206823349, 0.478661447763443, 0.013676040805876255, 0.205140620470047, 0.4382311701774597, 0.08011414110660553, 0.03629101812839508, 0.07669045776128769, 0.09654780477285385, 0.07874466478824615, 0.029443657025694847, 0.07737519592046738, 0.0705278292298317, 0.015064196661114693, 0.07595890015363693, 0.02531963400542736, 0.02531963400542736, 0.6583104729652405, 0.17723743617534637, 0.5507076978683472, 0.015974728390574455, 0.004203875549137592, 0.13200169801712036, 0.1126638650894165, 0.017656277865171432, 0.04708340764045715, 0.049605730921030045, 0.06137658283114433, 0.007566976360976696, 0.04322894662618637, 0.9294223189353943, 0.035650938749313354, 0.9090989828109741, 0.017825469374656677, 0.017825469374656677, 0.06785919517278671, 0.8821695446968079, 0.6850730776786804, 0.012754020281136036, 0.010932017117738724, 0.1074981689453125, 0.04008406400680542, 0.04008406400680542, 0.025508040562272072, 0.010932017117738724, 0.06194809824228287, 0.007288011256605387, 0.8160679340362549, 0.05386953428387642, 0.8619125485420227, 0.2968212962150574, 0.04066045209765434, 0.05692463368177414, 0.12604740262031555, 0.052858587354421616, 0.101651132106781, 0.060990676283836365, 0.032528363168239594, 0.22363248467445374, 0.008132090792059898, 0.7877182960510254, 0.026664653792977333, 0.0011110272025689483, 0.05999547243118286, 0.026664653792977333, 0.014443354681134224, 0.02999773621559143, 0.012221300043165684, 0.027775680646300316, 0.012221300043165684, 0.09649477154016495, 0.7719581723213196, 0.09649477154016495, 0.8646810054779053, 0.007123846095055342, 0.028495384380221367, 0.8904807567596436, 0.014247692190110683, 0.007123846095055342, 0.042743075639009476, 0.007123846095055342, 0.17894014716148376, 0.18444600701332092, 0.1156228706240654, 0.008258776739239693, 0.0027529255021363497, 0.005505851004272699, 0.044046808034181595, 0.143152117729187, 0.008258776739239693, 0.30832764506340027, 0.8791580200195312, 0.7784172892570496, 0.04597964137792587, 0.8276335000991821, 0.04597964137792587, 0.04597964137792587, 0.005801794584840536, 0.005801794584840536, 0.8470620512962341, 0.07542333006858826, 0.005801794584840536, 0.058017946779727936, 0.005801794584840536, 0.17948226630687714, 0.6057526469230652, 0.06730585545301437, 0.044870566576719284, 0.08974113315343857, 0.8603984713554382, 0.14913208782672882, 0.7456604838371277, 0.9348661303520203, 0.3257480263710022, 0.20825359225273132, 0.011960511095821857, 0.04432424530386925, 0.165336474776268, 0.13226917386054993, 0.019699664786458015, 0.01266407035291195, 0.04151000827550888, 0.0379922091960907, 0.7365835309028625, 0.8557509779930115, 0.19166435301303864, 0.7666574120521545, 0.1914314329624176, 0.7657257318496704, 0.12691250443458557, 0.12023289501667023, 0.1235726997256279, 0.060116447508335114, 0.05677664652466774, 0.2571648061275482, 0.050097040832042694, 0.13025230169296265, 0.013359210453927517, 0.05677664652466774, 0.5529268383979797, 0.05593562126159668, 0.0025717527605593204, 0.13823170959949493, 0.07908139377832413, 0.009001134894788265, 0.068794384598732, 0.009001134894788265, 0.06493675708770752, 0.019931083545088768, 0.9205105900764465, 0.29689592123031616, 0.10509590059518814, 0.002627397421747446, 0.2706219255924225, 0.04992055147886276, 0.03415616601705551, 0.010509589686989784, 0.02101917937397957, 0.1839178204536438, 0.028901372104883194, 0.11137138307094574, 0.07955098897218704, 0.0318203940987587, 0.01591019704937935, 0.7477792501449585, 0.03057267516851425, 0.03057267516851425, 0.8560349345207214, 0.03057267516851425, 0.03057267516851425, 0.17512138187885284, 0.01592012494802475, 0.01592012494802475, 0.01592012494802475, 0.07960062474012375, 0.6845653653144836, 0.01592012494802475, 0.8137617707252502, 0.9460800886154175, 0.7985494136810303, 0.03726348653435707, 0.9315872192382812, 0.03726348653435707, 0.027106190100312233, 0.9487167000770569, 0.013553095050156116, 0.8337535858154297, 0.17063556611537933, 0.200102761387825, 0.09936609864234924, 0.041802287101745605, 0.16720914840698242, 0.0746958926320076, 0.033578887581825256, 0.06304607540369034, 0.09868080914020538, 0.05139625817537308, 0.8347416520118713, 0.8743813037872314, 0.7025755643844604, 0.1505519151687622, 0.1254599243402481, 0.02509198524057865, 0.9090018272399902, 0.8939238786697388, 0.2223890870809555, 0.08538152277469635, 0.0913383737206459, 0.08935275673866272, 0.1965760737657547, 0.06353974342346191, 0.14693565666675568, 0.07545343786478043, 0.02382740192115307, 0.005956850480288267, 0.9239405393600464, 0.4587668180465698, 0.02200726419687271, 0.02200726419687271, 0.07617899030447006, 0.09480052441358566, 0.027085863053798676, 0.13712218403816223, 0.06432892382144928, 0.0897219255566597, 0.008464332669973373, 0.24101632833480835, 0.13784746825695038, 0.17859482765197754, 0.08149472624063492, 0.08756348490715027, 0.09103134274482727, 0.04941701516509056, 0.09276527166366577, 0.012137512676417828, 0.028609851375222206, 0.15312273800373077, 0.7656136751174927, 0.1911395788192749, 0.14635109901428223, 0.15581345558166504, 0.09651602059602737, 0.12048732489347458, 0.09777767211198807, 0.05362001433968544, 0.038480244576931, 0.06560566276311874, 0.03406447917222977, 0.7596495747566223, 0.005098319612443447, 0.007647478953003883, 0.033139076083898544, 0.07392562925815582, 0.005098319612443447, 0.04078655689954758, 0.007647478953003883, 0.056081514805555344, 0.007647478953003883, 0.04042147845029831, 0.04042147845029831, 0.8892725110054016, 0.04758504405617714, 0.3330953121185303, 0.2590741217136383, 0.04494142904877663, 0.10310092568397522, 0.013218067586421967, 0.0026436136104166508, 0.06873395293951035, 0.01586168073117733, 0.11367538571357727, 0.1692693829536438, 0.0846346914768219, 0.6770775318145752, 0.9192399978637695, 0.6435719728469849, 0.01970118284225464, 0.001313412212766707, 0.07486449182033539, 0.05122307315468788, 0.03020847961306572, 0.07617790997028351, 0.01576094701886177, 0.04990966245532036, 0.03677554056048393, 0.09593534469604492, 0.19187068939208984, 0.6715474128723145, 0.5407151579856873, 0.05971835181117058, 0.0075155748054385185, 0.04793718084692955, 0.12451478838920593, 0.016249891370534897, 0.08064008504152298, 0.03107791766524315, 0.07799948006868362, 0.013406160287559032, 0.22789493203163147, 0.1474614292383194, 0.14578573405742645, 0.04859524220228195, 0.05194664001464844, 0.17929968237876892, 0.07540640980005264, 0.06870362162590027, 0.04691954329609871, 0.006702791899442673, 0.5883662104606628, 0.02895299345254898, 0.0041361418552696705, 0.13028846681118011, 0.05376984551548958, 0.018612639978528023, 0.0920291617512703, 0.035157207399606705, 0.03929334878921509, 0.008272283710539341, 0.39394986629486084, 0.14300288259983063, 0.04428476095199585, 0.04243956133723259, 0.14761586487293243, 0.09964071214199066, 0.03505877032876015, 0.04982035607099533, 0.03321357071399689, 0.012916388921439648, 0.2437150776386261, 0.12004956603050232, 0.04628416895866394, 0.0499001182615757, 0.1504235565662384, 0.13306698203086853, 0.07231901586055756, 0.08822919428348541, 0.08027410507202148, 0.015910184010863304, 0.699965238571167, 0.006730434950441122, 0.000961490732152015, 0.0423055924475193, 0.028844721615314484, 0.02019130438566208, 0.026921739801764488, 0.00769192585721612, 0.14903105795383453, 0.01538385171443224, 0.1698983609676361, 0.6795934438705444, 0.16241991519927979, 0.1392170637845993, 0.048725973814725876, 0.10441280156373978, 0.09745194762945175, 0.23434872925281525, 0.034804265946149826, 0.08817081153392792, 0.06264768540859222, 0.025523129850625992, 0.17339225113391876, 0.22993320226669312, 0.04146336391568184, 0.015077587217092514, 0.38824787735939026, 0.030155174434185028, 0.06407974660396576, 0.0037693968042731285, 0.015077587217092514, 0.04146336391568184, 0.07177270948886871, 0.8612725734710693, 0.05362841859459877, 0.06703552603721619, 0.05362841859459877, 0.49606287479400635, 0.013407104648649693, 0.05362841859459877, 0.013407104648649693, 0.24132788181304932, 0.026903266087174416, 0.2869681715965271, 0.026903266087174416, 0.017935510724782944, 0.017935510724782944, 0.242129385471344, 0.38561347126960754, 0.3254798948764801, 0.18213383853435516, 0.12850554287433624, 0.06374683976173401, 0.09309062361717224, 0.07217895984649658, 0.032042063772678375, 0.043509747833013535, 0.04519617184996605, 0.014165964908897877, 0.2363506406545639, 0.23825669288635254, 0.19537049531936646, 0.04002712666988373, 0.05813463404774666, 0.06385279446840286, 0.09244360029697418, 0.019060535356402397, 0.030496856197714806, 0.025731723755598068, 0.12160053104162216, 0.7296032309532166, 0.24748343229293823, 0.2822124660015106, 0.10449995845556259, 0.08916912227869034, 0.0885433778166771, 0.06476494669914246, 0.03066166304051876, 0.03848351538181305, 0.021901188418269157, 0.03222603350877762, 0.03783561661839485, 0.11350685358047485, 0.11350685358047485, 0.7188767194747925, 0.37736210227012634, 0.06812810897827148, 0.02641373686492443, 0.06522904336452484, 0.08214027434587479, 0.07199353724718094, 0.09277019649744034, 0.08036862313747406, 0.12240511924028397, 0.013045809231698513, 0.8300769925117493, 0.7476907968521118, 0.3227560818195343, 0.06573782116174698, 0.04295503720641136, 0.05339714512228966, 0.09041916579008102, 0.08282490074634552, 0.09255505353212357, 0.14642684161663055, 0.08923256397247314, 0.01328995544463396, 0.9607237577438354, 0.8993324041366577, 0.08274231851100922, 0.3585500419139862, 0.12717801332473755, 0.05516154691576958, 0.1256457418203354, 0.06895193457603455, 0.024516243487596512, 0.10725856572389603, 0.004596795421093702, 0.04750022292137146, 0.008493354544043541, 0.6624816656112671, 0.050960127264261246, 0.008493354544043541, 0.042466774582862854, 0.025480063632130623, 0.042466774582862854, 0.14438703656196594, 0.21259891986846924, 0.038654349744319916, 0.2319260984659195, 0.48317936062812805, 0.002378476783633232, 0.5280218124389648, 0.0808682069182396, 0.01189238391816616, 0.05232648923993111, 0.27352482080459595, 0.02378476783633232, 0.002378476783633232, 0.002378476783633232, 0.02378476783633232, 0.03411276265978813, 0.13645105063915253, 0.7504807710647583, 0.2605191469192505, 0.14600522816181183, 0.06155122444033623, 0.05868837609887123, 0.12310244888067245, 0.0830225795507431, 0.04866841062903404, 0.0887482762336731, 0.05725695192813873, 0.07300261408090591, 0.23171719908714294, 0.042130399495363235, 0.021065199747681618, 0.6319559812545776, 0.021065199747681618, 0.042130399495363235, 0.9142391681671143, 0.19507630169391632, 0.13934020698070526, 0.13934020698070526, 0.13934020698070526, 0.3622845411300659, 0.209602952003479, 0.013338370248675346, 0.14291110634803772, 0.1048014760017395, 0.04192059114575386, 0.11623436957597733, 0.026676740497350693, 0.2229413241147995, 0.049542516469955444, 0.07050281018018723, 0.7799071073532104, 0.0974883884191513, 0.06449653208255768, 0.9029514193534851, 0.10298366099596024, 0.10298366099596024, 0.7208856344223022, 0.295085072517395, 0.6639414429664612, 0.14912481606006622, 0.17635630071163177, 0.11540964245796204, 0.10114552825689316, 0.05964992567896843, 0.0726172998547554, 0.06224340200424194, 0.15171828866004944, 0.03760538995265961, 0.0726172998547554, 0.8211550116539001, 0.08211550116539001, 0.10262968391180038, 0.07055790722370148, 0.2180880755186081, 0.025657420977950096, 0.06414355337619781, 0.0833866149187088, 0.025657420977950096, 0.3335464596748352, 0.05131484195590019, 0.019243065267801285, 0.05232040584087372, 0.6652165651321411, 0.085954949259758, 0.033634547144174576, 0.06353192031383514, 0.02616020292043686, 0.029897373169660568, 0.022423030808568, 0.011211515404284, 0.011211515404284, 0.9147791862487793, 0.9328826069831848, 0.01422730553895235, 0.18292249739170074, 0.4227541983127594, 0.03455202654004097, 0.08129888772964478, 0.18901991844177246, 0.006097416393458843, 0.050811804831027985, 0.010162360966205597, 0.006097416393458843, 0.13777180016040802, 0.3667161166667938, 0.1418239176273346, 0.05065139755606651, 0.10636793822050095, 0.06888590008020401, 0.03545597940683365, 0.04254717379808426, 0.041534144431352615, 0.010130279697477818, 0.033605728298425674, 0.7729317545890808, 0.10081718116998672, 0.033605728298425674, 0.8600016236305237, 0.8866984844207764, 0.8961738348007202, 0.541941225528717, 0.050609298050403595, 0.02108720690011978, 0.040065694600343704, 0.016869766637682915, 0.040065694600343704, 0.2319592833518982, 0.0021087208297103643, 0.018978485837578773, 0.03584825247526169, 0.027706122025847435, 0.720359206199646, 0.04155918210744858, 0.08311836421489716, 0.11082448810338974, 0.01902148500084877, 0.01902148500084877, 0.28532227873802185, 0.05706445500254631, 0.01902148500084877, 0.1331503987312317, 0.4565156400203705, 0.01902148500084877, 0.01902148500084877, 0.026215050369501114, 0.28836554288864136, 0.026215050369501114, 0.07864514738321304, 0.5243009924888611, 0.026215050369501114, 0.023146146908402443, 0.41663065552711487, 0.13887688517570496, 0.023146146908402443, 0.023146146908402443, 0.393484503030777, 0.01069311611354351, 0.14970362186431885, 0.7378249764442444, 0.01069311611354351, 0.01069311611354351, 0.01069311611354351, 0.06415869295597076, 0.1723368763923645, 0.689347505569458, 0.9331369996070862, 0.8666219115257263, 0.009629132226109505, 0.009629132226109505, 0.01925826445221901, 0.028887396678328514, 0.009629132226109505, 0.009629132226109505, 0.03851652890443802, 0.9378778338432312, 0.06880143284797668, 0.08756545931100845, 0.1834704875946045, 0.025018703192472458, 0.09173524379730225, 0.235592782497406, 0.0583769716322422, 0.1730460226535797, 0.00833956804126501, 0.07088632136583328, 0.09177050739526749, 0.8259345889091492, 0.2603362202644348, 0.6248069405555725, 0.1931317001581192, 0.2967771589756012, 0.14612311124801636, 0.09684903174638748, 0.03907943516969681, 0.0685306042432785, 0.04077854007482529, 0.057203229516744614, 0.03907943516969681, 0.02265474572777748, 0.43224862217903137, 0.43224862217903137, 0.10433587431907654, 0.08988068252801895, 0.8688466548919678, 0.02129787765443325, 0.02129787765443325, 0.894510805606842, 0.0638936311006546, 0.18796564638614655, 0.563896894454956, 0.17104899883270264, 0.17104899883270264, 0.6841959953308105, 0.04814238101243973, 0.914705216884613, 0.185418963432312, 0.3279084265232086, 0.17719842493534088, 0.037449151277542114, 0.09407957643270493, 0.062110789120197296, 0.03562236204743385, 0.02100806124508381, 0.05023666471242905, 0.01004733331501484, 0.806907057762146, 0.026642493903636932, 0.9324873089790344, 0.031135115772485733, 0.9340534210205078, 0.12212076038122177, 0.7937849760055542, 0.32889583706855774, 0.15229132771492004, 0.06545855104923248, 0.12851250171661377, 0.10740546137094498, 0.06652726233005524, 0.05049659684300423, 0.027786487713456154, 0.02992391027510166, 0.04221408814191818, 0.18244244158267975, 0.7905839085578918, 0.8686313033103943, 0.16234935820102692, 0.6493974328041077, 0.3620847165584564, 0.13717439770698547, 0.02785266935825348, 0.11558857560157776, 0.08703958988189697, 0.07798747718334198, 0.07589852809906006, 0.02785266935825348, 0.06823904067277908, 0.019496869295835495, 0.18209941685199738, 0.14860986173152924, 0.052327416837215424, 0.13186508417129517, 0.06279289722442627, 0.031396448612213135, 0.23861302435398102, 0.07744457572698593, 0.0460481271147728, 0.027210256084799767, 0.049112193286418915, 0.09822438657283783, 0.030695121735334396, 0.12278048694133759, 0.14733658730983734, 0.08901584893465042, 0.34071585536003113, 0.024556096643209457, 0.006139024160802364, 0.09208536148071289, 0.23089632391929626, 0.057724080979824066, 0.06349648535251617, 0.10967575013637543, 0.08081371337175369, 0.3405720591545105, 0.023089632391929626, 0.023089632391929626, 0.05195167288184166, 0.01731722429394722, 0.16439791023731232, 0.15302446484565735, 0.17473739385604858, 0.17473739385604858, 0.0971912145614624, 0.0641048476099968, 0.05790115147829056, 0.026882676407694817, 0.05790115147829056, 0.02895057573914528, 0.21067877113819122, 0.19592107832431793, 0.08905503898859024, 0.060557425022125244, 0.1623346209526062, 0.12111485004425049, 0.03307758644223213, 0.06106631085276604, 0.01170437689870596, 0.05445079505443573, 0.2500888705253601, 0.11166330426931381, 0.05813874304294586, 0.07567264884710312, 0.1485767960548401, 0.14211693406105042, 0.0867467001080513, 0.029530789703130722, 0.03968200087547302, 0.05721590667963028, 0.3706505298614502, 0.1301555335521698, 0.05134162679314613, 0.11169055849313736, 0.045937247574329376, 0.0725087895989418, 0.0824168249964714, 0.0725087895989418, 0.016663510352373123, 0.04638761281967163, 0.1755790263414383, 0.7023161053657532, 0.4731525480747223, 0.030398068949580193, 0.00396496569737792, 0.2537578046321869, 0.11630565673112869, 0.00925158616155386, 0.01585986278951168, 0.023789793252944946, 0.0409713089466095, 0.03171972557902336, 0.9100391864776611, 0.037918299436569214, 0.060332801192998886, 0.9049920439720154, 0.10130858421325684, 0.4403822124004364, 0.2005496472120285, 0.037215400487184525, 0.06822822988033295, 0.02067522145807743, 0.010337610729038715, 0.05375557765364647, 0.03514787554740906, 0.03101283311843872, 0.9488678574562073, 0.012822538614273071, 0.012822538614273071, 0.012822538614273071, 0.012822538614273071, 0.8393714427947998, 0.0899326503276825, 0.029977550730109215, 0.029977550730109215, 0.11189480870962143, 0.7832636833190918, 0.11964624375104904, 0.04985260218381882, 0.009970520623028278, 0.09970520436763763, 0.07976416498422623, 0.13958728313446045, 0.3290271759033203, 0.13958728313446045, 0.03988208249211311, 0.18214112520217896, 0.7285645008087158, 0.09849284589290619, 0.7879427671432495, 0.8696953058242798, 0.05797968804836273, 0.538105845451355, 0.03349654749035835, 0.01620800606906414, 0.16856327652931213, 0.05618775635957718, 0.03133548051118851, 0.03133548051118851, 0.010805337689816952, 0.1069728434085846, 0.007563736755400896, 0.8709784150123596, 0.1244254857301712, 0.5477302074432373, 0.009389660321176052, 0.00312988692894578, 0.2550857663154602, 0.017214378342032433, 0.021909208968281746, 0.06259773671627045, 0.00625977385789156, 0.06416267901659012, 0.009389660321176052, 0.017767561599612236, 0.05330268666148186, 0.8350754380226135, 0.017767561599612236, 0.017767561599612236, 0.03553512319922447, 0.8915596604347229, 0.6817687153816223, 0.02781195566058159, 0.006765069905668497, 0.06464400142431259, 0.060885630548000336, 0.03758372366428375, 0.018791861832141876, 0.04284544289112091, 0.04434879124164581, 0.01428181491792202, 0.8320059776306152, 0.8662034869194031, 0.3005574941635132, 0.005182025488466024, 0.02591012790799141, 0.01554607693105936, 0.2953754663467407, 0.02591012790799141, 0.24873723089694977, 0.07773038744926453, 0.2232738882303238, 0.39359745383262634, 0.07148294150829315, 0.07589547336101532, 0.13590584695339203, 0.0441252738237381, 0.016767604276537895, 0.028240175917744637, 0.007060043979436159, 0.0035300219897180796, 0.9178145527839661, 0.9231058955192566, 0.16983310878276825, 0.7642489671707153, 0.08491655439138412, 0.098146952688694, 0.4657169282436371, 0.2059161514043808, 0.04811125248670578, 0.02309340052306652, 0.028866751119494438, 0.032715652137994766, 0.032715652137994766, 0.040413450449705124, 0.02309340052306652, 0.18801932036876678, 0.7520772814750671, 0.17184105515480042, 0.6873642206192017, 0.09488673508167267, 0.009488673880696297, 0.018977347761392593, 0.7116504907608032, 0.09488673508167267, 0.03795469552278519, 0.018977347761392593, 0.009488673880696297, 0.22995848953723907, 0.10704964399337769, 0.019824007526040077, 0.09119043499231339, 0.19824007153511047, 0.09912003576755524, 0.21013447642326355, 0.027753610163927078, 0.015859205275774002, 0.0039648013189435005, 0.8887094855308533, 0.06502752006053925, 0.008873102255165577, 0.3046431839466095, 0.032534707337617874, 0.005915401503443718, 0.011830803006887436, 0.09760412573814392, 0.026619307696819305, 0.002957700751721859, 0.5087245106697083, 0.13764949142932892, 0.22868752479553223, 0.19445721805095673, 0.05972094461321831, 0.10050597786903381, 0.08958141505718231, 0.042969949543476105, 0.09030972421169281, 0.035686906427145004, 0.020392518490552902, 0.07958129048347473, 0.06189655885100365, 0.09726601839065552, 0.1237931177020073, 0.07958129048347473, 0.14147785305976868, 0.30064043402671814, 0.09726601839065552, 0.017684731632471085, 0.008842365816235542, 0.8808572888374329, 0.9000809192657471, 0.060005392879247665, 0.1935458779335022, 0.18806816637516022, 0.17802569270133972, 0.032866280525922775, 0.035605136305093765, 0.0867304652929306, 0.0520382784307003, 0.1460723578929901, 0.038343995809555054, 0.04929942265152931, 0.3192427456378937, 0.1221117228269577, 0.11937379091978073, 0.08651861548423767, 0.09637516736984253, 0.06790068745613098, 0.07009103149175644, 0.03778344765305519, 0.06625793129205704, 0.014784826897084713, 0.9468616843223572, 0.02427850477397442, 0.05598652735352516, 0.11197305470705032, 0.03732435032725334, 0.03732435032725334, 0.0933108776807785, 0.6718383431434631, 0.5562168955802917, 0.006284936331212521, 0.14141106605529785, 0.01571234129369259, 0.034567151218652725, 0.0031424681656062603, 0.025139745324850082, 0.08798911422491074, 0.12884120643138885, 0.019396208226680756, 0.07435213029384613, 0.8081753849983215, 0.0420251190662384, 0.009698104113340378, 0.012930805794894695, 0.006465402897447348, 0.009698104113340378, 0.006465402897447348, 0.012930805794894695, 0.534485936164856, 0.05788344144821167, 0.05212389677762985, 0.16501100361347198, 0.049820076674222946, 0.014974821358919144, 0.01699066162109375, 0.012671002186834812, 0.09013690054416656, 0.006335501093417406, 0.8973150253295898, 0.07027550041675568, 0.7554616332054138, 0.0878443717956543, 0.01756887510418892, 0.07027550041675568, 0.8918803334236145, 0.08521752059459686, 0.3067830801010132, 0.017043503001332283, 0.11930452287197113, 0.017043503001332283, 0.102261021733284, 0.051130510866642, 0.3067830801010132, 0.9250357151031494, 0.06356093287467957, 0.11123163253068924, 0.06356093287467957, 0.05561581626534462, 0.07150604575872421, 0.15095721185207367, 0.03178046643733978, 0.03972558304667473, 0.09534139931201935, 0.3098595440387726, 0.06243062764406204, 0.09364593774080276, 0.06810613721609116, 0.05675511434674263, 0.15323881804943085, 0.38877254724502563, 0.05675511434674263, 0.011351022869348526, 0.0652683824300766, 0.036890823394060135, 0.06640222668647766, 0.7968267202377319, 0.06640222668647766, 0.07438239455223083, 0.89258873462677, 0.7867273688316345, 0.016738880425691605, 0.005579626653343439, 0.09485365450382233, 0.005579626653343439, 0.005579626653343439, 0.06695552170276642, 0.016738880425691605, 0.04728402569890022, 0.11821006238460541, 0.6087818145751953, 0.011821006424725056, 0.04728402569890022, 0.08274704217910767, 0.011821006424725056, 0.07092603296041489, 0.005910503212362528, 0.2224055826663971, 0.025417780503630638, 0.0063544451259076595, 0.31136780977249146, 0.28595003485679626, 0.13979779183864594, 0.8530813455581665, 0.1604795902967453, 0.3322705030441284, 0.07847239822149277, 0.07705847918987274, 0.09190461039543152, 0.07352368533611298, 0.06362626701593399, 0.05726364254951477, 0.027571382001042366, 0.03676184266805649, 0.08354292809963226, 0.7797339558601379, 0.027847642078995705, 0.05569528415799141, 0.027847642078995705, 0.8446326851844788, 0.09670108556747437, 0.7736086845397949, 0.1783037632703781, 0.013715674169361591, 0.04114702343940735, 0.06857836991548538, 0.6720679998397827, 0.013715674169361591, 0.01812584511935711, 0.5049342513084412, 0.23045717179775238, 0.06473515927791595, 0.012947031296789646, 0.023304658010601997, 0.03107287548482418, 0.08545041084289551, 0.028483469039201736, 0.8748177289962769, 0.13435183465480804, 0.010004923678934574, 0.004287824500352144, 0.5631342530250549, 0.06717591732740402, 0.1186298057436943, 0.014292747713625431, 0.002858549589291215, 0.07718084007501602, 0.0071463738568127155, 0.37986624240875244, 0.18015438318252563, 0.0214379969984293, 0.050398096442222595, 0.059236567467451096, 0.0808626189827919, 0.08142677694559097, 0.07503298670053482, 0.053406938910484314, 0.01842915453016758, 0.6920959949493408, 0.04789591580629349, 0.002394795650616288, 0.08381785452365875, 0.031132344156503677, 0.023947957903146744, 0.007184387184679508, 0.035921934992074966, 0.07184386998414993, 0.002394795650616288, 0.8088120818138123, 0.08665844053030014, 0.05777229368686676, 0.8840160965919495, 0.22594140470027924, 0.05648535117506981, 0.6778241991996765, 0.02496599778532982, 0.1248299852013588, 0.02496599778532982, 0.01248299889266491, 0.01248299889266491, 0.1248299852013588, 0.01248299889266491, 0.6740819215774536, 0.018611541017889977, 0.0037223082035779953, 0.5471792817115784, 0.059556931257247925, 0.018611541017889977, 0.19356001913547516, 0.007444616407155991, 0.052112314850091934, 0.08561308681964874, 0.011166924610733986, 0.09181820601224899, 0.22036369144916534, 0.12854547798633575, 0.5325455665588379, 0.6810669898986816, 0.013858920894563198, 0.0019798458088189363, 0.11879075318574905, 0.013858920894563198, 0.02375815063714981, 0.011879075318574905, 0.04751630127429962, 0.08117368072271347, 0.007919383235275745, 0.466207891702652, 0.005864250473678112, 0.002932125236839056, 0.2726876437664032, 0.1348777562379837, 0.04104975238442421, 0.002932125236839056, 0.002932125236839056, 0.05864250287413597, 0.00879637524485588, 0.18511445820331573, 0.7404578328132629, 0.3111146092414856, 0.08748287707567215, 0.04287240654230118, 0.09037966281175613, 0.10312551259994507, 0.09907002002000809, 0.07241960614919662, 0.09153837710618973, 0.07589574158191681, 0.02549169957637787, 0.20427000522613525, 0.7070884704589844, 0.047139231115579605, 0.015713077038526535, 0.05690121278166771, 0.03983084857463837, 0.19346411526203156, 0.011380242183804512, 0.03983084857463837, 0.25036534667015076, 0.011380242183804512, 0.33287209272384644, 0.014225303195416927, 0.04552096873521805, 0.17737045884132385, 0.7094818353652954, 0.20967739820480347, 0.05241934955120087, 0.655241847038269, 0.026209674775600433, 0.026209674775600433, 0.8705841302871704, 0.050430573523044586, 0.8573197722434998, 0.050430573523044586, 0.3778400123119354, 0.07884063571691513, 0.04760189354419708, 0.08479087054729462, 0.050577010959386826, 0.09817890077829361, 0.12644252181053162, 0.02082582749426365, 0.10115402191877365, 0.013388032093644142, 0.12171970307826996, 0.07303182035684586, 0.6816303133964539, 0.02434394136071205, 0.07303182035684586, 0.0486878827214241, 0.941159725189209, 0.010184583254158497, 0.2342454195022583, 0.010184583254158497, 0.030553748831152916, 0.010184583254158497, 0.2647991478443146, 0.010184583254158497, 0.34627583622932434, 0.0916612446308136, 0.5885488390922546, 0.017142198979854584, 0.005714066326618195, 0.05142659693956375, 0.005714066326618195, 0.005714066326618195, 0.07999692857265472, 0.23999078571796417, 0.8808212876319885, 0.8721950054168701, 0.24329794943332672, 0.05956852436065674, 0.12344320863485336, 0.09473548829555511, 0.0760754644870758, 0.08971163630485535, 0.04234389215707779, 0.19521251320838928, 0.039473120123147964, 0.03588465228676796, 0.8364935517311096, 0.04909498989582062, 0.6284158825874329, 0.15710397064685822, 0.11782798171043396, 0.009818998165428638, 0.019637996330857277, 0.009818998165428638, 0.828500509262085, 0.07531822472810745, 0.7898613810539246, 0.13629677891731262, 0.045432258397340775, 0.11358065158128738, 0.6133354902267456, 0.06814838945865631, 0.16725865006446838, 0.6690346002578735, 0.02606216073036194, 0.05212432146072388, 0.8861134648323059, 0.8299296498298645, 0.04240266606211662, 0.08480533212423325, 0.7067111134529114, 0.04240266606211662, 0.04240266606211662, 0.014134222641587257, 0.028268445283174515, 0.04240266606211662, 0.5454650521278381, 0.040448881685733795, 0.016060585156083107, 0.10647573322057724, 0.10112220048904419, 0.050561100244522095, 0.042233388870954514, 0.02260378561913967, 0.05650946497917175, 0.017845094203948975, 0.18566948175430298, 0.280114084482193, 0.09981076419353485, 0.07834608107805252, 0.06654050946235657, 0.11698250472545624, 0.045075830072164536, 0.028977317735552788, 0.020391445606946945, 0.07941931486129761, 0.44034695625305176, 0.01036110520362854, 0.08806939423084259, 0.05698607861995697, 0.01554165780544281, 0.02590276300907135, 0.1036110520362854, 0.23830541968345642, 0.02072221040725708, 0.7508009672164917, 0.01337304525077343, 0.007641740143299103, 0.02292522042989731, 0.015283480286598206, 0.01337304525077343, 0.02292522042989731, 0.007641740143299103, 0.13755132257938385, 0.009552175179123878, 0.9086580872535706, 0.04543290659785271, 0.022716453298926353, 0.749035656452179, 0.8011786937713623, 0.030424509197473526, 0.008451252244412899, 0.030424509197473526, 0.021973256021738052, 0.005070751532912254, 0.037185508757829666, 0.010141503065824509, 0.043946512043476105, 0.013522003777325153, 0.05793468654155731, 0.10116952657699585, 0.48768898844718933, 0.04323484003543854, 0.07004044204950333, 0.18763920664787292, 0.005188180599361658, 0.012105755507946014, 0.031129084527492523, 0.004323483910411596, 0.20861898362636566, 0.052154745906591415, 0.5737022161483765, 0.10430949181318283, 0.0286109559237957, 0.634643018245697, 0.1430547833442688, 0.01560597587376833, 0.020807968452572823, 0.05201992020010948, 0.020807968452572823, 0.002600996056571603, 0.03121195174753666, 0.04941892251372337, 0.9161393046379089, 0.7084922194480896, 0.009762688539922237, 0.002789339516311884, 0.17014971375465393, 0.011157358065247536, 0.008368018083274364, 0.03068273514509201, 0.013946697115898132, 0.03068273514509201, 0.013946697115898132, 0.03224259987473488, 0.22569818794727325, 0.03224259987473488, 0.6126093864440918, 0.09672779589891434, 0.08286403864622116, 0.7457762956619263, 0.08286403864622116, 0.8691328763961792, 0.014485548250377178, 0.00482851592823863, 0.028971096500754356, 0.00482851592823863, 0.00482851592823863, 0.01931406371295452, 0.00482851592823863, 0.04828516021370888, 0.009175654500722885, 0.21562787890434265, 0.03211478888988495, 0.013763481751084328, 0.009175654500722885, 0.3257357180118561, 0.009175654500722885, 0.0045878272503614426, 0.3853774666786194, 0.345497190952301, 0.014471086673438549, 0.07235543429851532, 0.28580397367477417, 0.04883991926908493, 0.019897744059562683, 0.08139986544847488, 0.03617771714925766, 0.07235543429851532, 0.021706629544496536, 0.9237595796585083, 0.01965445838868618, 0.029481688514351845, 0.00982722919434309, 0.6238635182380676, 0.0032213262747973204, 0.02147550880908966, 0.15569743514060974, 0.018254181370139122, 0.019327957183122635, 0.025770610198378563, 0.015032855793833733, 0.11596774309873581, 0.0010737753473222256, 0.4503289461135864, 0.008829979225993156, 0.4326689839363098, 0.008829979225993156, 0.061809856444597244, 0.008829979225993156, 0.008829979225993156, 0.008829979225993156, 0.02648993767797947, 0.1322820484638214, 0.43671199679374695, 0.1914767622947693, 0.0495302677154541, 0.06100679188966751, 0.04228193685412407, 0.012080552987754345, 0.02959735505282879, 0.02416110597550869, 0.021140968427062035, 0.8713368773460388, 0.04416646063327789, 0.17035634815692902, 0.5426165461540222, 0.025237977504730225, 0.025237977504730225, 0.10726140439510345, 0.025237977504730225, 0.025237977504730225, 0.025237977504730225, 0.006309494376182556, 0.8859453797340393, 0.006562558468431234, 0.019687674939632416, 0.0459379106760025, 0.006562558468431234, 0.006562558468431234, 0.026250233873724937, 0.9221963882446289, 0.02426832541823387, 0.6388460397720337, 0.04796796292066574, 0.007631266955286264, 0.058869775384664536, 0.10574755817651749, 0.029434887692332268, 0.007631266955286264, 0.02507416345179081, 0.06868140399456024, 0.01090180967003107, 0.2455948144197464, 0.1823643296957016, 0.04016357287764549, 0.05101859197020531, 0.1118067055940628, 0.0808698982000351, 0.05997398495674133, 0.09498142451047897, 0.10475093871355057, 0.028765801340341568, 0.015458782203495502, 0.8038566708564758, 0.04637634754180908, 0.04637634754180908, 0.07729391008615494, 0.015458782203495502, 0.920632541179657, 0.05152509734034538, 0.05152509734034538, 0.8244015574455261, 0.02576254867017269, 0.02576254867017269, 0.02576254867017269, 0.06716270744800568, 0.009594672359526157, 0.748384416103363, 0.028784016147255898, 0.019189344719052315, 0.057568032294511795, 0.06716270744800568, 0.879902720451355, 0.0463106706738472, 0.06876032054424286, 0.8251238465309143, 0.3579427897930145, 0.23064622282981873, 0.05671628564596176, 0.0781424343585968, 0.1764506697654724, 0.03655049577355385, 0.025207238271832466, 0.005041447468101978, 0.015124342404305935, 0.018905429169535637, 0.9304664134979248, 0.022153962403535843, 0.11713933199644089, 0.11713933199644089, 0.7028359770774841, 0.37986043095588684, 0.004632444120943546, 0.027794666588306427, 0.4030226469039917, 0.009264888241887093, 0.11117866635322571, 0.023162221536040306, 0.004632444120943546, 0.018529776483774185, 0.023162221536040306, 0.05965396761894226, 0.05965396761894226, 0.05965396761894226, 0.05965396761894226, 0.23861587047576904, 0.4772317409515381, 0.8211501836776733, 0.06316539645195007, 0.9325894117355347, 0.19679206609725952, 0.09839603304862976, 0.09839603304862976, 0.5903761982917786, 0.5315142869949341, 0.01905069127678871, 0.0019050691043958068, 0.36386820673942566, 0.009525345638394356, 0.0038101382087916136, 0.020955760031938553, 0.022860828787088394, 0.013335484080016613, 0.013335484080016613, 0.035139527171850204, 0.14055810868740082, 0.035139527171850204, 0.5622324347496033, 0.035139527171850204, 0.17569763958454132, 0.3169158697128296, 0.038029905408620834, 0.0718342661857605, 0.07605981081724167, 0.029578814283013344, 0.287337064743042, 0.042255450040102005, 0.06760872155427933, 0.012676634825766087, 0.05915762856602669, 0.4377487599849701, 0.03725521266460419, 0.04035981371998787, 0.1924852728843689, 0.06830122321844101, 0.05588281899690628, 0.035702913999557495, 0.02949371002614498, 0.0869288295507431, 0.015523005276918411, 0.13430508971214294, 0.6715254187583923, 0.8028821349143982, 0.014085651375353336, 0.0352141298353672, 0.042256955057382584, 0.014085651375353336, 0.06338543444871902, 0.0352141298353672, 0.8569753170013428, 0.7447258234024048, 0.007922614924609661, 0.007922614924609661, 0.0818670243024826, 0.026408717036247253, 0.005281743593513966, 0.06074004992842674, 0.021126974374055862, 0.05017656460404396, 0.7204200625419617, 0.888947069644928, 0.1753714382648468, 0.17344427108764648, 0.15417268872261047, 0.05331805720925331, 0.12976200878620148, 0.10021224617958069, 0.05267566815018654, 0.06680816411972046, 0.06038430333137512, 0.034046471118927, 0.30093294382095337, 0.16959793865680695, 0.07652590423822403, 0.11582298576831818, 0.05791149288415909, 0.0754917711019516, 0.09203790873289108, 0.022750943899154663, 0.05170669034123421, 0.036194682121276855, 0.8671925067901611, 0.08614939451217651, 0.2599595785140991, 0.2705393135547638, 0.03627342730760574, 0.09370635449886322, 0.14660510420799255, 0.03325064107775688, 0.027205070480704308, 0.01662532053887844, 0.03022785671055317, 0.5053232908248901, 0.01862942986190319, 0.002328678732737899, 0.09780450910329819, 0.05355960875749588, 0.016300750896334648, 0.06287432461977005, 0.004657357465475798, 0.23053918778896332, 0.006986035965383053, 0.8211343288421631, 0.2346460074186325, 0.23314186930656433, 0.03309110552072525, 0.10528987646102905, 0.2105797529220581, 0.05114079639315605, 0.040611810982227325, 0.0240662582218647, 0.0270745400339365, 0.03910766914486885, 0.024809883907437325, 0.19103610515594482, 0.17987166345119476, 0.0992395356297493, 0.12777090072631836, 0.23693439364433289, 0.017366919666528702, 0.014885930344462395, 0.07691064476966858, 0.02977186068892479, 0.9004003405570984, 0.9025054574012756, 0.8780437707901001, 0.9466813802719116, 0.005843712016940117, 0.0019479040056467056, 0.005843712016940117, 0.01363532803952694, 0.0077916160225868225, 0.009739520028233528, 0.005843712016940117, 0.0019479040056467056, 0.0019479040056467056, 0.7323609590530396, 0.5098962783813477, 0.09909944981336594, 0.03303315117955208, 0.10164046287536621, 0.05251423642039299, 0.0830063745379448, 0.04235019162297249, 0.035574160516262054, 0.035574160516262054, 0.007623034529387951, 0.24577844142913818, 0.020867981016635895, 0.0023186644539237022, 0.10433990508317947, 0.05796661227941513, 0.0023186644539237022, 0.2875143885612488, 0.053329285234212875, 0.21099847555160522, 0.013911986723542213, 0.14496047794818878, 0.18120060861110687, 0.10872036218643188, 0.5436018109321594, 0.19636209309101105, 0.2466096431016922, 0.1514037698507309, 0.048925235867500305, 0.10710659623146057, 0.07404900342226028, 0.01718994788825512, 0.09652817249298096, 0.030412985011935234, 0.031735289841890335, 0.09504741430282593, 0.4288724958896637, 0.18314014375209808, 0.06491042673587799, 0.053319282829761505, 0.046364594250917435, 0.04404636472463608, 0.02781875617802143, 0.013909378089010715, 0.04172813519835472, 0.14550688862800598, 0.08730413764715195, 0.23281103372573853, 0.46562206745147705, 0.04990953952074051, 0.09981907904148102, 0.22459293901920319, 0.5989145040512085, 0.8881275057792664, 0.9240053296089172, 0.028875166550278664, 0.5515288710594177, 0.05540861934423447, 0.004262201488018036, 0.11848920583724976, 0.09888307750225067, 0.03580249473452568, 0.03239273279905319, 0.005114641971886158, 0.08268670737743378, 0.014491485431790352, 0.9636853933334351, 0.014577370136976242, 0.16763976216316223, 0.05830948054790497, 0.08017553389072418, 0.08017553389072418, 0.043732110410928726, 0.021866055205464363, 0.39358898997306824, 0.10933027416467667, 0.043732110410928726, 0.020756548270583153, 0.4255092442035675, 0.19718721508979797, 0.010378274135291576, 0.010378274135291576, 0.041513096541166306, 0.29059168696403503, 0.012262598611414433, 0.6867055296897888, 0.012262598611414433, 0.20846417546272278, 0.04905039444565773, 0.012262598611414433, 0.10169808566570282, 0.10169808566570282, 0.7118865847587585, 0.10947276651859283, 0.4713411033153534, 0.18853643536567688, 0.053520020097494125, 0.050479110330343246, 0.05169547349214554, 0.011555459350347519, 0.03162546828389168, 0.013380005024373531, 0.018245462328195572, 0.9139300584793091, 0.04985072836279869, 0.016616910696029663, 0.5824736952781677, 0.004936217796057463, 0.03455352410674095, 0.03455352410674095, 0.01974487118422985, 0.0691070482134819, 0.009872435592114925, 0.24187466502189636, 0.1384129673242569, 0.14021053910255432, 0.09527125954627991, 0.05033198744058609, 0.10785425454378128, 0.03595142066478729, 0.07370040565729141, 0.26604050397872925, 0.04493927210569382, 0.048534415662288666, 0.7183423638343811, 0.06750313937664032, 0.03375156968832016, 0.05062735825777054, 0.7762861251831055, 0.05062735825777054, 0.01687578484416008, 0.9482856392860413, 0.3812653124332428, 0.1255054771900177, 0.09497712552547455, 0.09701234847307205, 0.08208736777305603, 0.09158508479595184, 0.04206129536032677, 0.028493136167526245, 0.027136320248246193, 0.029849952086806297, 0.8570736646652222, 0.23990434408187866, 0.2215910404920578, 0.12453050166368484, 0.05333751067519188, 0.1348317414522171, 0.07897614687681198, 0.03708444908261299, 0.04212060943245888, 0.050361599773168564, 0.01716872677206993, 0.1537054479122162, 0.11527909338474274, 0.691674530506134, 0.006662706378847361, 0.8128501772880554, 0.01998811960220337, 0.006662706378847361, 0.006662706378847361, 0.01998811960220337, 0.03997623920440674, 0.03997623920440674, 0.04663894698023796, 0.9183411598205566, 0.35749292373657227, 0.013240478932857513, 0.013240478932857513, 0.40383461117744446, 0.026480957865715027, 0.06620239466428757, 0.006620239466428757, 0.006620239466428757, 0.07944287359714508, 0.01986071839928627, 0.4269985556602478, 0.005023512523621321, 0.015070537105202675, 0.5073747634887695, 0.005023512523621321, 0.005023512523621321, 0.005023512523621321, 0.005023512523621321, 0.02511756308376789, 0.005023512523621321, 0.12697038054466248, 0.8041457533836365, 0.042323458939790726, 0.30084243416786194, 0.5415164232254028, 0.8349577784538269, 0.05667674541473389, 0.05667674541473389, 0.08501511812210083, 0.08501511812210083, 0.6234441995620728, 0.028338372707366943, 0.028338372707366943, 0.17204970121383667, 0.6881988048553467, 0.12168391793966293, 0.8517874479293823, 0.8341425657272339, 0.08341425657272339, 0.032785262912511826, 0.2732105255126953, 0.08742736279964447, 0.010928420349955559, 0.032785262912511826, 0.010928420349955559, 0.05464210361242294, 0.3606378734111786, 0.010928420349955559, 0.1311410516500473, 0.481624573469162, 0.13232281804084778, 0.04842939227819443, 0.06101340427994728, 0.06330140680074692, 0.045760054141283035, 0.02860003337264061, 0.052624061703681946, 0.05605606734752655, 0.03050670213997364, 0.9375203847885132, 0.9086047410964966, 0.007900910452008247, 0.015801820904016495, 0.007900910452008247, 0.03160364180803299, 0.023702731356024742, 0.07759346067905426, 0.775934636592865, 0.07759346067905426, 0.0238992590457201, 0.860373318195343, 0.07169777899980545, 0.0238992590457201, 0.7991380095481873, 0.6956149935722351, 0.09239346534013748, 0.8315411806106567, 0.9535043835639954, 0.9524269700050354, 0.16256096959114075, 0.650243878364563, 0.19083261489868164, 0.6679141521453857, 0.8956252932548523, 0.8739160299301147, 0.07944691181182861, 0.8288940787315369, 0.01782567985355854, 0.062389880418777466, 0.08021555840969086, 0.8864949941635132, 0.006665375549346209, 0.033326879143714905, 0.006665375549346209, 0.013330751098692417, 0.006665375549346209, 0.006665375549346209, 0.033326879143714905, 0.035159625113010406, 0.035159625113010406, 0.38675588369369507, 0.5273944139480591, 0.85924232006073, 0.011831441894173622, 0.07098864763975143, 0.6743921637535095, 0.023662883788347244, 0.011831441894173622, 0.18930307030677795, 0.27513083815574646, 0.06878270953893661, 0.5846530199050903, 0.8227267861366272, 0.9236041903495789, 0.0419820100069046, 0.7434601187705994, 0.9384179711341858, 0.24817533791065216, 0.34217244386672974, 0.06419315934181213, 0.05559585988521576, 0.14271514117717743, 0.053876399993896484, 0.008024144917726517, 0.022352974861860275, 0.04585225507616997, 0.016621442511677742, 0.701537549495697, 0.09260296076536179, 0.002806150121614337, 0.008418451063334942, 0.1431136578321457, 0.014030750840902328, 0.01964305154979229, 0.014030750840902328, 0.002806150121614337, 0.002806150121614337, 0.14244747161865234, 0.37615036964416504, 0.04006335139274597, 0.09014254063367844, 0.1090613454580307, 0.08012670278549194, 0.04785344749689102, 0.04562770575284958, 0.025596030056476593, 0.043401964008808136, 0.24480777978897095, 0.3192678987979889, 0.10499414801597595, 0.06696055084466934, 0.05731823295354843, 0.06642486900091171, 0.02571285143494606, 0.034283801913261414, 0.0358908548951149, 0.043390437960624695, 0.014629905112087727, 0.07314952462911606, 0.11703924089670181, 0.014629905112087727, 0.6876055598258972, 0.014629905112087727, 0.07314952462911606, 0.915562093257904, 0.26639100909233093, 0.24662652611732483, 0.054996855556964874, 0.13319550454616547, 0.06874606758356094, 0.0807766318321228, 0.042966295033693314, 0.03265438228845596, 0.04210696741938591, 0.03179505839943886, 0.1150929406285286, 0.1872178465127945, 0.28236132860183716, 0.09667807072401047, 0.06291747093200684, 0.05677918344736099, 0.06905576586723328, 0.05064089223742485, 0.0291568785905838, 0.04910632222890854, 0.26177123188972473, 0.17522644996643066, 0.05983342230319977, 0.08975013345479965, 0.11111921072006226, 0.049148883670568466, 0.06197033077478409, 0.049148883670568466, 0.10150312632322311, 0.040601249784231186, 0.08698113262653351, 0.34792453050613403, 0.13047170639038086, 0.06523585319519043, 0.021745283156633377, 0.34792453050613403, 0.27404141426086426, 0.09636621177196503, 0.009034332819283009, 0.08432044088840485, 0.06625176966190338, 0.1084119901061058, 0.10238910466432571, 0.03914877399802208, 0.19273242354393005, 0.024091552942991257, 0.08661678433418274, 0.18666252493858337, 0.18800541758537292, 0.07721651345491409, 0.09333126246929169, 0.10273153334856033, 0.037601083517074585, 0.13697537779808044, 0.02282923087477684, 0.06848768889904022, 0.9323325753211975, 0.08212998509407043, 0.18787233531475067, 0.1755528450012207, 0.04927799105644226, 0.16733984649181366, 0.12319497764110565, 0.09136960655450821, 0.04927799105644226, 0.02155912108719349, 0.05133124068379402, 0.14753533899784088, 0.7376766800880432, 0.18130794167518616, 0.5439238548278809, 0.9001855254173279, 0.032149482518434525, 0.017980149015784264, 0.9529479146003723, 0.8863310813903809], \"Term\": [\"\\n\", \"\\n\", \"\\n\", \"\\n\", \"\\n\", \"\\n\", \"\\n\", \"\\n\", \"\\n\", \"\\n\", \"\\n\\n\", \"\\n\\n\", \"\\n\\n\", \"\\n\\n\", \"\\n\\n\", \"\\n\\n\", \"\\n\\n\", \"\\n\\n\", \"\\n\\n\", \"\\n\\n\", \"1\", \"1\", \"1\", \"1\", \"1\", \"1\", \"1\", \"1\", \"1\", \"1\", \"15.00\", \"15.00\", \"2\", \"2\", \"2\", \"2\", \"2\", \"2\", \"2\", \"2\", \"2\", \"2\", \"2004\", \"4:30\", \"4:30\", \"4:30\", \"900\", \"900\", \"AYCE\", \"AYCE\", \"AYCE\", \"AYCE\", \"Air\", \"Air\", \"Air\", \"Air\", \"Air\", \"Amanda\", \"Amazon\", \"Amazon\", \"Amy\", \"Amy\", \"Amy\", \"Andrew\", \"Andrew\", \"Banana\", \"Banana\", \"Bella\", \"Bella\", \"Bella\", \"Bianco\", \"Blueberry\", \"Bob\", \"Bob\", \"Bourbon\", \"Brian\", \"Brian\", \"Brian\", \"Brian\", \"Brian\", \"Brian\", \"Calamari\", \"Calamari\", \"Carl\", \"Charlie\", \"Charlie\", \"Charlie\", \"Cirque\", \"Classic\", \"Classic\", \"Cole\", \"Cole\", \"Control\", \"DR\", \"Dallas\", \"Dallas\", \"Diner\", \"Diner\", \"Dr.\", \"Dr.\", \"Dr.\", \"Dr.\", \"Dr.\", \"Dr.\", \"Dr.\", \"Dr.\", \"Dr.\", \"Dr.\", \"Easter\", \"Easter\", \"Eddie\", \"Eddie\", \"Eddie\", \"Eye\", \"Eye\", \"Ford\", \"Ford\", \"Ford\", \"Ford\", \"Ford\", \"Gabe\", \"Gabe\", \"Gabe\", \"Gelato\", \"Group\", \"Group\", \"Group\", \"HH\", \"Harbor\", \"Heather\", \"Heaven\", \"Heaven\", \"Hibachi\", \"Hibachi\", \"ID\", \"ID\", \"IPA\", \"IPA\", \"IPA\", \"Island\", \"Island\", \"Island\", \"Island\", \"Island\", \"Island\", \"Island\", \"Island\", \"Italian\", \"Italian\", \"Italian\", \"Jerry\", \"Jessica\", \"Jessica\", \"Jessica\", \"Jimmy\", \"Jimmy\", \"Jones\", \"Kim\", \"Kim\", \"Kim\", \"Kim\", \"Kim\", \"L\", \"L\", \"LGO\", \"Lion\", \"Little\", \"Little\", \"Management\", \"Management\", \"Masala\", \"McDonalds\", \"McDonalds\", \"McDonalds\", \"Meat\", \"Meat\", \"Meat\", \"Mex\", \"Mex\", \"Michelle\", \"Michelle\", \"Michelle\", \"Mike\", \"Mike\", \"Mike\", \"Mike\", \"Mike\", \"Mongolian\", \"Ms.\", \"Ms.\", \"Ms.\", \"Museum\", \"Museum\", \"Nate\", \"Nate\", \"Nordstrom\", \"Nordstrom\", \"Nous\", \"Panda\", \"Patrick\", \"Patrick\", \"Patrick\", \"Paul\", \"Paul\", \"Paul\", \"Paul\", \"Paul\", \"Paul\", \"Pecan\", \"Pet\", \"Pet\", \"Plumbing\", \"Plumbing\", \"Prime\", \"Ramen\", \"Ramen\", \"Ramen\", \"Ramen\", \"Ramen\", \"Ramen\", \"Repair\", \"Repair\", \"Rick\", \"Rita\", \"Rita\", \"Robert\", \"Robert\", \"Robert\", \"Robert\", \"Robert\", \"Robert\", \"Roll\", \"Roll\", \"Roll\", \"Roll\", \"Room\", \"Room\", \"Room\", \"Room\", \"Room\", \"Room\", \"Roti\", \"SUV\", \"Salon\", \"Salon\", \"Salon\", \"Salon\", \"Salon\", \"Serrano\", \"Sharon\", \"Sinatra\", \"Sinatra\", \"Sky\", \"Sky\", \"Snooze\", \"Snooze\", \"Snooze\", \"Social\", \"Sophia\", \"Sophia\", \"Studio\", \"Studio\", \"Studio\", \"Surprise\", \"Sushi\", \"Sushi\", \"Sushi\", \"Sushi\", \"Sushi\", \"Sushi\", \"Tan\", \"Tan\", \"Tempura\", \"Tom\", \"Tom\", \"Tom\", \"Tom\", \"Tony\", \"Tony\", \"Tony\", \"Tony\", \"Tony\", \"Treasure\", \"Treasure\", \"Un\", \"Uptown\", \"Velvet\", \"Velvet\", \"Velvet\", \"Vision\", \"Wagyu\", \"Walmart\", \"Water\", \"XS\", \"XS\", \"XS\", \"Year\", \"acrylic\", \"acrylic\", \"admire\", \"admire\", \"admire\", \"alley\", \"amazing\", \"amazing\", \"amazing\", \"amazing\", \"amazing\", \"amazing\", \"amazing\", \"amazing\", \"amazing\", \"amazing\", \"amusement\", \"angle\", \"annoyed\", \"annoyed\", \"annoyed\", \"annoyed\", \"anybody\", \"anybody\", \"anybody\", \"anybody\", \"anybody\", \"appetite\", \"application\", \"application\", \"application\", \"appointment\", \"appointment\", \"appointment\", \"appointment\", \"appointment\", \"appointment\", \"appointment\", \"appointment\", \"appointment\", \"appointment\", \"area\", \"area\", \"area\", \"area\", \"area\", \"area\", \"area\", \"area\", \"area\", \"area\", \"arepa\", \"arepa\", \"artist\", \"artist\", \"artist\", \"artist\", \"artist\", \"asada\", \"asada\", \"asada\", \"ashamed\", \"ask\", \"ask\", \"ask\", \"ask\", \"ask\", \"ask\", \"ask\", \"ask\", \"ask\", \"ask\", \"attitude\", \"attitude\", \"attitude\", \"attitude\", \"attitude\", \"attitude\", \"attitude\", \"attitude\", \"attitude\", \"attitude\", \"aunt\", \"authority\", \"avec\", \"awesome\", \"awesome\", \"awesome\", \"awesome\", \"awesome\", \"awesome\", \"awesome\", \"awesome\", \"awesome\", \"awesome\", \"bad\", \"bad\", \"bad\", \"bad\", \"bad\", \"bad\", \"bad\", \"bad\", \"bad\", \"bad\", \"bagel\", \"bagel\", \"bagel\", \"bagel\", \"bagel\", \"bagel\", \"bagel\", \"bagel\", \"baker\", \"balloon\", \"balloon\", \"balloon\", \"bar\", \"bar\", \"bar\", \"bar\", \"bar\", \"bar\", \"bar\", \"bar\", \"bar\", \"bar\", \"barber\", \"barber\", \"barber\", \"barber\", \"barrier\", \"bartender\", \"bartender\", \"bartender\", \"bartender\", \"bartender\", \"bartender\", \"bartender\", \"bartender\", \"bartender\", \"bartender\", \"basil\", \"basil\", \"basil\", \"basil\", \"bed\", \"bed\", \"bed\", \"bed\", \"bed\", \"bed\", \"bed\", \"bed\", \"bed\", \"beef\", \"beef\", \"beef\", \"beef\", \"beef\", \"beef\", \"beef\", \"beef\", \"beef\", \"beef\", \"beer\", \"beer\", \"beer\", \"beer\", \"beer\", \"beer\", \"beer\", \"beer\", \"beer\", \"beer\", \"bike\", \"bike\", \"bike\", \"bike\", \"bike\", \"bike\", \"bike\", \"bin\", \"bin\", \"bin\", \"biryani\", \"bit\", \"bit\", \"bit\", \"bit\", \"bit\", \"bit\", \"bit\", \"bit\", \"bit\", \"bit\", \"bleh\", \"bleh\", \"boba\", \"boba\", \"boba\", \"boba\", \"boba\", \"boba\", \"boom\", \"bouncer\", \"bouncer\", \"bouncer\", \"bout\", \"bowling\", \"bowling\", \"bowling\", \"bra\", \"bra\", \"bra\", \"bread\", \"bread\", \"bread\", \"bread\", \"bread\", \"bread\", \"bread\", \"bread\", \"bread\", \"bread\", \"brisket\", \"brisket\", \"brisket\", \"brisket\", \"brisket\", \"brisket\", \"brisket\", \"brisket\", \"broth\", \"broth\", \"broth\", \"broth\", \"broth\", \"broth\", \"broth\", \"broth\", \"brow\", \"bruise\", \"bruise\", \"buffet\", \"buffet\", \"buffet\", \"buffet\", \"buffet\", \"buffet\", \"buffet\", \"buffet\", \"buffet\", \"buffet\", \"burger\", \"burger\", \"burger\", \"burger\", \"burger\", \"burger\", \"burger\", \"burger\", \"burger\", \"burger\", \"burst\", \"buy\", \"buy\", \"buy\", \"buy\", \"buy\", \"buy\", \"buy\", \"buy\", \"buy\", \"buy\", \"buying\", \"buying\", \"cabinet\", \"cabinet\", \"cabinet\", \"call\", \"call\", \"call\", \"call\", \"call\", \"call\", \"call\", \"call\", \"call\", \"call\", \"calorie\", \"calorie\", \"calorie\", \"calorie\", \"canadian\", \"canadian\", \"cancer\", \"cannoli\", \"cannoli\", \"car\", \"car\", \"car\", \"car\", \"car\", \"car\", \"car\", \"car\", \"car\", \"car\", \"carb\", \"carb\", \"care\", \"care\", \"care\", \"care\", \"care\", \"care\", \"care\", \"care\", \"care\", \"care\", \"carne\", \"carne\", \"carne\", \"carne\", \"carne\", \"carpet\", \"carpet\", \"carpet\", \"carpet\", \"carpet\", \"carpet\", \"carpet\", \"carpet\", \"casino\", \"casino\", \"casino\", \"casino\", \"casino\", \"casino\", \"casino\", \"casino\", \"casino\", \"casino\", \"cat\", \"cat\", \"cat\", \"cat\", \"cat\", \"cat\", \"cat\", \"ce\", \"celebrity\", \"chai\", \"chai\", \"charge\", \"charge\", \"charge\", \"charge\", \"charge\", \"charge\", \"charge\", \"charge\", \"charge\", \"charge\", \"check\", \"check\", \"check\", \"check\", \"check\", \"check\", \"check\", \"check\", \"check\", \"check\", \"cheese\", \"cheese\", \"cheese\", \"cheese\", \"cheese\", \"cheese\", \"cheese\", \"cheese\", \"cheese\", \"cheese\", \"chicken\", \"chicken\", \"chicken\", \"chicken\", \"chicken\", \"chicken\", \"chicken\", \"chicken\", \"chicken\", \"chicken\", \"chile\", \"chile\", \"chilly\", \"chilly\", \"chowder\", \"chowder\", \"chowder\", \"citizen\", \"citizen\", \"citizen\", \"class\", \"class\", \"class\", \"class\", \"class\", \"class\", \"class\", \"class\", \"class\", \"class\", \"clay\", \"clay\", \"clean\", \"clean\", \"clean\", \"clean\", \"clean\", \"clean\", \"clean\", \"clean\", \"clean\", \"clean\", \"clog\", \"clog\", \"clog\", \"clog\", \"clog\", \"clueless\", \"clueless\", \"clueless\", \"coat\", \"coat\", \"coat\", \"coat\", \"coat\", \"coat\", \"coat\", \"coffee\", \"coffee\", \"coffee\", \"coffee\", \"coffee\", \"coffee\", \"coffee\", \"coffee\", \"coffee\", \"coffee\", \"coin\", \"coin\", \"coin\", \"coke\", \"coke\", \"coke\", \"coke\", \"coke\", \"come\", \"come\", \"come\", \"come\", \"come\", \"come\", \"come\", \"come\", \"come\", \"come\", \"company\", \"company\", \"company\", \"company\", \"company\", \"company\", \"company\", \"company\", \"company\", \"company\", \"compassionate\", \"compel\", \"consignment\", \"console\", \"console\", \"consult\", \"consult\", \"consult\", \"contract\", \"contract\", \"contract\", \"contract\", \"contract\", \"contract\", \"cook\", \"cook\", \"cook\", \"cook\", \"cook\", \"cook\", \"cook\", \"cook\", \"cook\", \"cook\", \"cookie\", \"cookie\", \"cookie\", \"cookie\", \"cookie\", \"cookie\", \"cookie\", \"cookie\", \"cookie\", \"corned\", \"corned\", \"corned\", \"costumer\", \"countertop\", \"countertop\", \"cowboy\", \"cream\", \"cream\", \"cream\", \"cream\", \"cream\", \"cream\", \"cream\", \"cream\", \"cream\", \"cream\", \"credit\", \"credit\", \"credit\", \"credit\", \"credit\", \"credit\", \"credit\", \"credit\", \"credit\", \"crisp\", \"crisp\", \"crisp\", \"crisp\", \"crisp\", \"crisp\", \"cronut\", \"crouton\", \"crouton\", \"crouton\", \"crumble\", \"crumble\", \"crumble\", \"crust\", \"crust\", \"crust\", \"crust\", \"crust\", \"crust\", \"crust\", \"cucumber\", \"cucumber\", \"cucumber\", \"curl\", \"curl\", \"customer\", \"customer\", \"customer\", \"customer\", \"customer\", \"customer\", \"customer\", \"customer\", \"customer\", \"customer\", \"cut\", \"cut\", \"cut\", \"cut\", \"cut\", \"cut\", \"cut\", \"cut\", \"cut\", \"cut\", \"dans\", \"dans\", \"day\", \"day\", \"day\", \"day\", \"day\", \"day\", \"day\", \"day\", \"day\", \"day\", \"de\", \"de\", \"de\", \"de\", \"de\", \"de\", \"de\", \"de\", \"de\", \"deaf\", \"dealership\", \"dealership\", \"dealership\", \"dealership\", \"dealership\", \"definitely\", \"definitely\", \"definitely\", \"definitely\", \"definitely\", \"definitely\", \"definitely\", \"definitely\", \"definitely\", \"definitely\", \"deli\", \"deli\", \"deli\", \"deli\", \"deli\", \"delicious\", \"delicious\", \"delicious\", \"delicious\", \"delicious\", \"delicious\", \"delicious\", \"delicious\", \"delicious\", \"delicious\", \"dental\", \"dental\", \"dentist\", \"dentist\", \"dentist\", \"dentist\", \"des\", \"des\", \"dessert\", \"dessert\", \"dessert\", \"dessert\", \"dessert\", \"dessert\", \"dessert\", \"dessert\", \"dessert\", \"dessert\", \"difficulty\", \"dinning\", \"dinning\", \"disappoint\", \"disappoint\", \"disappoint\", \"disappoint\", \"disappoint\", \"disappoint\", \"disappoint\", \"disappoint\", \"disappoint\", \"disappoint\", \"dish\", \"dish\", \"dish\", \"dish\", \"dish\", \"dish\", \"dish\", \"dish\", \"dish\", \"dish\", \"disposal\", \"disposal\", \"disposal\", \"dispute\", \"doctor\", \"doctor\", \"doctor\", \"doctor\", \"doctor\", \"doctor\", \"doctor\", \"dog\", \"dog\", \"dog\", \"dog\", \"dog\", \"dog\", \"dog\", \"dog\", \"dog\", \"dog\", \"dome\", \"dominate\", \"don't\", \"don't\", \"don't\", \"don't\", \"donut\", \"donut\", \"donut\", \"donut\", \"donut\", \"donut\", \"donut\", \"dough\", \"dough\", \"dough\", \"dough\", \"dough\", \"doughy\", \"drawback\", \"drawback\", \"dresser\", \"drink\", \"drink\", \"drink\", \"drink\", \"drink\", \"drink\", \"drink\", \"drink\", \"drink\", \"drink\", \"drywall\", \"dunno\", \"dynamic\", \"dynamic\", \"e.g.\", \"e.g.\", \"easy\", \"easy\", \"easy\", \"easy\", \"easy\", \"easy\", \"easy\", \"easy\", \"easy\", \"easy\", \"eat\", \"eat\", \"eat\", \"eat\", \"eat\", \"eat\", \"eat\", \"eat\", \"eat\", \"eat\", \"edamame\", \"egg\", \"egg\", \"egg\", \"egg\", \"egg\", \"egg\", \"egg\", \"egg\", \"egg\", \"egg\", \"elevator\", \"elevator\", \"elevator\", \"elevator\", \"elevator\", \"en\", \"en\", \"en\", \"en\", \"en\", \"enchilada\", \"enchilada\", \"enchilada\", \"enchilada\", \"enchilada\", \"enchilada\", \"enchilada\", \"encouraging\", \"enterprise\", \"escalator\", \"est\", \"est\", \"est\", \"et\", \"et\", \"et\", \"etiquette\", \"experience\", \"experience\", \"experience\", \"experience\", \"experience\", \"experience\", \"experience\", \"experience\", \"experience\", \"experience\", \"eyelash\", \"facebook\", \"facial\", \"facial\", \"facial\", \"facial\", \"faint\", \"false\", \"family\", \"family\", \"family\", \"family\", \"family\", \"family\", \"family\", \"family\", \"family\", \"family\", \"farmer\", \"favorite\", \"favorite\", \"favorite\", \"favorite\", \"favorite\", \"favorite\", \"favorite\", \"favorite\", \"favorite\", \"favorite\", \"feel\", \"feel\", \"feel\", \"feel\", \"feel\", \"feel\", \"feel\", \"feel\", \"feel\", \"feel\", \"fella\", \"fella\", \"find\", \"find\", \"find\", \"find\", \"find\", \"find\", \"find\", \"find\", \"find\", \"find\", \"fish\", \"fish\", \"fish\", \"fish\", \"fish\", \"fish\", \"fish\", \"fish\", \"fish\", \"fish\", \"fitness\", \"fitness\", \"fitness\", \"fix\", \"fix\", \"fix\", \"fix\", \"fix\", \"fix\", \"fix\", \"fix\", \"fix\", \"fix\", \"flair\", \"flair\", \"flair\", \"flan\", \"flavor\", \"flavor\", \"flavor\", \"flavor\", \"flavor\", \"flavor\", \"flavor\", \"flavor\", \"flavor\", \"flavor\", \"flush\", \"flush\", \"flush\", \"food\", \"food\", \"food\", \"food\", \"food\", \"food\", \"food\", \"food\", \"food\", \"food\", \"free\", \"free\", \"free\", \"free\", \"free\", \"free\", \"free\", \"free\", \"free\", \"free\", \"fresh\", \"fresh\", \"fresh\", \"fresh\", \"fresh\", \"fresh\", \"fresh\", \"fresh\", \"fresh\", \"fresh\", \"friend\", \"friend\", \"friend\", \"friend\", \"friend\", \"friend\", \"friend\", \"friend\", \"friend\", \"friend\", \"friendly\", \"friendly\", \"friendly\", \"friendly\", \"friendly\", \"friendly\", \"friendly\", \"friendly\", \"friendly\", \"friendly\", \"fry\", \"fry\", \"fry\", \"fry\", \"fry\", \"fry\", \"fry\", \"fry\", \"fry\", \"fry\", \"full\", \"full\", \"fun\", \"fun\", \"fun\", \"fun\", \"fun\", \"fun\", \"fun\", \"fun\", \"fun\", \"fun\", \"game\", \"game\", \"game\", \"game\", \"game\", \"game\", \"game\", \"game\", \"game\", \"game\", \"gap\", \"gap\", \"garage\", \"garage\", \"garage\", \"garage\", \"garage\", \"garage\", \"garage\", \"garage\", \"gel\", \"gel\", \"gel\", \"gel\", \"gel\", \"gel\", \"gel\", \"get\", \"get\", \"get\", \"get\", \"get\", \"get\", \"get\", \"get\", \"get\", \"get\", \"give\", \"give\", \"give\", \"give\", \"give\", \"give\", \"give\", \"give\", \"give\", \"give\", \"glitch\", \"glitch\", \"go\", \"go\", \"go\", \"go\", \"go\", \"go\", \"go\", \"go\", \"go\", \"go\", \"goal\", \"goal\", \"goal\", \"goal\", \"good\", \"good\", \"good\", \"good\", \"good\", \"good\", \"good\", \"good\", \"good\", \"good\", \"graduate\", \"grainy\", \"great\", \"great\", \"great\", \"great\", \"great\", \"great\", \"great\", \"great\", \"great\", \"great\", \"grooming\", \"gumbo\", \"guy\", \"guy\", \"guy\", \"guy\", \"guy\", \"guy\", \"guy\", \"guy\", \"guy\", \"guy\", \"gym\", \"gym\", \"gym\", \"gym\", \"gym\", \"gym\", \"gym\", \"gym\", \"gyro\", \"gyro\", \"gyro\", \"gyro\", \"hair\", \"hair\", \"hair\", \"hair\", \"hair\", \"hair\", \"hair\", \"hair\", \"hair\", \"hair\", \"hallway\", \"hallway\", \"hallway\", \"happy\", \"happy\", \"happy\", \"happy\", \"happy\", \"happy\", \"happy\", \"happy\", \"happy\", \"happy\", \"hash\", \"hash\", \"hash\", \"hash\", \"hash\", \"hash\", \"hawaiian\", \"hide\", \"hide\", \"hide\", \"hide\", \"hide\", \"highly\", \"highly\", \"highly\", \"highly\", \"highly\", \"highly\", \"highly\", \"highly\", \"highly\", \"highly\", \"hiking\", \"hiking\", \"hoagie\", \"hoagie\", \"hobby\", \"hobby\", \"hobby\", \"hollandaise\", \"hollandaise\", \"home\", \"home\", \"home\", \"home\", \"home\", \"home\", \"home\", \"home\", \"home\", \"home\", \"homeless\", \"homeless\", \"honest\", \"honest\", \"honest\", \"honest\", \"honest\", \"honest\", \"honest\", \"honest\", \"honest\", \"honest\", \"horrible\", \"horrible\", \"horrible\", \"horrible\", \"horrible\", \"horrible\", \"horrible\", \"horrible\", \"horrible\", \"horrible\", \"horrid\", \"horrific\", \"hotel\", \"hotel\", \"hotel\", \"hotel\", \"hotel\", \"hotel\", \"hotel\", \"hotel\", \"hotel\", \"hotel\", \"hour\", \"hour\", \"hour\", \"hour\", \"hour\", \"hour\", \"hour\", \"hour\", \"hour\", \"hour\", \"hrs\", \"hrs\", \"hrs\", \"hrs\", \"huevos\", \"humor\", \"hush\", \"ice\", \"ice\", \"ice\", \"ice\", \"ice\", \"ice\", \"ice\", \"ice\", \"ice\", \"ice\", \"ignore\", \"ignore\", \"ignore\", \"ignore\", \"ignore\", \"instal\", \"instal\", \"instal\", \"instal\", \"instal\", \"instal\", \"instal\", \"instal\", \"instal\", \"install\", \"install\", \"install\", \"install\", \"install\", \"install\", \"instructor\", \"instructor\", \"instructor\", \"instructor\", \"instructor\", \"instructor\", \"insurance\", \"insurance\", \"insurance\", \"insurance\", \"insurance\", \"insurance\", \"insurance\", \"intimidating\", \"intimidating\", \"j'ai\", \"japanese\", \"japanese\", \"japanese\", \"japanese\", \"japanese\", \"japanese\", \"japanese\", \"japanese\", \"je\", \"job\", \"job\", \"job\", \"job\", \"job\", \"job\", \"job\", \"job\", \"job\", \"job\", \"kiosk\", \"kiosk\", \"knife\", \"knife\", \"know\", \"know\", \"know\", \"know\", \"know\", \"know\", \"know\", \"know\", \"know\", \"know\", \"korean\", \"korean\", \"korean\", \"lane\", \"lane\", \"lash\", \"lash\", \"lash\", \"lash\", \"launch\", \"launch\", \"layover\", \"layover\", \"layover\", \"le\", \"le\", \"leave\", \"leave\", \"leave\", \"leave\", \"leave\", \"leave\", \"leave\", \"leave\", \"leave\", \"leave\", \"lebanese\", \"les\", \"les\", \"library\", \"library\", \"lifetime\", \"lifetime\", \"like\", \"like\", \"like\", \"like\", \"like\", \"like\", \"like\", \"like\", \"like\", \"like\", \"lineup\", \"lineup\", \"lite\", \"liter\", \"liter\", \"little\", \"little\", \"little\", \"little\", \"little\", \"little\", \"little\", \"little\", \"little\", \"little\", \"live\", \"live\", \"live\", \"live\", \"live\", \"live\", \"live\", \"live\", \"live\", \"live\", \"local\", \"local\", \"local\", \"local\", \"local\", \"local\", \"local\", \"local\", \"local\", \"local\", \"locate\", \"locate\", \"locate\", \"locate\", \"locate\", \"locate\", \"locate\", \"locate\", \"locate\", \"locate\", \"location\", \"location\", \"location\", \"location\", \"location\", \"location\", \"location\", \"location\", \"location\", \"location\", \"look\", \"look\", \"look\", \"look\", \"look\", \"look\", \"look\", \"look\", \"look\", \"look\", \"lot\", \"lot\", \"lot\", \"lot\", \"lot\", \"lot\", \"lot\", \"lot\", \"lot\", \"lot\", \"love\", \"love\", \"love\", \"love\", \"love\", \"love\", \"love\", \"love\", \"love\", \"love\", \"luke\", \"luke\", \"lunch\", \"lunch\", \"lunch\", \"lunch\", \"lunch\", \"lunch\", \"lunch\", \"lunch\", \"lunch\", \"lunch\", \"macaroni\", \"macaroni\", \"mais\", \"mais\", \"manager\", \"manager\", \"manager\", \"manager\", \"manager\", \"manager\", \"manager\", \"manager\", \"manager\", \"manager\", \"mango\", \"mango\", \"mango\", \"mango\", \"mango\", \"mani\", \"mani\", \"mani\", \"mani\", \"manicurist\", \"manicurist\", \"market\", \"market\", \"market\", \"market\", \"market\", \"market\", \"market\", \"market\", \"market\", \"marvelous\", \"marvelous\", \"mate\", \"mate\", \"mattress\", \"mattress\", \"meal\", \"meal\", \"meal\", \"meal\", \"meal\", \"meal\", \"meal\", \"meal\", \"meal\", \"meal\", \"measurement\", \"measurement\", \"meat\", \"meat\", \"meat\", \"meat\", \"meat\", \"meat\", \"meat\", \"meat\", \"meat\", \"meat\", \"medical\", \"medical\", \"medical\", \"medical\", \"medical\", \"medical\", \"mein\", \"menu\", \"menu\", \"menu\", \"menu\", \"menu\", \"menu\", \"menu\", \"menu\", \"menu\", \"menu\", \"metered\", \"method\", \"mexican\", \"mexican\", \"mexican\", \"mexican\", \"mexican\", \"mexican\", \"mexican\", \"mexican\", \"minute\", \"minute\", \"minute\", \"minute\", \"minute\", \"minute\", \"minute\", \"minute\", \"minute\", \"minute\", \"mister\", \"mochi\", \"mole\", \"mole\", \"mole\", \"money\", \"money\", \"money\", \"money\", \"money\", \"money\", \"money\", \"money\", \"money\", \"money\", \"mongolian\", \"mongolian\", \"motivate\", \"motivate\", \"movie\", \"movie\", \"movie\", \"movie\", \"movie\", \"movie\", \"movie\", \"movie\", \"music\", \"music\", \"music\", \"music\", \"music\", \"music\", \"music\", \"music\", \"music\", \"music\", \"naan\", \"naan\", \"nail\", \"nail\", \"nail\", \"nail\", \"nail\", \"nail\", \"nail\", \"nail\", \"nail\", \"need\", \"need\", \"need\", \"need\", \"need\", \"need\", \"need\", \"need\", \"need\", \"need\", \"neighborhood\", \"neighborhood\", \"neighborhood\", \"neighborhood\", \"neighborhood\", \"neighborhood\", \"neighborhood\", \"neighborhood\", \"neighborhood\", \"neighborhood\", \"neighbour\", \"nerd\", \"nerd\", \"new\", \"new\", \"new\", \"new\", \"new\", \"new\", \"new\", \"new\", \"new\", \"new\", \"nice\", \"nice\", \"nice\", \"nice\", \"nice\", \"nice\", \"nice\", \"nice\", \"nice\", \"nice\", \"nigiri\", \"nigiri\", \"noise\", \"noise\", \"noise\", \"noise\", \"noise\", \"noise\", \"noodle\", \"noodle\", \"noodle\", \"noodle\", \"noodle\", \"noodle\", \"noodle\", \"noodle\", \"noodle\", \"office\", \"office\", \"office\", \"office\", \"office\", \"office\", \"office\", \"office\", \"office\", \"office\", \"order\", \"order\", \"order\", \"order\", \"order\", \"order\", \"order\", \"order\", \"order\", \"order\", \"ou\", \"oven\", \"oven\", \"oven\", \"oven\", \"oven\", \"paella\", \"paint\", \"paint\", \"paint\", \"paint\", \"paint\", \"paint\", \"paint\", \"paint\", \"paneer\", \"park\", \"park\", \"park\", \"park\", \"park\", \"park\", \"park\", \"park\", \"park\", \"park\", \"parking\", \"parking\", \"parking\", \"parking\", \"parking\", \"parking\", \"parking\", \"parking\", \"parking\", \"parking\", \"parm\", \"parm\", \"parm\", \"pas\", \"pas\", \"pasta\", \"pasta\", \"pasta\", \"pasta\", \"pasta\", \"pasta\", \"pasta\", \"pasta\", \"patient\", \"patient\", \"patient\", \"patient\", \"patient\", \"patient\", \"patient\", \"patient\", \"patient\", \"pedicure\", \"pedicure\", \"pedicure\", \"pedicure\", \"pedicure\", \"pedicure\", \"pedis\", \"people\", \"people\", \"people\", \"people\", \"people\", \"people\", \"people\", \"people\", \"people\", \"people\", \"pepperoni\", \"pepperoni\", \"pepperoni\", \"pepperoni\", \"pepperoni\", \"peppery\", \"perspective\", \"perspective\", \"pho\", \"pho\", \"pho\", \"pho\", \"pho\", \"pho\", \"phone\", \"phone\", \"phone\", \"phone\", \"phone\", \"phone\", \"phone\", \"phone\", \"phone\", \"pilot\", \"pizza\", \"pizza\", \"pizza\", \"pizza\", \"pizza\", \"pizza\", \"pizza\", \"pizza\", \"pizza\", \"pizza\", \"place\", \"place\", \"place\", \"place\", \"place\", \"place\", \"place\", \"place\", \"place\", \"place\", \"plate\", \"plate\", \"plate\", \"plate\", \"plate\", \"plate\", \"plate\", \"plate\", \"plate\", \"plate\", \"plumber\", \"plumber\", \"plumber\", \"poisoning\", \"poker\", \"poker\", \"poker\", \"polish\", \"polish\", \"polish\", \"polish\", \"polish\", \"polish\", \"polish\", \"polish\", \"pool\", \"pool\", \"pool\", \"pool\", \"pool\", \"pool\", \"pool\", \"pool\", \"pool\", \"pool\", \"popcorn\", \"popcorn\", \"popcorn\", \"popcorn\", \"portion\", \"portion\", \"portion\", \"portion\", \"portion\", \"portion\", \"portion\", \"portion\", \"portion\", \"portion\", \"potato\", \"potato\", \"potato\", \"potato\", \"potato\", \"potato\", \"potato\", \"potato\", \"potato\", \"potato\", \"pregnancy\", \"pregnancy\", \"price\", \"price\", \"price\", \"price\", \"price\", \"price\", \"price\", \"price\", \"price\", \"price\", \"procedure\", \"procedure\", \"procedure\", \"procedure\", \"professional\", \"professional\", \"professional\", \"professional\", \"professional\", \"professional\", \"professional\", \"professional\", \"professional\", \"professional\", \"prone\", \"prone\", \"protein\", \"protein\", \"protein\", \"protein\", \"protein\", \"puck\", \"purse\", \"purse\", \"purse\", \"quality\", \"quality\", \"quality\", \"quality\", \"quality\", \"quality\", \"quality\", \"quality\", \"quality\", \"quality\", \"queso\", \"queso\", \"queso\", \"queso\", \"queso\", \"queso\", \"qui\", \"quote\", \"quote\", \"quote\", \"quote\", \"quote\", \"quote\", \"quote\", \"quote\", \"quote\", \"ramen\", \"ramen\", \"ramen\", \"ramen\", \"ramen\", \"ramen\", \"ramen\", \"ramen\", \"recline\", \"recomend\", \"recommend\", \"recommend\", \"recommend\", \"recommend\", \"recommend\", \"recommend\", \"recommend\", \"recommend\", \"recommend\", \"recommend\", \"reflexology\", \"refund\", \"refund\", \"refund\", \"refund\", \"refund\", \"refund\", \"refund\", \"reimburse\", \"reimburse\", \"relaxation\", \"relaxing\", \"relaxing\", \"relaxing\", \"relaxing\", \"relaxing\", \"renew\", \"renew\", \"reschedule\", \"reschedule\", \"reschedule\", \"respective\", \"response\", \"response\", \"response\", \"response\", \"response\", \"response\", \"response\", \"response\", \"restaurant\", \"restaurant\", \"restaurant\", \"restaurant\", \"restaurant\", \"restaurant\", \"restaurant\", \"restaurant\", \"restaurant\", \"restaurant\", \"review\", \"review\", \"review\", \"review\", \"review\", \"review\", \"review\", \"review\", \"review\", \"review\", \"rib\", \"rib\", \"rib\", \"rib\", \"rib\", \"rib\", \"rib\", \"rib\", \"rib\", \"rice\", \"rice\", \"rice\", \"rice\", \"rice\", \"rice\", \"rice\", \"rice\", \"rice\", \"rice\", \"risotto\", \"risotto\", \"risotto\", \"ritual\", \"roll\", \"roll\", \"roll\", \"roll\", \"roll\", \"roll\", \"roll\", \"roll\", \"roll\", \"roll\", \"room\", \"room\", \"room\", \"room\", \"room\", \"room\", \"room\", \"room\", \"room\", \"room\", \"rubbery\", \"rubbery\", \"rubbery\", \"rubbery\", \"rude\", \"rude\", \"rude\", \"rude\", \"rude\", \"rude\", \"rude\", \"rude\", \"rude\", \"rude\", \"running\", \"salad\", \"salad\", \"salad\", \"salad\", \"salad\", \"salad\", \"salad\", \"salad\", \"salad\", \"salad\", \"salesman\", \"salesman\", \"salesman\", \"salesman\", \"salesman\", \"salesperson\", \"salesperson\", \"salesperson\", \"salmon\", \"salmon\", \"salmon\", \"salmon\", \"salmon\", \"salmon\", \"salmon\", \"salmon\", \"salmon\", \"salon\", \"salon\", \"salon\", \"salon\", \"salon\", \"salon\", \"salon\", \"salon\", \"salon\", \"sandwich\", \"sandwich\", \"sandwich\", \"sandwich\", \"sandwich\", \"sandwich\", \"sandwich\", \"sandwich\", \"sandwich\", \"sandwich\", \"sashimi\", \"sashimi\", \"sashimi\", \"sashimi\", \"sauce\", \"sauce\", \"sauce\", \"sauce\", \"sauce\", \"sauce\", \"sauce\", \"sauce\", \"sauce\", \"sauce\", \"sausage\", \"sausage\", \"sausage\", \"sausage\", \"sausage\", \"sausage\", \"sausage\", \"sausage\", \"sausage\", \"say\", \"say\", \"say\", \"say\", \"say\", \"say\", \"say\", \"say\", \"say\", \"say\", \"scar\", \"schedule\", \"schedule\", \"schedule\", \"schedule\", \"schedule\", \"schedule\", \"schedule\", \"schedule\", \"schedule\", \"schedule\", \"seafood\", \"seafood\", \"seafood\", \"seafood\", \"seafood\", \"seafood\", \"seafood\", \"seaweed\", \"seaweed\", \"server\", \"server\", \"server\", \"server\", \"server\", \"server\", \"server\", \"server\", \"server\", \"server\", \"service\", \"service\", \"service\", \"service\", \"service\", \"service\", \"service\", \"service\", \"service\", \"service\", \"session\", \"session\", \"session\", \"session\", \"session\", \"session\", \"shatter\", \"sheet\", \"sheet\", \"sheet\", \"sheet\", \"sheet\", \"sheet\", \"shower\", \"shower\", \"shower\", \"shower\", \"shower\", \"shower\", \"shower\", \"shut\", \"shut\", \"sincere\", \"sincere\", \"sit\", \"sit\", \"sit\", \"sit\", \"sit\", \"sit\", \"sit\", \"sit\", \"sit\", \"sit\", \"skewer\", \"skewer\", \"skimpy\", \"skimpy\", \"skimpy\", \"slice\", \"slice\", \"slice\", \"slice\", \"slice\", \"slice\", \"slice\", \"slice\", \"slice\", \"slice\", \"sloppy\", \"sloppy\", \"sloppy\", \"sloppy\", \"sloppy\", \"sloppy\", \"snobby\", \"snobby\", \"sont\", \"sophisticated\", \"sophisticated\", \"sophisticated\", \"sophisticated\", \"soup\", \"soup\", \"soup\", \"soup\", \"soup\", \"soup\", \"soup\", \"soup\", \"soup\", \"soup\", \"source\", \"source\", \"source\", \"source\", \"source\", \"source\", \"space\", \"space\", \"space\", \"space\", \"space\", \"space\", \"space\", \"space\", \"space\", \"space\", \"special\", \"special\", \"special\", \"special\", \"special\", \"special\", \"special\", \"special\", \"special\", \"special\", \"speedy\", \"speedy\", \"spice\", \"spice\", \"spice\", \"spice\", \"spice\", \"spice\", \"spice\", \"spiciness\", \"spicy\", \"spicy\", \"spicy\", \"spicy\", \"spicy\", \"spicy\", \"spicy\", \"spicy\", \"spicy\", \"spotty\", \"stadium\", \"staff\", \"staff\", \"staff\", \"staff\", \"staff\", \"staff\", \"staff\", \"staff\", \"staff\", \"staff\", \"star\", \"star\", \"star\", \"star\", \"star\", \"star\", \"star\", \"star\", \"star\", \"star\", \"starbucks\", \"stay\", \"stay\", \"stay\", \"stay\", \"stay\", \"stay\", \"stay\", \"stay\", \"stay\", \"stay\", \"steak\", \"steak\", \"steak\", \"steak\", \"steak\", \"steak\", \"steak\", \"steak\", \"steak\", \"steak\", \"stench\", \"stop\", \"stop\", \"stop\", \"stop\", \"stop\", \"stop\", \"stop\", \"stop\", \"stop\", \"stop\", \"store\", \"store\", \"store\", \"store\", \"store\", \"store\", \"store\", \"store\", \"store\", \"store\", \"structure\", \"subway\", \"sur\", \"sushi\", \"sushi\", \"sushi\", \"sushi\", \"sushi\", \"sushi\", \"sushi\", \"sushi\", \"sushi\", \"sushi\", \"suspiciously\", \"table\", \"table\", \"table\", \"table\", \"table\", \"table\", \"table\", \"table\", \"table\", \"table\", \"taco\", \"taco\", \"taco\", \"taco\", \"taco\", \"taco\", \"taco\", \"taco\", \"taco\", \"taco\", \"taiwanese\", \"taiwanese\", \"taiwanese\", \"taiwanese\", \"take\", \"take\", \"take\", \"take\", \"take\", \"take\", \"take\", \"take\", \"take\", \"take\", \"talk\", \"talk\", \"talk\", \"talk\", \"talk\", \"talk\", \"talk\", \"talk\", \"talk\", \"talk\", \"tamale\", \"tamale\", \"tamale\", \"tamale\", \"tan\", \"tan\", \"tan\", \"tan\", \"taro\", \"tartare\", \"tartare\", \"taste\", \"taste\", \"taste\", \"taste\", \"taste\", \"taste\", \"taste\", \"taste\", \"taste\", \"taste\", \"teacher\", \"team\", \"team\", \"team\", \"team\", \"team\", \"team\", \"team\", \"team\", \"team\", \"team\", \"tech\", \"tech\", \"tech\", \"tech\", \"tech\", \"tech\", \"tech\", \"technician\", \"technician\", \"technician\", \"technician\", \"technician\", \"technician\", \"tee\", \"tee\", \"tee\", \"tell\", \"tell\", \"tell\", \"tell\", \"tell\", \"tell\", \"tell\", \"tell\", \"tell\", \"tell\", \"tempura\", \"tempura\", \"tempura\", \"tender\", \"tender\", \"tender\", \"tender\", \"tender\", \"tender\", \"tender\", \"tender\", \"thank\", \"thank\", \"thank\", \"thank\", \"thank\", \"thank\", \"thank\", \"thank\", \"thank\", \"thank\", \"thanksgiving\", \"theater\", \"theater\", \"theater\", \"theater\", \"theater\", \"theater\", \"theft\", \"think\", \"think\", \"think\", \"think\", \"think\", \"think\", \"think\", \"think\", \"think\", \"think\", \"threading\", \"time\", \"time\", \"time\", \"time\", \"time\", \"time\", \"time\", \"time\", \"time\", \"time\", \"tint\", \"tint\", \"tint\", \"tire\", \"tire\", \"tire\", \"tire\", \"tire\", \"tire\", \"tire\", \"tire\", \"tire\", \"tissue\", \"toast\", \"toast\", \"toast\", \"toast\", \"toast\", \"toast\", \"toast\", \"toast\", \"toast\", \"toast\", \"tomato\", \"tomato\", \"tomato\", \"tomato\", \"tomato\", \"tomato\", \"tomato\", \"tomato\", \"tomato\", \"tomato\", \"tostada\", \"tostada\", \"tostada\", \"trail\", \"trail\", \"transform\", \"tree\", \"tree\", \"tree\", \"tree\", \"tree\", \"tree\", \"tree\", \"trimming\", \"trimming\", \"tripe\", \"tripe\", \"trout\", \"trout\", \"truck\", \"truck\", \"truck\", \"truck\", \"truck\", \"truck\", \"truck\", \"truck\", \"truck\", \"truck\", \"try\", \"try\", \"try\", \"try\", \"try\", \"try\", \"try\", \"try\", \"try\", \"try\", \"tr\\u00e8s\", \"tuna\", \"tuna\", \"tuna\", \"tuna\", \"tuna\", \"tuna\", \"ultra\", \"ultra\", \"ultra\", \"un\", \"un\", \"un\", \"un\", \"unassuming\", \"unbeatable\", \"underground\", \"underground\", \"une\", \"uni\", \"upsell\", \"upsell\", \"uptown\", \"uptown\", \"urgent\", \"vacuum\", \"vacuum\", \"vegan\", \"vegan\", \"vegan\", \"vegan\", \"vegetarian\", \"vegetarian\", \"vegetarian\", \"vegetarian\", \"vegetarian\", \"vegetarian\", \"vegetarian\", \"vegetarian\", \"vendor\", \"vendor\", \"vendor\", \"vendor\", \"vermicelli\", \"vet\", \"vet\", \"vet\", \"vet\", \"vet\", \"vet\", \"vietnamese\", \"vietnamese\", \"vietnamese\", \"village\", \"vinegar\", \"vinegar\", \"vomit\", \"vous\", \"wait\", \"wait\", \"wait\", \"wait\", \"wait\", \"wait\", \"wait\", \"wait\", \"wait\", \"wait\", \"waiter\", \"waiter\", \"waiter\", \"waiter\", \"waiter\", \"waiter\", \"waiter\", \"waiter\", \"waiter\", \"waiter\", \"walk\", \"walk\", \"walk\", \"walk\", \"walk\", \"walk\", \"walk\", \"walk\", \"walk\", \"walk\", \"want\", \"want\", \"want\", \"want\", \"want\", \"want\", \"want\", \"want\", \"want\", \"want\", \"warranty\", \"warranty\", \"warranty\", \"warranty\", \"warranty\", \"warranty\", \"warranty\", \"wasabi\", \"way\", \"way\", \"way\", \"way\", \"way\", \"way\", \"way\", \"way\", \"way\", \"way\", \"week\", \"week\", \"week\", \"week\", \"week\", \"week\", \"week\", \"week\", \"week\", \"week\", \"well\", \"well\", \"well\", \"well\", \"well\", \"well\", \"well\", \"well\", \"well\", \"well\", \"wheel\", \"wheel\", \"wheel\", \"wheel\", \"wheel\", \"wheel\", \"wife\", \"wife\", \"wife\", \"wife\", \"wife\", \"wife\", \"wife\", \"wife\", \"wife\", \"wife\", \"work\", \"work\", \"work\", \"work\", \"work\", \"work\", \"work\", \"work\", \"work\", \"work\", \"worst\", \"year\", \"year\", \"year\", \"year\", \"year\", \"year\", \"year\", \"year\", \"year\", \"year\", \"zip\", \"zip\", \"zombie\", \"zombie\", \"zucchini\", \"zucchini\", \"\\u00e0\", \"\\u00e0\", \"\\u00e9tait\"]}, \"R\": 30, \"lambda.step\": 0.01, \"plot.opts\": {\"xlab\": \"PC1\", \"ylab\": \"PC2\"}, \"topic.order\": [7, 1, 4, 8, 10, 6, 5, 2, 9, 3]};\n",
       "\n",
       "function LDAvis_load_lib(url, callback){\n",
       "  var s = document.createElement('script');\n",
       "  s.src = url;\n",
       "  s.async = true;\n",
       "  s.onreadystatechange = s.onload = callback;\n",
       "  s.onerror = function(){console.warn(\"failed to load library \" + url);};\n",
       "  document.getElementsByTagName(\"head\")[0].appendChild(s);\n",
       "}\n",
       "\n",
       "if(typeof(LDAvis) !== \"undefined\"){\n",
       "   // already loaded: just create the visualization\n",
       "   !function(LDAvis){\n",
       "       new LDAvis(\"#\" + \"ldavis_el463267935226568309161369\", ldavis_el463267935226568309161369_data);\n",
       "   }(LDAvis);\n",
       "}else if(typeof define === \"function\" && define.amd){\n",
       "   // require.js is available: use it to load d3/LDAvis\n",
       "   require.config({paths: {d3: \"https://cdnjs.cloudflare.com/ajax/libs/d3/3.5.5/d3.min\"}});\n",
       "   require([\"d3\"], function(d3){\n",
       "      window.d3 = d3;\n",
       "      LDAvis_load_lib(\"https://cdn.rawgit.com/bmabey/pyLDAvis/files/ldavis.v1.0.0.js\", function(){\n",
       "        new LDAvis(\"#\" + \"ldavis_el463267935226568309161369\", ldavis_el463267935226568309161369_data);\n",
       "      });\n",
       "    });\n",
       "}else{\n",
       "    // require.js not available: dynamically load d3 & LDAvis\n",
       "    LDAvis_load_lib(\"https://cdnjs.cloudflare.com/ajax/libs/d3/3.5.5/d3.min.js\", function(){\n",
       "         LDAvis_load_lib(\"https://cdn.rawgit.com/bmabey/pyLDAvis/files/ldavis.v1.0.0.js\", function(){\n",
       "                 new LDAvis(\"#\" + \"ldavis_el463267935226568309161369\", ldavis_el463267935226568309161369_data);\n",
       "            })\n",
       "         });\n",
       "}\n",
       "</script>"
      ],
      "text/plain": [
       "PreparedData(topic_coordinates=              x         y  topics  cluster       Freq\n",
       "topic                                                \n",
       "6     -0.104201  0.000038       1        1  29.374794\n",
       "0      0.076599  0.012341       2        1  16.148041\n",
       "3      0.145852  0.049724       3        1   9.579683\n",
       "7     -0.054714  0.002987       4        1   9.543720\n",
       "9     -0.005770  0.007134       5        1   8.829446\n",
       "5      0.033112  0.006526       6        1   8.185733\n",
       "4     -0.056254 -0.011300       7        1   5.207271\n",
       "1      0.032471  0.017806       8        1   4.942710\n",
       "8     -0.107588  0.040295       9        1   4.889633\n",
       "2      0.040492 -0.125552      10        1   3.298967, topic_info=      Term         Freq        Total Category  logprob  loglift\n",
       "39    good  6208.000000  6208.000000  Default  30.0000  30.0000\n",
       "191  great  4213.000000  4213.000000  Default  29.0000  29.0000\n",
       "135   food  4923.000000  4923.000000  Default  28.0000  28.0000\n",
       "48    \\n\\n  8425.000000  8425.000000  Default  27.0000  27.0000\n",
       "120  place  5317.000000  5317.000000  Default  26.0000  26.0000\n",
       "..     ...          ...          ...      ...      ...      ...\n",
       "851    new    53.797306  1095.347534  Topic10  -5.6562   0.3980\n",
       "135   food    66.328773  4923.109863  Topic10  -5.4468  -0.8955\n",
       "551  drink    54.021412  1421.343994  Topic10  -5.6521   0.1416\n",
       "322   find    54.303223  1585.229004  Topic10  -5.6468   0.0377\n",
       "191  great    56.409554  4213.708496  Topic10  -5.6088  -0.9019\n",
       "\n",
       "[865 rows x 6 columns], token_table=      Topic      Freq      Term\n",
       "term                           \n",
       "293       1  0.290032        \\n\n",
       "293       2  0.243262        \\n\n",
       "293       3  0.056186        \\n\n",
       "293       4  0.173893        \\n\n",
       "293       5  0.090713        \\n\n",
       "...     ...       ...       ...\n",
       "1589      1  0.900186  zucchini\n",
       "1589      7  0.032149  zucchini\n",
       "2762      2  0.017980         à\n",
       "2762      3  0.952948         à\n",
       "6080      3  0.886331     était\n",
       "\n",
       "[3023 rows x 3 columns], R=30, lambda_step=0.01, plot_opts={'xlab': 'PC1', 'ylab': 'PC2'}, topic_order=[7, 1, 4, 8, 10, 6, 5, 2, 9, 3])"
      ]
     },
     "execution_count": 40,
     "metadata": {},
     "output_type": "execute_result"
    }
   ],
   "source": [
    "import pyLDAvis.gensim\n",
    "\n",
    "pyLDAvis.enable_notebook()\n",
    "\n",
    "pyLDAvis.gensim.prepare(model, corpus, id2word)"
   ]
  },
  {
   "cell_type": "code",
   "execution_count": 41,
   "metadata": {},
   "outputs": [
    {
     "data": {
      "text/html": [
       "<div>\n",
       "<style scoped>\n",
       "    .dataframe tbody tr th:only-of-type {\n",
       "        vertical-align: middle;\n",
       "    }\n",
       "\n",
       "    .dataframe tbody tr th {\n",
       "        vertical-align: top;\n",
       "    }\n",
       "\n",
       "    .dataframe thead th {\n",
       "        text-align: right;\n",
       "    }\n",
       "</style>\n",
       "<table border=\"1\" class=\"dataframe\">\n",
       "  <thead>\n",
       "    <tr style=\"text-align: right;\">\n",
       "      <th></th>\n",
       "      <th>0</th>\n",
       "      <th>1</th>\n",
       "      <th>2</th>\n",
       "      <th>3</th>\n",
       "      <th>4</th>\n",
       "      <th>5</th>\n",
       "      <th>6</th>\n",
       "      <th>7</th>\n",
       "      <th>8</th>\n",
       "      <th>9</th>\n",
       "      <th>10</th>\n",
       "      <th>11</th>\n",
       "      <th>12</th>\n",
       "      <th>13</th>\n",
       "      <th>14</th>\n",
       "      <th>15</th>\n",
       "      <th>16</th>\n",
       "      <th>17</th>\n",
       "      <th>18</th>\n",
       "      <th>19</th>\n",
       "    </tr>\n",
       "  </thead>\n",
       "  <tbody>\n",
       "    <tr>\n",
       "      <th>0</th>\n",
       "      <td>0.979975</td>\n",
       "      <td>0.0</td>\n",
       "      <td>0.0</td>\n",
       "      <td>0.000000</td>\n",
       "      <td>0.0</td>\n",
       "      <td>0.000000</td>\n",
       "      <td>0.000000</td>\n",
       "      <td>0.0</td>\n",
       "      <td>0.000000</td>\n",
       "      <td>0.000000</td>\n",
       "      <td>0</td>\n",
       "      <td>0</td>\n",
       "      <td>0</td>\n",
       "      <td>0</td>\n",
       "      <td>0</td>\n",
       "      <td>0</td>\n",
       "      <td>0</td>\n",
       "      <td>0</td>\n",
       "      <td>0</td>\n",
       "      <td>0</td>\n",
       "    </tr>\n",
       "    <tr>\n",
       "      <th>1</th>\n",
       "      <td>0.000000</td>\n",
       "      <td>0.0</td>\n",
       "      <td>0.0</td>\n",
       "      <td>0.000000</td>\n",
       "      <td>0.0</td>\n",
       "      <td>0.000000</td>\n",
       "      <td>0.000000</td>\n",
       "      <td>0.0</td>\n",
       "      <td>0.000000</td>\n",
       "      <td>0.930744</td>\n",
       "      <td>0</td>\n",
       "      <td>0</td>\n",
       "      <td>0</td>\n",
       "      <td>0</td>\n",
       "      <td>0</td>\n",
       "      <td>0</td>\n",
       "      <td>0</td>\n",
       "      <td>0</td>\n",
       "      <td>0</td>\n",
       "      <td>0</td>\n",
       "    </tr>\n",
       "    <tr>\n",
       "      <th>2</th>\n",
       "      <td>0.000000</td>\n",
       "      <td>0.0</td>\n",
       "      <td>0.0</td>\n",
       "      <td>0.531143</td>\n",
       "      <td>0.0</td>\n",
       "      <td>0.125876</td>\n",
       "      <td>0.000000</td>\n",
       "      <td>0.0</td>\n",
       "      <td>0.000000</td>\n",
       "      <td>0.334541</td>\n",
       "      <td>0</td>\n",
       "      <td>0</td>\n",
       "      <td>0</td>\n",
       "      <td>0</td>\n",
       "      <td>0</td>\n",
       "      <td>0</td>\n",
       "      <td>0</td>\n",
       "      <td>0</td>\n",
       "      <td>0</td>\n",
       "      <td>0</td>\n",
       "    </tr>\n",
       "    <tr>\n",
       "      <th>3</th>\n",
       "      <td>0.952595</td>\n",
       "      <td>0.0</td>\n",
       "      <td>0.0</td>\n",
       "      <td>0.000000</td>\n",
       "      <td>0.0</td>\n",
       "      <td>0.000000</td>\n",
       "      <td>0.000000</td>\n",
       "      <td>0.0</td>\n",
       "      <td>0.000000</td>\n",
       "      <td>0.000000</td>\n",
       "      <td>0</td>\n",
       "      <td>0</td>\n",
       "      <td>0</td>\n",
       "      <td>0</td>\n",
       "      <td>0</td>\n",
       "      <td>0</td>\n",
       "      <td>0</td>\n",
       "      <td>0</td>\n",
       "      <td>0</td>\n",
       "      <td>0</td>\n",
       "    </tr>\n",
       "    <tr>\n",
       "      <th>4</th>\n",
       "      <td>0.000000</td>\n",
       "      <td>0.0</td>\n",
       "      <td>0.0</td>\n",
       "      <td>0.000000</td>\n",
       "      <td>0.0</td>\n",
       "      <td>0.100456</td>\n",
       "      <td>0.777611</td>\n",
       "      <td>0.0</td>\n",
       "      <td>0.108195</td>\n",
       "      <td>0.000000</td>\n",
       "      <td>0</td>\n",
       "      <td>0</td>\n",
       "      <td>0</td>\n",
       "      <td>0</td>\n",
       "      <td>0</td>\n",
       "      <td>0</td>\n",
       "      <td>0</td>\n",
       "      <td>0</td>\n",
       "      <td>0</td>\n",
       "      <td>0</td>\n",
       "    </tr>\n",
       "  </tbody>\n",
       "</table>\n",
       "</div>"
      ],
      "text/plain": [
       "         0    1    2         3    4         5         6    7         8   \\\n",
       "0  0.979975  0.0  0.0  0.000000  0.0  0.000000  0.000000  0.0  0.000000   \n",
       "1  0.000000  0.0  0.0  0.000000  0.0  0.000000  0.000000  0.0  0.000000   \n",
       "2  0.000000  0.0  0.0  0.531143  0.0  0.125876  0.000000  0.0  0.000000   \n",
       "3  0.952595  0.0  0.0  0.000000  0.0  0.000000  0.000000  0.0  0.000000   \n",
       "4  0.000000  0.0  0.0  0.000000  0.0  0.100456  0.777611  0.0  0.108195   \n",
       "\n",
       "         9   10  11  12  13  14  15  16  17  18  19  \n",
       "0  0.000000   0   0   0   0   0   0   0   0   0   0  \n",
       "1  0.930744   0   0   0   0   0   0   0   0   0   0  \n",
       "2  0.334541   0   0   0   0   0   0   0   0   0   0  \n",
       "3  0.000000   0   0   0   0   0   0   0   0   0   0  \n",
       "4  0.000000   0   0   0   0   0   0   0   0   0   0  "
      ]
     },
     "execution_count": 41,
     "metadata": {},
     "output_type": "execute_result"
    }
   ],
   "source": [
    "topics = pd.DataFrame.from_records(new_distro)\n",
    "topics.head()\n"
   ]
  },
  {
   "cell_type": "code",
   "execution_count": 42,
   "metadata": {},
   "outputs": [],
   "source": [
    "df['primaryTopic'] = topics.idxmax(axis=1)"
   ]
  },
  {
   "cell_type": "code",
   "execution_count": 43,
   "metadata": {
    "collapsed": false,
    "inputHidden": false,
    "jupyter": {
     "outputs_hidden": false
    },
    "outputHidden": false
   },
   "outputs": [
    {
     "data": {
      "text/html": [
       "<div>\n",
       "<style scoped>\n",
       "    .dataframe tbody tr th:only-of-type {\n",
       "        vertical-align: middle;\n",
       "    }\n",
       "\n",
       "    .dataframe tbody tr th {\n",
       "        vertical-align: top;\n",
       "    }\n",
       "\n",
       "    .dataframe thead th {\n",
       "        text-align: right;\n",
       "    }\n",
       "</style>\n",
       "<table border=\"1\" class=\"dataframe\">\n",
       "  <thead>\n",
       "    <tr style=\"text-align: right;\">\n",
       "      <th></th>\n",
       "      <th>stars</th>\n",
       "    </tr>\n",
       "    <tr>\n",
       "      <th>primaryTopic</th>\n",
       "      <th></th>\n",
       "    </tr>\n",
       "  </thead>\n",
       "  <tbody>\n",
       "    <tr>\n",
       "      <th>0</th>\n",
       "      <td>2.434962</td>\n",
       "    </tr>\n",
       "    <tr>\n",
       "      <th>1</th>\n",
       "      <td>4.588721</td>\n",
       "    </tr>\n",
       "    <tr>\n",
       "      <th>2</th>\n",
       "      <td>4.018605</td>\n",
       "    </tr>\n",
       "    <tr>\n",
       "      <th>3</th>\n",
       "      <td>3.357673</td>\n",
       "    </tr>\n",
       "    <tr>\n",
       "      <th>4</th>\n",
       "      <td>4.339879</td>\n",
       "    </tr>\n",
       "    <tr>\n",
       "      <th>5</th>\n",
       "      <td>4.188034</td>\n",
       "    </tr>\n",
       "    <tr>\n",
       "      <th>6</th>\n",
       "      <td>3.922255</td>\n",
       "    </tr>\n",
       "    <tr>\n",
       "      <th>7</th>\n",
       "      <td>3.675926</td>\n",
       "    </tr>\n",
       "    <tr>\n",
       "      <th>8</th>\n",
       "      <td>3.955994</td>\n",
       "    </tr>\n",
       "    <tr>\n",
       "      <th>9</th>\n",
       "      <td>3.866810</td>\n",
       "    </tr>\n",
       "  </tbody>\n",
       "</table>\n",
       "</div>"
      ],
      "text/plain": [
       "                 stars\n",
       "primaryTopic          \n",
       "0             2.434962\n",
       "1             4.588721\n",
       "2             4.018605\n",
       "3             3.357673\n",
       "4             4.339879\n",
       "5             4.188034\n",
       "6             3.922255\n",
       "7             3.675926\n",
       "8             3.955994\n",
       "9             3.866810"
      ]
     },
     "execution_count": 43,
     "metadata": {},
     "output_type": "execute_result"
    }
   ],
   "source": [
    "df[['primaryTopic', 'stars']].groupby('primaryTopic').mean()"
   ]
  },
  {
   "cell_type": "code",
   "execution_count": 44,
   "metadata": {},
   "outputs": [
    {
     "data": {
      "image/png": "[encoded data removed]",
      "text/plain": [
       "<Figure size 432x288 with 1 Axes>"
      ]
     },
     "metadata": {
      "needs_background": "light"
     },
     "output_type": "display_data"
    }
   ],
   "source": [
    "import seaborn as sns\n",
    "\n",
    "ax = sns.boxplot(x=\"primaryTopic\", y=\"stars\", data=df)"
   ]
  },
  {
   "cell_type": "markdown",
   "metadata": {},
   "source": [
    "## pyLDAvis \n",
    "From this vizualization we can interpret what each topic is mostly about and if topic overlap in using key terms, size of each circle indicates the distribution of key words in that topic in whole dataset. For start let's look at topics with no overlap in key terms. Topic 10 and Topic 3 have no overlaps with anyother topics, by covering our LDA topic analysis from last part, we can interpret topic 10 is mostly about \"Good time\", \"Good food\", by selecting topic 10 on pyLDAvis we can see fequency of the words use within topic 3 and by covering them it's safe to interpret that its either a topic about a nail salon with a good service or a ramen resturant with good service. We can get better results by improving our model to analyze this topic using a more accrurate key word frequency. Topic 3 seems to be about a hotel nice staff , nice rooms, and clients having nice time since \"nice\", \"rooms\" and \"time\" are among the words with most frequency. \n",
    "\n",
    "\n",
    "## Boxplot\n",
    "We can interpret the majority of star ratings among each topic. Going back to topic 3 and topic 10 we can interpret most of the star ratings for topic 3 (nail salon or a ramen restaurant) are among 3.5 to 5 stars which indicates a decent service quality. As far as topic 10 we can interpret most of the star ratings are above 3 with an average of 4 star reviews which "
   ]
  },
  {
   "cell_type": "markdown",
   "metadata": {},
   "source": [
    "## Stretch Goals\n",
    "\n",
    "Complete one of more of these to push your score towards a three: \n",
    "* Incorporate named entity recognition into your analysis\n",
    "* Compare vectorization methods in the classification section\n",
    "* Analyze more (or all) of the yelp dataset - this one is v. hard. \n",
    "* Use a generator object on the reviews file - this would help you with the analyzing the whole dataset.\n",
    "* Incorporate any of the other yelp dataset entities in your analysis (business, users, etc.)"
   ]
  },
  {
   "cell_type": "code",
   "execution_count": null,
   "metadata": {},
   "outputs": [],
   "source": []
  }
 ],
 "metadata": {
  "kernel_info": {
   "name": "u4-s1-nlp"
  },
  "kernelspec": {
   "display_name": "U4-S1-NLP",
   "language": "python",
   "name": "u4-s1-nlp"
  },
  "language_info": {
   "codemirror_mode": {
    "name": "ipython",
    "version": 3
   },
   "file_extension": ".py",
   "mimetype": "text/x-python",
   "name": "python",
   "nbconvert_exporter": "python",
   "pygments_lexer": "ipython3",
   "version": "3.7.0"
  },
  "nteract": {
   "version": "0.14.5"
  },
  "toc-autonumbering": false
 },
 "nbformat": 4,
 "nbformat_minor": 4
}
